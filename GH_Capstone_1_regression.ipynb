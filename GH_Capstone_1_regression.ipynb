{
 "cells": [
  {
   "cell_type": "markdown",
   "metadata": {},
   "source": [
    "\n",
    "# Predicting Accidents in New York City\n",
    "## Capstone Project 1\n",
    "### Gene Hopping\n",
    "### Springboard Data Science Career Track\n",
    "## Part 3: Model generation\n",
    "# Contents"
   ]
  },
  {
   "cell_type": "code",
   "execution_count": 1,
   "metadata": {},
   "outputs": [],
   "source": [
    "#Imports\n",
    "import pandas as pd\n",
    "import numpy as np\n",
    "import matplotlib.pyplot as plt\n",
    "import seaborn as sns\n",
    "from sklearn.model_selection import train_test_split, cross_val_score\n",
    "from sklearn.linear_model import LinearRegression, Lasso, lars_path\n",
    "from sklearn.ensemble import RandomForestRegressor, RandomForestClassifier\n",
    "from sklearn import metrics\n",
    "from sklearn.preprocessing import StandardScaler, PolynomialFeatures\n",
    "import scipy.stats as stats\n",
    "from datetime import date, time, timedelta, datetime\n",
    "from patsy import dmatrices\n",
    "import statsmodels.api as sm\n",
    "import statsmodels.formula.api as smf\n",
    "import pickle"
   ]
  },
  {
   "cell_type": "code",
   "execution_count": 2,
   "metadata": {},
   "outputs": [
    {
     "name": "stderr",
     "output_type": "stream",
     "text": [
      "/Users/genehopping/anaconda3/lib/python3.7/site-packages/IPython/core/interactiveshell.py:3049: DtypeWarning: Columns (4) have mixed types. Specify dtype option on import or set low_memory=False.\n",
      "  interactivity=interactivity, compiler=compiler, result=result)\n"
     ]
    }
   ],
   "source": [
    "#read in the data frames\n",
    "accident_df = pd.read_csv('accident_df.csv')\n",
    "#read in the traffic volume dataframe\n",
    "volume_df = pd.read_csv('final_volume_counts.csv')"
   ]
  },
  {
   "cell_type": "markdown",
   "metadata": {},
   "source": [
    "# Accident data"
   ]
  },
  {
   "cell_type": "code",
   "execution_count": 3,
   "metadata": {},
   "outputs": [
    {
     "data": {
      "text/html": [
       "<div>\n",
       "<style scoped>\n",
       "    .dataframe tbody tr th:only-of-type {\n",
       "        vertical-align: middle;\n",
       "    }\n",
       "\n",
       "    .dataframe tbody tr th {\n",
       "        vertical-align: top;\n",
       "    }\n",
       "\n",
       "    .dataframe thead th {\n",
       "        text-align: right;\n",
       "    }\n",
       "</style>\n",
       "<table border=\"1\" class=\"dataframe\">\n",
       "  <thead>\n",
       "    <tr style=\"text-align: right;\">\n",
       "      <th></th>\n",
       "      <th>datetime</th>\n",
       "      <th>date</th>\n",
       "      <th>time</th>\n",
       "      <th>borough</th>\n",
       "      <th>zip_code</th>\n",
       "      <th>latitude</th>\n",
       "      <th>longitude</th>\n",
       "      <th>location</th>\n",
       "      <th>on_street_name</th>\n",
       "      <th>cross_street_name</th>\n",
       "      <th>...</th>\n",
       "      <th>contributing_factor_vehicle_3</th>\n",
       "      <th>contributing_factor_vehicle_4</th>\n",
       "      <th>contributing_factor_vehicle_5</th>\n",
       "      <th>unique_key</th>\n",
       "      <th>vehicle_type_code_1</th>\n",
       "      <th>vehicle_type_code_2</th>\n",
       "      <th>vehicle_type_code_3</th>\n",
       "      <th>vehicle_type_code_4</th>\n",
       "      <th>vehicle_type_code_5</th>\n",
       "      <th>datetime.1</th>\n",
       "    </tr>\n",
       "  </thead>\n",
       "  <tbody>\n",
       "    <tr>\n",
       "      <th>0</th>\n",
       "      <td>2019-04-16 00:00:00</td>\n",
       "      <td>2019-04-16 00:00:00</td>\n",
       "      <td>0:00</td>\n",
       "      <td>MANHATTAN</td>\n",
       "      <td>10010</td>\n",
       "      <td>40.737885</td>\n",
       "      <td>-73.98091</td>\n",
       "      <td>(40.737885, -73.98091)</td>\n",
       "      <td>2 AVENUE</td>\n",
       "      <td>EAST 23 STREET</td>\n",
       "      <td>...</td>\n",
       "      <td>NaN</td>\n",
       "      <td>NaN</td>\n",
       "      <td>NaN</td>\n",
       "      <td>4116367</td>\n",
       "      <td>Sedan</td>\n",
       "      <td>Station Wagon/Sport Utility Vehicle</td>\n",
       "      <td>NaN</td>\n",
       "      <td>NaN</td>\n",
       "      <td>NaN</td>\n",
       "      <td>2019-04-16 00:00:00</td>\n",
       "    </tr>\n",
       "    <tr>\n",
       "      <th>1</th>\n",
       "      <td>2019-04-16 00:00:00</td>\n",
       "      <td>2019-04-16 00:00:00</td>\n",
       "      <td>0:00</td>\n",
       "      <td>QUEENS</td>\n",
       "      <td>11354</td>\n",
       "      <td>40.762756</td>\n",
       "      <td>-73.82261</td>\n",
       "      <td>(40.762756, -73.82261)</td>\n",
       "      <td>PARSONS BOULEVARD</td>\n",
       "      <td>38 AVENUE</td>\n",
       "      <td>...</td>\n",
       "      <td>NaN</td>\n",
       "      <td>NaN</td>\n",
       "      <td>NaN</td>\n",
       "      <td>4115878</td>\n",
       "      <td>Sedan</td>\n",
       "      <td>Box Truck</td>\n",
       "      <td>NaN</td>\n",
       "      <td>NaN</td>\n",
       "      <td>NaN</td>\n",
       "      <td>2019-04-16 00:00:00</td>\n",
       "    </tr>\n",
       "    <tr>\n",
       "      <th>2</th>\n",
       "      <td>2019-04-16 00:00:00</td>\n",
       "      <td>2019-04-16 00:00:00</td>\n",
       "      <td>0:00</td>\n",
       "      <td>QUEENS</td>\n",
       "      <td>11367</td>\n",
       "      <td>40.729404</td>\n",
       "      <td>-73.82282</td>\n",
       "      <td>(40.729404, -73.82282)</td>\n",
       "      <td>NaN</td>\n",
       "      <td>NaN</td>\n",
       "      <td>...</td>\n",
       "      <td>NaN</td>\n",
       "      <td>NaN</td>\n",
       "      <td>NaN</td>\n",
       "      <td>4115808</td>\n",
       "      <td>Station Wagon/Sport Utility Vehicle</td>\n",
       "      <td>Station Wagon/Sport Utility Vehicle</td>\n",
       "      <td>NaN</td>\n",
       "      <td>NaN</td>\n",
       "      <td>NaN</td>\n",
       "      <td>2019-04-16 00:00:00</td>\n",
       "    </tr>\n",
       "    <tr>\n",
       "      <th>3</th>\n",
       "      <td>2019-04-16 00:00:00</td>\n",
       "      <td>2019-04-16 00:00:00</td>\n",
       "      <td>0:00</td>\n",
       "      <td>QUEENS</td>\n",
       "      <td>11413</td>\n",
       "      <td>40.665485</td>\n",
       "      <td>-73.75374</td>\n",
       "      <td>(40.665485, -73.75374)</td>\n",
       "      <td>SOUTH CONDUIT AVENUE</td>\n",
       "      <td>224 STREET</td>\n",
       "      <td>...</td>\n",
       "      <td>NaN</td>\n",
       "      <td>NaN</td>\n",
       "      <td>NaN</td>\n",
       "      <td>4115916</td>\n",
       "      <td>Station Wagon/Sport Utility Vehicle</td>\n",
       "      <td>NaN</td>\n",
       "      <td>NaN</td>\n",
       "      <td>NaN</td>\n",
       "      <td>NaN</td>\n",
       "      <td>2019-04-16 00:00:00</td>\n",
       "    </tr>\n",
       "    <tr>\n",
       "      <th>4</th>\n",
       "      <td>2019-04-16 00:00:00</td>\n",
       "      <td>2019-04-16 00:00:00</td>\n",
       "      <td>0:00</td>\n",
       "      <td>NaN</td>\n",
       "      <td>NaN</td>\n",
       "      <td>40.810173</td>\n",
       "      <td>-73.95117</td>\n",
       "      <td>(40.810173, -73.95117)</td>\n",
       "      <td>WEST 125 STREET</td>\n",
       "      <td>NaN</td>\n",
       "      <td>...</td>\n",
       "      <td>NaN</td>\n",
       "      <td>NaN</td>\n",
       "      <td>NaN</td>\n",
       "      <td>4116309</td>\n",
       "      <td>Station Wagon/Sport Utility Vehicle</td>\n",
       "      <td>Taxi</td>\n",
       "      <td>NaN</td>\n",
       "      <td>NaN</td>\n",
       "      <td>NaN</td>\n",
       "      <td>2019-04-16 00:00:00</td>\n",
       "    </tr>\n",
       "  </tbody>\n",
       "</table>\n",
       "<p>5 rows × 31 columns</p>\n",
       "</div>"
      ],
      "text/plain": [
       "              datetime                 date  time    borough zip_code  \\\n",
       "0  2019-04-16 00:00:00  2019-04-16 00:00:00  0:00  MANHATTAN    10010   \n",
       "1  2019-04-16 00:00:00  2019-04-16 00:00:00  0:00     QUEENS    11354   \n",
       "2  2019-04-16 00:00:00  2019-04-16 00:00:00  0:00     QUEENS    11367   \n",
       "3  2019-04-16 00:00:00  2019-04-16 00:00:00  0:00     QUEENS    11413   \n",
       "4  2019-04-16 00:00:00  2019-04-16 00:00:00  0:00        NaN      NaN   \n",
       "\n",
       "    latitude  longitude                location  \\\n",
       "0  40.737885  -73.98091  (40.737885, -73.98091)   \n",
       "1  40.762756  -73.82261  (40.762756, -73.82261)   \n",
       "2  40.729404  -73.82282  (40.729404, -73.82282)   \n",
       "3  40.665485  -73.75374  (40.665485, -73.75374)   \n",
       "4  40.810173  -73.95117  (40.810173, -73.95117)   \n",
       "\n",
       "                     on_street_name cross_street_name  ...  \\\n",
       "0  2 AVENUE                            EAST 23 STREET  ...   \n",
       "1  PARSONS BOULEVARD                        38 AVENUE  ...   \n",
       "2                               NaN               NaN  ...   \n",
       "3  SOUTH CONDUIT AVENUE                    224 STREET  ...   \n",
       "4  WEST 125 STREET                                NaN  ...   \n",
       "\n",
       "  contributing_factor_vehicle_3  contributing_factor_vehicle_4  \\\n",
       "0                           NaN                            NaN   \n",
       "1                           NaN                            NaN   \n",
       "2                           NaN                            NaN   \n",
       "3                           NaN                            NaN   \n",
       "4                           NaN                            NaN   \n",
       "\n",
       "   contributing_factor_vehicle_5  unique_key  \\\n",
       "0                            NaN     4116367   \n",
       "1                            NaN     4115878   \n",
       "2                            NaN     4115808   \n",
       "3                            NaN     4115916   \n",
       "4                            NaN     4116309   \n",
       "\n",
       "                   vehicle_type_code_1                  vehicle_type_code_2  \\\n",
       "0                                Sedan  Station Wagon/Sport Utility Vehicle   \n",
       "1                                Sedan                            Box Truck   \n",
       "2  Station Wagon/Sport Utility Vehicle  Station Wagon/Sport Utility Vehicle   \n",
       "3  Station Wagon/Sport Utility Vehicle                                  NaN   \n",
       "4  Station Wagon/Sport Utility Vehicle                                 Taxi   \n",
       "\n",
       "   vehicle_type_code_3  vehicle_type_code_4  vehicle_type_code_5  \\\n",
       "0                  NaN                  NaN                  NaN   \n",
       "1                  NaN                  NaN                  NaN   \n",
       "2                  NaN                  NaN                  NaN   \n",
       "3                  NaN                  NaN                  NaN   \n",
       "4                  NaN                  NaN                  NaN   \n",
       "\n",
       "            datetime.1  \n",
       "0  2019-04-16 00:00:00  \n",
       "1  2019-04-16 00:00:00  \n",
       "2  2019-04-16 00:00:00  \n",
       "3  2019-04-16 00:00:00  \n",
       "4  2019-04-16 00:00:00  \n",
       "\n",
       "[5 rows x 31 columns]"
      ]
     },
     "execution_count": 3,
     "metadata": {},
     "output_type": "execute_result"
    }
   ],
   "source": [
    "accident_df.head()"
   ]
  },
  {
   "cell_type": "code",
   "execution_count": 4,
   "metadata": {},
   "outputs": [
    {
     "name": "stdout",
     "output_type": "stream",
     "text": [
      "<class 'pandas.core.frame.DataFrame'>\n",
      "RangeIndex: 1293105 entries, 0 to 1293104\n",
      "Data columns (total 31 columns):\n",
      "datetime                         1293105 non-null object\n",
      "date                             1293105 non-null object\n",
      "time                             1293105 non-null object\n",
      "borough                          1010383 non-null object\n",
      "zip_code                         1010225 non-null object\n",
      "latitude                         1293105 non-null float64\n",
      "longitude                        1293105 non-null float64\n",
      "location                         1293105 non-null object\n",
      "on_street_name                   1060568 non-null object\n",
      "cross_street_name                887188 non-null object\n",
      "off_street_name                  170677 non-null object\n",
      "number_of_persons_injured        1293090 non-null float64\n",
      "number_of_persons_killed         1293077 non-null float64\n",
      "number_of_pedestrians_injured    1293105 non-null int64\n",
      "number_of_pedestrians_killed     1293105 non-null int64\n",
      "number_of_cyclist_injured        1293105 non-null int64\n",
      "number_of_cyclist_killed         1293105 non-null int64\n",
      "number_of_motorist_injured       1293105 non-null int64\n",
      "number_of_motorist_killed        1293105 non-null int64\n",
      "contributing_factor_vehicle_1    1289718 non-null object\n",
      "contributing_factor_vehicle_2    1117802 non-null object\n",
      "contributing_factor_vehicle_3    82790 non-null object\n",
      "contributing_factor_vehicle_4    17297 non-null object\n",
      "contributing_factor_vehicle_5    4456 non-null object\n",
      "unique_key                       1293105 non-null int64\n",
      "vehicle_type_code_1              1288790 non-null object\n",
      "vehicle_type_code_2              1077661 non-null object\n",
      "vehicle_type_code_3              110230 non-null object\n",
      "vehicle_type_code_4              43173 non-null object\n",
      "vehicle_type_code_5              9172 non-null object\n",
      "datetime.1                       1293105 non-null object\n",
      "dtypes: float64(4), int64(7), object(20)\n",
      "memory usage: 305.8+ MB\n"
     ]
    }
   ],
   "source": [
    "accident_df.info()"
   ]
  },
  {
   "cell_type": "markdown",
   "metadata": {},
   "source": [
    "Many features were imported as the generic 'object' type. First, set the index to datetime and then create a new dataframe be reampling data by hour"
   ]
  },
  {
   "cell_type": "code",
   "execution_count": 5,
   "metadata": {},
   "outputs": [
    {
     "data": {
      "text/html": [
       "<div>\n",
       "<style scoped>\n",
       "    .dataframe tbody tr th:only-of-type {\n",
       "        vertical-align: middle;\n",
       "    }\n",
       "\n",
       "    .dataframe tbody tr th {\n",
       "        vertical-align: top;\n",
       "    }\n",
       "\n",
       "    .dataframe thead th {\n",
       "        text-align: right;\n",
       "    }\n",
       "</style>\n",
       "<table border=\"1\" class=\"dataframe\">\n",
       "  <thead>\n",
       "    <tr style=\"text-align: right;\">\n",
       "      <th></th>\n",
       "      <th>date</th>\n",
       "    </tr>\n",
       "    <tr>\n",
       "      <th>datetime</th>\n",
       "      <th></th>\n",
       "    </tr>\n",
       "  </thead>\n",
       "  <tbody>\n",
       "    <tr>\n",
       "      <th>2012-07-01 00:00:00</th>\n",
       "      <td>15</td>\n",
       "    </tr>\n",
       "    <tr>\n",
       "      <th>2012-07-01 01:00:00</th>\n",
       "      <td>11</td>\n",
       "    </tr>\n",
       "    <tr>\n",
       "      <th>2012-07-01 02:00:00</th>\n",
       "      <td>14</td>\n",
       "    </tr>\n",
       "    <tr>\n",
       "      <th>2012-07-01 03:00:00</th>\n",
       "      <td>17</td>\n",
       "    </tr>\n",
       "    <tr>\n",
       "      <th>2012-07-01 04:00:00</th>\n",
       "      <td>7</td>\n",
       "    </tr>\n",
       "  </tbody>\n",
       "</table>\n",
       "</div>"
      ],
      "text/plain": [
       "                     date\n",
       "datetime                 \n",
       "2012-07-01 00:00:00    15\n",
       "2012-07-01 01:00:00    11\n",
       "2012-07-01 02:00:00    14\n",
       "2012-07-01 03:00:00    17\n",
       "2012-07-01 04:00:00     7"
      ]
     },
     "execution_count": 5,
     "metadata": {},
     "output_type": "execute_result"
    }
   ],
   "source": [
    "accident_df = accident_df.set_index(pd.DatetimeIndex(accident_df['datetime']))\n",
    "accident_hourly_df = pd.DataFrame(accident_df['date'].resample('H').count())\n",
    "accident_hourly_df.head()"
   ]
  },
  {
   "cell_type": "code",
   "execution_count": null,
   "metadata": {},
   "outputs": [],
   "source": []
  },
  {
   "cell_type": "code",
   "execution_count": 6,
   "metadata": {},
   "outputs": [
    {
     "data": {
      "text/html": [
       "<div>\n",
       "<style scoped>\n",
       "    .dataframe tbody tr th:only-of-type {\n",
       "        vertical-align: middle;\n",
       "    }\n",
       "\n",
       "    .dataframe tbody tr th {\n",
       "        vertical-align: top;\n",
       "    }\n",
       "\n",
       "    .dataframe thead th {\n",
       "        text-align: right;\n",
       "    }\n",
       "</style>\n",
       "<table border=\"1\" class=\"dataframe\">\n",
       "  <thead>\n",
       "    <tr style=\"text-align: right;\">\n",
       "      <th></th>\n",
       "      <th>date</th>\n",
       "      <th>day_of_week</th>\n",
       "    </tr>\n",
       "    <tr>\n",
       "      <th>datetime</th>\n",
       "      <th></th>\n",
       "      <th></th>\n",
       "    </tr>\n",
       "  </thead>\n",
       "  <tbody>\n",
       "    <tr>\n",
       "      <th>2012-07-01 00:00:00</th>\n",
       "      <td>15</td>\n",
       "      <td>6</td>\n",
       "    </tr>\n",
       "    <tr>\n",
       "      <th>2012-07-01 01:00:00</th>\n",
       "      <td>11</td>\n",
       "      <td>6</td>\n",
       "    </tr>\n",
       "    <tr>\n",
       "      <th>2012-07-01 02:00:00</th>\n",
       "      <td>14</td>\n",
       "      <td>6</td>\n",
       "    </tr>\n",
       "    <tr>\n",
       "      <th>2012-07-01 03:00:00</th>\n",
       "      <td>17</td>\n",
       "      <td>6</td>\n",
       "    </tr>\n",
       "    <tr>\n",
       "      <th>2012-07-01 04:00:00</th>\n",
       "      <td>7</td>\n",
       "      <td>6</td>\n",
       "    </tr>\n",
       "  </tbody>\n",
       "</table>\n",
       "</div>"
      ],
      "text/plain": [
       "                     date  day_of_week\n",
       "datetime                              \n",
       "2012-07-01 00:00:00    15            6\n",
       "2012-07-01 01:00:00    11            6\n",
       "2012-07-01 02:00:00    14            6\n",
       "2012-07-01 03:00:00    17            6\n",
       "2012-07-01 04:00:00     7            6"
      ]
     },
     "execution_count": 6,
     "metadata": {},
     "output_type": "execute_result"
    }
   ],
   "source": [
    "#will need to rename accident count column. Add in day of the week for convenience\n",
    "accident_hourly_df['day_of_week'] = accident_hourly_df.index.dayofweek\n",
    "accident_hourly_df.head()"
   ]
  },
  {
   "cell_type": "code",
   "execution_count": 7,
   "metadata": {},
   "outputs": [
    {
     "data": {
      "text/html": [
       "<div>\n",
       "<style scoped>\n",
       "    .dataframe tbody tr th:only-of-type {\n",
       "        vertical-align: middle;\n",
       "    }\n",
       "\n",
       "    .dataframe tbody tr th {\n",
       "        vertical-align: top;\n",
       "    }\n",
       "\n",
       "    .dataframe thead th {\n",
       "        text-align: right;\n",
       "    }\n",
       "</style>\n",
       "<table border=\"1\" class=\"dataframe\">\n",
       "  <thead>\n",
       "    <tr style=\"text-align: right;\">\n",
       "      <th></th>\n",
       "      <th>datetime</th>\n",
       "      <th>accidents</th>\n",
       "      <th>day_of_week</th>\n",
       "    </tr>\n",
       "  </thead>\n",
       "  <tbody>\n",
       "    <tr>\n",
       "      <th>0</th>\n",
       "      <td>2012-07-01 00:00:00</td>\n",
       "      <td>15</td>\n",
       "      <td>6</td>\n",
       "    </tr>\n",
       "    <tr>\n",
       "      <th>1</th>\n",
       "      <td>2012-07-01 01:00:00</td>\n",
       "      <td>11</td>\n",
       "      <td>6</td>\n",
       "    </tr>\n",
       "    <tr>\n",
       "      <th>2</th>\n",
       "      <td>2012-07-01 02:00:00</td>\n",
       "      <td>14</td>\n",
       "      <td>6</td>\n",
       "    </tr>\n",
       "    <tr>\n",
       "      <th>3</th>\n",
       "      <td>2012-07-01 03:00:00</td>\n",
       "      <td>17</td>\n",
       "      <td>6</td>\n",
       "    </tr>\n",
       "    <tr>\n",
       "      <th>4</th>\n",
       "      <td>2012-07-01 04:00:00</td>\n",
       "      <td>7</td>\n",
       "      <td>6</td>\n",
       "    </tr>\n",
       "  </tbody>\n",
       "</table>\n",
       "</div>"
      ],
      "text/plain": [
       "             datetime  accidents  day_of_week\n",
       "0 2012-07-01 00:00:00         15            6\n",
       "1 2012-07-01 01:00:00         11            6\n",
       "2 2012-07-01 02:00:00         14            6\n",
       "3 2012-07-01 03:00:00         17            6\n",
       "4 2012-07-01 04:00:00          7            6"
      ]
     },
     "execution_count": 7,
     "metadata": {},
     "output_type": "execute_result"
    }
   ],
   "source": [
    "#sort out the columns titles.\n",
    "accident_hourly_df.reset_index(level=0, inplace=True)\n",
    "accident_hourly_df = accident_hourly_df.rename(columns={'date':'accidents'})\n",
    "accident_hourly_df.head()\n"
   ]
  },
  {
   "cell_type": "code",
   "execution_count": 8,
   "metadata": {},
   "outputs": [],
   "source": [
    "#mean_accident_hour_df = pd.DataFrame(accident_hourly_df['accidents'].groupby([accident_hourly_df['day_of_week'], \\\n",
    " #                               accident_hourly_df['datetime']]).mean())\n",
    "#mean_accident_hour_df.head()"
   ]
  },
  {
   "cell_type": "markdown",
   "metadata": {},
   "source": [
    "# Volume data"
   ]
  },
  {
   "cell_type": "code",
   "execution_count": 9,
   "metadata": {},
   "outputs": [
    {
     "data": {
      "text/html": [
       "<div>\n",
       "<style scoped>\n",
       "    .dataframe tbody tr th:only-of-type {\n",
       "        vertical-align: middle;\n",
       "    }\n",
       "\n",
       "    .dataframe tbody tr th {\n",
       "        vertical-align: top;\n",
       "    }\n",
       "\n",
       "    .dataframe thead th {\n",
       "        text-align: right;\n",
       "    }\n",
       "</style>\n",
       "<table border=\"1\" class=\"dataframe\">\n",
       "  <thead>\n",
       "    <tr style=\"text-align: right;\">\n",
       "      <th></th>\n",
       "      <th>datetime</th>\n",
       "      <th>date</th>\n",
       "      <th>time</th>\n",
       "      <th>volume</th>\n",
       "    </tr>\n",
       "  </thead>\n",
       "  <tbody>\n",
       "    <tr>\n",
       "      <th>0</th>\n",
       "      <td>2014-09-13 00:00:00</td>\n",
       "      <td>2014-09-13</td>\n",
       "      <td>00:00:00</td>\n",
       "      <td>22709</td>\n",
       "    </tr>\n",
       "    <tr>\n",
       "      <th>1</th>\n",
       "      <td>2014-09-13 01:00:00</td>\n",
       "      <td>2014-09-13</td>\n",
       "      <td>01:00:00</td>\n",
       "      <td>16322</td>\n",
       "    </tr>\n",
       "    <tr>\n",
       "      <th>2</th>\n",
       "      <td>2014-09-13 02:00:00</td>\n",
       "      <td>2014-09-13</td>\n",
       "      <td>02:00:00</td>\n",
       "      <td>12008</td>\n",
       "    </tr>\n",
       "    <tr>\n",
       "      <th>3</th>\n",
       "      <td>2014-09-13 03:00:00</td>\n",
       "      <td>2014-09-13</td>\n",
       "      <td>03:00:00</td>\n",
       "      <td>9937</td>\n",
       "    </tr>\n",
       "    <tr>\n",
       "      <th>4</th>\n",
       "      <td>2014-09-13 04:00:00</td>\n",
       "      <td>2014-09-13</td>\n",
       "      <td>04:00:00</td>\n",
       "      <td>11198</td>\n",
       "    </tr>\n",
       "  </tbody>\n",
       "</table>\n",
       "</div>"
      ],
      "text/plain": [
       "             datetime        date      time  volume\n",
       "0 2014-09-13 00:00:00  2014-09-13  00:00:00   22709\n",
       "1 2014-09-13 01:00:00  2014-09-13  01:00:00   16322\n",
       "2 2014-09-13 02:00:00  2014-09-13  02:00:00   12008\n",
       "3 2014-09-13 03:00:00  2014-09-13  03:00:00    9937\n",
       "4 2014-09-13 04:00:00  2014-09-13  04:00:00   11198"
      ]
     },
     "execution_count": 9,
     "metadata": {},
     "output_type": "execute_result"
    }
   ],
   "source": [
    "volume_df = volume_df.rename(columns={'count':'volume'})\n",
    "volume_df['datetime'] = volume_df['datetime'].astype('datetime64')\n",
    "volume_df.head()"
   ]
  },
  {
   "cell_type": "code",
   "execution_count": 10,
   "metadata": {},
   "outputs": [],
   "source": [
    "#Visualizing overlap of data\n",
    "#perform outer join to keep all  data. match on datetime.\n",
    "overlap_vol_df = volume_df[['date', 'time', 'volume']].copy()\n",
    "overlap_vol_df['vol_present'] = np.where(overlap_vol_df['volume'] >=5, 1, 0)"
   ]
  },
  {
   "cell_type": "code",
   "execution_count": 11,
   "metadata": {},
   "outputs": [
    {
     "data": {
      "text/plain": [
       "(7944, 7810)"
      ]
     },
     "execution_count": 11,
     "metadata": {},
     "output_type": "execute_result"
    }
   ],
   "source": [
    "len(overlap_vol_df), overlap_vol_df.vol_present.sum()"
   ]
  },
  {
   "cell_type": "code",
   "execution_count": 12,
   "metadata": {},
   "outputs": [
    {
     "data": {
      "text/html": [
       "<div>\n",
       "<style scoped>\n",
       "    .dataframe tbody tr th:only-of-type {\n",
       "        vertical-align: middle;\n",
       "    }\n",
       "\n",
       "    .dataframe tbody tr th {\n",
       "        vertical-align: top;\n",
       "    }\n",
       "\n",
       "    .dataframe thead th {\n",
       "        text-align: right;\n",
       "    }\n",
       "</style>\n",
       "<table border=\"1\" class=\"dataframe\">\n",
       "  <thead>\n",
       "    <tr style=\"text-align: right;\">\n",
       "      <th></th>\n",
       "      <th>date</th>\n",
       "      <th>time</th>\n",
       "      <th>volume</th>\n",
       "      <th>vol_present</th>\n",
       "    </tr>\n",
       "  </thead>\n",
       "  <tbody>\n",
       "    <tr>\n",
       "      <th>7939</th>\n",
       "      <td>2018-04-15</td>\n",
       "      <td>19:00:00</td>\n",
       "      <td>25500</td>\n",
       "      <td>1</td>\n",
       "    </tr>\n",
       "    <tr>\n",
       "      <th>7940</th>\n",
       "      <td>2018-04-15</td>\n",
       "      <td>20:00:00</td>\n",
       "      <td>22073</td>\n",
       "      <td>1</td>\n",
       "    </tr>\n",
       "    <tr>\n",
       "      <th>7941</th>\n",
       "      <td>2018-04-15</td>\n",
       "      <td>21:00:00</td>\n",
       "      <td>18295</td>\n",
       "      <td>1</td>\n",
       "    </tr>\n",
       "    <tr>\n",
       "      <th>7942</th>\n",
       "      <td>2018-04-15</td>\n",
       "      <td>22:00:00</td>\n",
       "      <td>14946</td>\n",
       "      <td>1</td>\n",
       "    </tr>\n",
       "    <tr>\n",
       "      <th>7943</th>\n",
       "      <td>2018-04-15</td>\n",
       "      <td>23:00:00</td>\n",
       "      <td>24938</td>\n",
       "      <td>1</td>\n",
       "    </tr>\n",
       "  </tbody>\n",
       "</table>\n",
       "</div>"
      ],
      "text/plain": [
       "            date      time  volume  vol_present\n",
       "7939  2018-04-15  19:00:00   25500            1\n",
       "7940  2018-04-15  20:00:00   22073            1\n",
       "7941  2018-04-15  21:00:00   18295            1\n",
       "7942  2018-04-15  22:00:00   14946            1\n",
       "7943  2018-04-15  23:00:00   24938            1"
      ]
     },
     "execution_count": 12,
     "metadata": {},
     "output_type": "execute_result"
    }
   ],
   "source": [
    "overlap_vol_df.tail()"
   ]
  },
  {
   "cell_type": "markdown",
   "metadata": {},
   "source": [
    "# Joining Data"
   ]
  },
  {
   "cell_type": "code",
   "execution_count": 13,
   "metadata": {},
   "outputs": [
    {
     "data": {
      "text/html": [
       "<div>\n",
       "<style scoped>\n",
       "    .dataframe tbody tr th:only-of-type {\n",
       "        vertical-align: middle;\n",
       "    }\n",
       "\n",
       "    .dataframe tbody tr th {\n",
       "        vertical-align: top;\n",
       "    }\n",
       "\n",
       "    .dataframe thead th {\n",
       "        text-align: right;\n",
       "    }\n",
       "</style>\n",
       "<table border=\"1\" class=\"dataframe\">\n",
       "  <thead>\n",
       "    <tr style=\"text-align: right;\">\n",
       "      <th></th>\n",
       "      <th>datetime</th>\n",
       "      <th>accidents</th>\n",
       "      <th>day_of_week</th>\n",
       "    </tr>\n",
       "  </thead>\n",
       "  <tbody>\n",
       "    <tr>\n",
       "      <th>0</th>\n",
       "      <td>2012-07-01 00:00:00</td>\n",
       "      <td>15</td>\n",
       "      <td>6</td>\n",
       "    </tr>\n",
       "    <tr>\n",
       "      <th>1</th>\n",
       "      <td>2012-07-01 01:00:00</td>\n",
       "      <td>11</td>\n",
       "      <td>6</td>\n",
       "    </tr>\n",
       "    <tr>\n",
       "      <th>2</th>\n",
       "      <td>2012-07-01 02:00:00</td>\n",
       "      <td>14</td>\n",
       "      <td>6</td>\n",
       "    </tr>\n",
       "    <tr>\n",
       "      <th>3</th>\n",
       "      <td>2012-07-01 03:00:00</td>\n",
       "      <td>17</td>\n",
       "      <td>6</td>\n",
       "    </tr>\n",
       "    <tr>\n",
       "      <th>4</th>\n",
       "      <td>2012-07-01 04:00:00</td>\n",
       "      <td>7</td>\n",
       "      <td>6</td>\n",
       "    </tr>\n",
       "  </tbody>\n",
       "</table>\n",
       "</div>"
      ],
      "text/plain": [
       "             datetime  accidents  day_of_week\n",
       "0 2012-07-01 00:00:00         15            6\n",
       "1 2012-07-01 01:00:00         11            6\n",
       "2 2012-07-01 02:00:00         14            6\n",
       "3 2012-07-01 03:00:00         17            6\n",
       "4 2012-07-01 04:00:00          7            6"
      ]
     },
     "execution_count": 13,
     "metadata": {},
     "output_type": "execute_result"
    }
   ],
   "source": [
    "accident_hourly_df.head()"
   ]
  },
  {
   "cell_type": "code",
   "execution_count": 14,
   "metadata": {},
   "outputs": [],
   "source": [
    "#perform inner join to keep only overlapping data. match on datetime.\n",
    "accident_merge = pd.merge(volume_df,\n",
    "                         accident_hourly_df[['accidents']],\n",
    "                            left_on=volume_df['datetime'],\n",
    "                            right_on=accident_hourly_df['datetime'],\n",
    "                            how='inner')"
   ]
  },
  {
   "cell_type": "code",
   "execution_count": 15,
   "metadata": {},
   "outputs": [
    {
     "data": {
      "text/html": [
       "<div>\n",
       "<style scoped>\n",
       "    .dataframe tbody tr th:only-of-type {\n",
       "        vertical-align: middle;\n",
       "    }\n",
       "\n",
       "    .dataframe tbody tr th {\n",
       "        vertical-align: top;\n",
       "    }\n",
       "\n",
       "    .dataframe thead th {\n",
       "        text-align: right;\n",
       "    }\n",
       "</style>\n",
       "<table border=\"1\" class=\"dataframe\">\n",
       "  <thead>\n",
       "    <tr style=\"text-align: right;\">\n",
       "      <th></th>\n",
       "      <th>key_0</th>\n",
       "      <th>datetime</th>\n",
       "      <th>date</th>\n",
       "      <th>time</th>\n",
       "      <th>volume</th>\n",
       "      <th>accidents</th>\n",
       "    </tr>\n",
       "  </thead>\n",
       "  <tbody>\n",
       "    <tr>\n",
       "      <th>0</th>\n",
       "      <td>2014-09-13 00:00:00</td>\n",
       "      <td>2014-09-13 00:00:00</td>\n",
       "      <td>2014-09-13</td>\n",
       "      <td>00:00:00</td>\n",
       "      <td>22709</td>\n",
       "      <td>17</td>\n",
       "    </tr>\n",
       "    <tr>\n",
       "      <th>1</th>\n",
       "      <td>2014-09-13 01:00:00</td>\n",
       "      <td>2014-09-13 01:00:00</td>\n",
       "      <td>2014-09-13</td>\n",
       "      <td>01:00:00</td>\n",
       "      <td>16322</td>\n",
       "      <td>21</td>\n",
       "    </tr>\n",
       "    <tr>\n",
       "      <th>2</th>\n",
       "      <td>2014-09-13 02:00:00</td>\n",
       "      <td>2014-09-13 02:00:00</td>\n",
       "      <td>2014-09-13</td>\n",
       "      <td>02:00:00</td>\n",
       "      <td>12008</td>\n",
       "      <td>10</td>\n",
       "    </tr>\n",
       "    <tr>\n",
       "      <th>3</th>\n",
       "      <td>2014-09-13 03:00:00</td>\n",
       "      <td>2014-09-13 03:00:00</td>\n",
       "      <td>2014-09-13</td>\n",
       "      <td>03:00:00</td>\n",
       "      <td>9937</td>\n",
       "      <td>7</td>\n",
       "    </tr>\n",
       "    <tr>\n",
       "      <th>4</th>\n",
       "      <td>2014-09-13 04:00:00</td>\n",
       "      <td>2014-09-13 04:00:00</td>\n",
       "      <td>2014-09-13</td>\n",
       "      <td>04:00:00</td>\n",
       "      <td>11198</td>\n",
       "      <td>15</td>\n",
       "    </tr>\n",
       "  </tbody>\n",
       "</table>\n",
       "</div>"
      ],
      "text/plain": [
       "                key_0            datetime        date      time  volume  \\\n",
       "0 2014-09-13 00:00:00 2014-09-13 00:00:00  2014-09-13  00:00:00   22709   \n",
       "1 2014-09-13 01:00:00 2014-09-13 01:00:00  2014-09-13  01:00:00   16322   \n",
       "2 2014-09-13 02:00:00 2014-09-13 02:00:00  2014-09-13  02:00:00   12008   \n",
       "3 2014-09-13 03:00:00 2014-09-13 03:00:00  2014-09-13  03:00:00    9937   \n",
       "4 2014-09-13 04:00:00 2014-09-13 04:00:00  2014-09-13  04:00:00   11198   \n",
       "\n",
       "   accidents  \n",
       "0         17  \n",
       "1         21  \n",
       "2         10  \n",
       "3          7  \n",
       "4         15  "
      ]
     },
     "execution_count": 15,
     "metadata": {},
     "output_type": "execute_result"
    }
   ],
   "source": [
    "accident_merge.head()"
   ]
  },
  {
   "cell_type": "code",
   "execution_count": 16,
   "metadata": {},
   "outputs": [
    {
     "name": "stdout",
     "output_type": "stream",
     "text": [
      "Length of accident dataframe: 59544\n",
      "Length of volume dataframe: 7944\n",
      "Length of merged dataframe: 7944\n"
     ]
    }
   ],
   "source": [
    "#check lengths\n",
    "len_accident_merge = len(accident_merge)\n",
    "len_vol = len(volume_df)\n",
    "len_accident = len(accident_hourly_df)\n",
    "print(f'Length of accident dataframe: {len_accident}\\nLength of volume dataframe: {len_vol}\\\n",
    "\\nLength of merged dataframe: {len_accident_merge}')"
   ]
  },
  {
   "cell_type": "markdown",
   "metadata": {},
   "source": [
    "Clean the above dataframe up to contain just volume, date, time and number of accidents. This is the base data used for the model building."
   ]
  },
  {
   "cell_type": "code",
   "execution_count": 17,
   "metadata": {},
   "outputs": [],
   "source": [
    "#Select columns to keep in final df - want date and time so can split time into dummy variables\n",
    "accident_reg_df = accident_merge[['volume', 'date', 'time', 'accidents']]\n",
    "merged_by_hour = accident_reg_df.copy()\n",
    "accident_volume_df = accident_reg_df.copy()"
   ]
  },
  {
   "cell_type": "code",
   "execution_count": 18,
   "metadata": {},
   "outputs": [
    {
     "data": {
      "text/html": [
       "<div>\n",
       "<style scoped>\n",
       "    .dataframe tbody tr th:only-of-type {\n",
       "        vertical-align: middle;\n",
       "    }\n",
       "\n",
       "    .dataframe tbody tr th {\n",
       "        vertical-align: top;\n",
       "    }\n",
       "\n",
       "    .dataframe thead th {\n",
       "        text-align: right;\n",
       "    }\n",
       "</style>\n",
       "<table border=\"1\" class=\"dataframe\">\n",
       "  <thead>\n",
       "    <tr style=\"text-align: right;\">\n",
       "      <th></th>\n",
       "      <th>volume</th>\n",
       "      <th>date</th>\n",
       "      <th>time</th>\n",
       "      <th>accidents</th>\n",
       "    </tr>\n",
       "  </thead>\n",
       "  <tbody>\n",
       "    <tr>\n",
       "      <th>0</th>\n",
       "      <td>22709</td>\n",
       "      <td>2014-09-13</td>\n",
       "      <td>00:00:00</td>\n",
       "      <td>17</td>\n",
       "    </tr>\n",
       "    <tr>\n",
       "      <th>1</th>\n",
       "      <td>16322</td>\n",
       "      <td>2014-09-13</td>\n",
       "      <td>01:00:00</td>\n",
       "      <td>21</td>\n",
       "    </tr>\n",
       "    <tr>\n",
       "      <th>2</th>\n",
       "      <td>12008</td>\n",
       "      <td>2014-09-13</td>\n",
       "      <td>02:00:00</td>\n",
       "      <td>10</td>\n",
       "    </tr>\n",
       "    <tr>\n",
       "      <th>3</th>\n",
       "      <td>9937</td>\n",
       "      <td>2014-09-13</td>\n",
       "      <td>03:00:00</td>\n",
       "      <td>7</td>\n",
       "    </tr>\n",
       "    <tr>\n",
       "      <th>4</th>\n",
       "      <td>11198</td>\n",
       "      <td>2014-09-13</td>\n",
       "      <td>04:00:00</td>\n",
       "      <td>15</td>\n",
       "    </tr>\n",
       "  </tbody>\n",
       "</table>\n",
       "</div>"
      ],
      "text/plain": [
       "   volume        date      time  accidents\n",
       "0   22709  2014-09-13  00:00:00         17\n",
       "1   16322  2014-09-13  01:00:00         21\n",
       "2   12008  2014-09-13  02:00:00         10\n",
       "3    9937  2014-09-13  03:00:00          7\n",
       "4   11198  2014-09-13  04:00:00         15"
      ]
     },
     "execution_count": 18,
     "metadata": {},
     "output_type": "execute_result"
    }
   ],
   "source": [
    "accident_reg_df.head()"
   ]
  },
  {
   "cell_type": "code",
   "execution_count": 19,
   "metadata": {},
   "outputs": [],
   "source": [
    "#write dataframe to disk\n",
    "\n",
    "accident_reg_df.to_csv(path_or_buf='accident_reg_df.csv')"
   ]
  },
  {
   "cell_type": "code",
   "execution_count": 20,
   "metadata": {},
   "outputs": [
    {
     "data": {
      "text/plain": [
       "Text(0, 0.5, 'Accidents')"
      ]
     },
     "execution_count": 20,
     "metadata": {},
     "output_type": "execute_result"
    },
    {
     "data": {
      "image/png": "[encoded data removed]",
      "text/plain": [
       "<Figure size 864x432 with 2 Axes>"
      ]
     },
     "metadata": {
      "needs_background": "light"
     },
     "output_type": "display_data"
    }
   ],
   "source": [
    "#look at both volume and accidents summed for each hour of the day. Divide by max to\n",
    "# get faction max value so can see if have same general trend\n",
    "summed_by_hour = merged_by_hour.groupby(['time']).sum()\n",
    "\n",
    "#plt.scatter(summed_by_hour.volume, summed_by_hour.accidents)\n",
    "plt.figure(figsize=(12,6))\n",
    "plt.subplot(1,2,1)\n",
    "plt.bar(summed_by_hour.index, summed_by_hour.volume/summed_by_hour.volume.max(), label='volume')\n",
    "plt.bar(summed_by_hour.index, summed_by_hour.accidents/summed_by_hour.accidents.max(), alpha=0.8, \\\n",
    "        label='accidents')\n",
    "plt.title('Fraction of max accidents and traffic volume')\n",
    "plt.xlabel('hour')\n",
    "plt.ylabel('fraction of maximum')\n",
    "_ = plt.xticks(rotation=90)\n",
    "plt.legend()\n",
    "plt.subplot(1,2,2)\n",
    "_ = plt.scatter(summed_by_hour.volume, summed_by_hour.accidents)\n",
    "plt.title('Traffic accidents vs volume')\n",
    "plt.xlabel('Volume')\n",
    "plt.ylabel('Accidents')"
   ]
  },
  {
   "cell_type": "markdown",
   "metadata": {},
   "source": [
    "Due to the orders of magnitude difference between accidents and number of cars on the road, we used the metric 'fraction max X' to adjust the values to be on the same scale. Data was summed for each hour, irrespective of the day. The bar plot on the left shows the bimodal distribution seen with each distribution, and the same general trend. When plotted against each other, there appears to be a linear relationship between the number of cars on the road and the number of accidents. There are some outliers, however, so let's investigate whether these are imply just outliers, or indicate increased risk of accidents."
   ]
  },
  {
   "cell_type": "code",
   "execution_count": 21,
   "metadata": {},
   "outputs": [],
   "source": [
    "#Want to build in 24 dummy variables for the regression to add the hour of the day as a feature\n",
    "#to the regression\n",
    "dum = pd.get_dummies(accident_reg_df['time'])\n",
    "accident_reg_df = pd.concat([accident_reg_df, dum], axis=1) \n",
    "accident_reg_df = accident_reg_df.drop(['time','date'], axis=1)"
   ]
  },
  {
   "cell_type": "code",
   "execution_count": 22,
   "metadata": {
    "scrolled": true
   },
   "outputs": [
    {
     "data": {
      "text/html": [
       "<div>\n",
       "<style scoped>\n",
       "    .dataframe tbody tr th:only-of-type {\n",
       "        vertical-align: middle;\n",
       "    }\n",
       "\n",
       "    .dataframe tbody tr th {\n",
       "        vertical-align: top;\n",
       "    }\n",
       "\n",
       "    .dataframe thead th {\n",
       "        text-align: right;\n",
       "    }\n",
       "</style>\n",
       "<table border=\"1\" class=\"dataframe\">\n",
       "  <thead>\n",
       "    <tr style=\"text-align: right;\">\n",
       "      <th></th>\n",
       "      <th>volume</th>\n",
       "      <th>accidents</th>\n",
       "      <th>00:00:00</th>\n",
       "      <th>01:00:00</th>\n",
       "      <th>02:00:00</th>\n",
       "      <th>03:00:00</th>\n",
       "      <th>04:00:00</th>\n",
       "      <th>05:00:00</th>\n",
       "      <th>06:00:00</th>\n",
       "      <th>07:00:00</th>\n",
       "      <th>...</th>\n",
       "      <th>14:00:00</th>\n",
       "      <th>15:00:00</th>\n",
       "      <th>16:00:00</th>\n",
       "      <th>17:00:00</th>\n",
       "      <th>18:00:00</th>\n",
       "      <th>19:00:00</th>\n",
       "      <th>20:00:00</th>\n",
       "      <th>21:00:00</th>\n",
       "      <th>22:00:00</th>\n",
       "      <th>23:00:00</th>\n",
       "    </tr>\n",
       "  </thead>\n",
       "  <tbody>\n",
       "    <tr>\n",
       "      <th>0</th>\n",
       "      <td>22709</td>\n",
       "      <td>17</td>\n",
       "      <td>1</td>\n",
       "      <td>0</td>\n",
       "      <td>0</td>\n",
       "      <td>0</td>\n",
       "      <td>0</td>\n",
       "      <td>0</td>\n",
       "      <td>0</td>\n",
       "      <td>0</td>\n",
       "      <td>...</td>\n",
       "      <td>0</td>\n",
       "      <td>0</td>\n",
       "      <td>0</td>\n",
       "      <td>0</td>\n",
       "      <td>0</td>\n",
       "      <td>0</td>\n",
       "      <td>0</td>\n",
       "      <td>0</td>\n",
       "      <td>0</td>\n",
       "      <td>0</td>\n",
       "    </tr>\n",
       "    <tr>\n",
       "      <th>1</th>\n",
       "      <td>16322</td>\n",
       "      <td>21</td>\n",
       "      <td>0</td>\n",
       "      <td>1</td>\n",
       "      <td>0</td>\n",
       "      <td>0</td>\n",
       "      <td>0</td>\n",
       "      <td>0</td>\n",
       "      <td>0</td>\n",
       "      <td>0</td>\n",
       "      <td>...</td>\n",
       "      <td>0</td>\n",
       "      <td>0</td>\n",
       "      <td>0</td>\n",
       "      <td>0</td>\n",
       "      <td>0</td>\n",
       "      <td>0</td>\n",
       "      <td>0</td>\n",
       "      <td>0</td>\n",
       "      <td>0</td>\n",
       "      <td>0</td>\n",
       "    </tr>\n",
       "    <tr>\n",
       "      <th>2</th>\n",
       "      <td>12008</td>\n",
       "      <td>10</td>\n",
       "      <td>0</td>\n",
       "      <td>0</td>\n",
       "      <td>1</td>\n",
       "      <td>0</td>\n",
       "      <td>0</td>\n",
       "      <td>0</td>\n",
       "      <td>0</td>\n",
       "      <td>0</td>\n",
       "      <td>...</td>\n",
       "      <td>0</td>\n",
       "      <td>0</td>\n",
       "      <td>0</td>\n",
       "      <td>0</td>\n",
       "      <td>0</td>\n",
       "      <td>0</td>\n",
       "      <td>0</td>\n",
       "      <td>0</td>\n",
       "      <td>0</td>\n",
       "      <td>0</td>\n",
       "    </tr>\n",
       "    <tr>\n",
       "      <th>3</th>\n",
       "      <td>9937</td>\n",
       "      <td>7</td>\n",
       "      <td>0</td>\n",
       "      <td>0</td>\n",
       "      <td>0</td>\n",
       "      <td>1</td>\n",
       "      <td>0</td>\n",
       "      <td>0</td>\n",
       "      <td>0</td>\n",
       "      <td>0</td>\n",
       "      <td>...</td>\n",
       "      <td>0</td>\n",
       "      <td>0</td>\n",
       "      <td>0</td>\n",
       "      <td>0</td>\n",
       "      <td>0</td>\n",
       "      <td>0</td>\n",
       "      <td>0</td>\n",
       "      <td>0</td>\n",
       "      <td>0</td>\n",
       "      <td>0</td>\n",
       "    </tr>\n",
       "    <tr>\n",
       "      <th>4</th>\n",
       "      <td>11198</td>\n",
       "      <td>15</td>\n",
       "      <td>0</td>\n",
       "      <td>0</td>\n",
       "      <td>0</td>\n",
       "      <td>0</td>\n",
       "      <td>1</td>\n",
       "      <td>0</td>\n",
       "      <td>0</td>\n",
       "      <td>0</td>\n",
       "      <td>...</td>\n",
       "      <td>0</td>\n",
       "      <td>0</td>\n",
       "      <td>0</td>\n",
       "      <td>0</td>\n",
       "      <td>0</td>\n",
       "      <td>0</td>\n",
       "      <td>0</td>\n",
       "      <td>0</td>\n",
       "      <td>0</td>\n",
       "      <td>0</td>\n",
       "    </tr>\n",
       "  </tbody>\n",
       "</table>\n",
       "<p>5 rows × 26 columns</p>\n",
       "</div>"
      ],
      "text/plain": [
       "   volume  accidents  00:00:00  01:00:00  02:00:00  03:00:00  04:00:00  \\\n",
       "0   22709         17         1         0         0         0         0   \n",
       "1   16322         21         0         1         0         0         0   \n",
       "2   12008         10         0         0         1         0         0   \n",
       "3    9937          7         0         0         0         1         0   \n",
       "4   11198         15         0         0         0         0         1   \n",
       "\n",
       "   05:00:00  06:00:00  07:00:00  ...  14:00:00  15:00:00  16:00:00  17:00:00  \\\n",
       "0         0         0         0  ...         0         0         0         0   \n",
       "1         0         0         0  ...         0         0         0         0   \n",
       "2         0         0         0  ...         0         0         0         0   \n",
       "3         0         0         0  ...         0         0         0         0   \n",
       "4         0         0         0  ...         0         0         0         0   \n",
       "\n",
       "   18:00:00  19:00:00  20:00:00  21:00:00  22:00:00  23:00:00  \n",
       "0         0         0         0         0         0         0  \n",
       "1         0         0         0         0         0         0  \n",
       "2         0         0         0         0         0         0  \n",
       "3         0         0         0         0         0         0  \n",
       "4         0         0         0         0         0         0  \n",
       "\n",
       "[5 rows x 26 columns]"
      ]
     },
     "execution_count": 22,
     "metadata": {},
     "output_type": "execute_result"
    }
   ],
   "source": [
    "accident_reg_df.to_csv(path_or_buf='accident_reg_df.csv')\n",
    "accident_reg_df.head()\n"
   ]
  },
  {
   "cell_type": "markdown",
   "metadata": {},
   "source": [
    "#  Linear Regression Model\n",
    "1. volume vs accident by day\n",
    "2. volume vs accident by hour by day\n",
    "3. volume vs accident by hour no day\n",
    "4. volume vs accident"
   ]
  },
  {
   "cell_type": "code",
   "execution_count": 23,
   "metadata": {},
   "outputs": [
    {
     "data": {
      "text/html": [
       "<div>\n",
       "<style scoped>\n",
       "    .dataframe tbody tr th:only-of-type {\n",
       "        vertical-align: middle;\n",
       "    }\n",
       "\n",
       "    .dataframe tbody tr th {\n",
       "        vertical-align: top;\n",
       "    }\n",
       "\n",
       "    .dataframe thead th {\n",
       "        text-align: right;\n",
       "    }\n",
       "</style>\n",
       "<table border=\"1\" class=\"dataframe\">\n",
       "  <thead>\n",
       "    <tr style=\"text-align: right;\">\n",
       "      <th></th>\n",
       "      <th>volume</th>\n",
       "      <th>accidents</th>\n",
       "    </tr>\n",
       "  </thead>\n",
       "  <tbody>\n",
       "    <tr>\n",
       "      <th>0</th>\n",
       "      <td>22709</td>\n",
       "      <td>17</td>\n",
       "    </tr>\n",
       "    <tr>\n",
       "      <th>1</th>\n",
       "      <td>16322</td>\n",
       "      <td>21</td>\n",
       "    </tr>\n",
       "    <tr>\n",
       "      <th>2</th>\n",
       "      <td>12008</td>\n",
       "      <td>10</td>\n",
       "    </tr>\n",
       "    <tr>\n",
       "      <th>3</th>\n",
       "      <td>9937</td>\n",
       "      <td>7</td>\n",
       "    </tr>\n",
       "    <tr>\n",
       "      <th>4</th>\n",
       "      <td>11198</td>\n",
       "      <td>15</td>\n",
       "    </tr>\n",
       "  </tbody>\n",
       "</table>\n",
       "</div>"
      ],
      "text/plain": [
       "   volume  accidents\n",
       "0   22709         17\n",
       "1   16322         21\n",
       "2   12008         10\n",
       "3    9937          7\n",
       "4   11198         15"
      ]
     },
     "execution_count": 23,
     "metadata": {},
     "output_type": "execute_result"
    }
   ],
   "source": [
    "accident_reg_df.head()\n",
    "vol_acc_df = accident_reg_df[['volume', 'accidents']]\n",
    "vol_acc_df.head()"
   ]
  },
  {
   "cell_type": "code",
   "execution_count": 24,
   "metadata": {},
   "outputs": [],
   "source": [
    "X1 = vol_acc_df.drop('accidents', axis=1)\n",
    "y1 = vol_acc_df[['accidents']]"
   ]
  },
  {
   "cell_type": "code",
   "execution_count": 25,
   "metadata": {},
   "outputs": [],
   "source": [
    "X1_train, X1_test, y1_train, y1_test = train_test_split(X1, y1, test_size=0.2, random_state=27)"
   ]
  },
  {
   "cell_type": "code",
   "execution_count": 26,
   "metadata": {},
   "outputs": [
    {
     "data": {
      "text/plain": [
       "LinearRegression(copy_X=True, fit_intercept=True, n_jobs=None, normalize=False)"
      ]
     },
     "execution_count": 26,
     "metadata": {},
     "output_type": "execute_result"
    }
   ],
   "source": [
    "reg = LinearRegression()\n",
    "reg.fit(X1_train, y1_train)\n"
   ]
  },
  {
   "cell_type": "code",
   "execution_count": 27,
   "metadata": {},
   "outputs": [
    {
     "data": {
      "text/plain": [
       "array([0.07780419, 0.0598735 , 0.07729829, 0.06744212, 0.06771651])"
      ]
     },
     "execution_count": 27,
     "metadata": {},
     "output_type": "execute_result"
    }
   ],
   "source": [
    "cv_results = cross_val_score(reg, X1_train, y1_train, cv=5)\n",
    "cv_results"
   ]
  },
  {
   "cell_type": "code",
   "execution_count": 28,
   "metadata": {},
   "outputs": [
    {
     "name": "stdout",
     "output_type": "stream",
     "text": [
      "Average cross_val_score is 0.07002691908411171\n"
     ]
    }
   ],
   "source": [
    "print(f'Average cross_val_score is {cv_results.mean()}')"
   ]
  },
  {
   "cell_type": "code",
   "execution_count": 29,
   "metadata": {},
   "outputs": [],
   "source": [
    "X1_score = reg.score(X1_train, y1_train)"
   ]
  },
  {
   "cell_type": "markdown",
   "metadata": {},
   "source": [
    "The number of cars on the road by itself is not a good predictor of traffic accidents.\n"
   ]
  },
  {
   "cell_type": "code",
   "execution_count": 30,
   "metadata": {},
   "outputs": [],
   "source": [
    "#We want to predict number of accidents, so remove that column from the df\n",
    "y2 = accident_reg_df[['accidents']]\n",
    "X2 = accident_reg_df.drop('accidents', axis=1)\n"
   ]
  },
  {
   "cell_type": "code",
   "execution_count": 31,
   "metadata": {},
   "outputs": [
    {
     "data": {
      "text/html": [
       "<div>\n",
       "<style scoped>\n",
       "    .dataframe tbody tr th:only-of-type {\n",
       "        vertical-align: middle;\n",
       "    }\n",
       "\n",
       "    .dataframe tbody tr th {\n",
       "        vertical-align: top;\n",
       "    }\n",
       "\n",
       "    .dataframe thead th {\n",
       "        text-align: right;\n",
       "    }\n",
       "</style>\n",
       "<table border=\"1\" class=\"dataframe\">\n",
       "  <thead>\n",
       "    <tr style=\"text-align: right;\">\n",
       "      <th></th>\n",
       "      <th>volume</th>\n",
       "      <th>00:00:00</th>\n",
       "      <th>01:00:00</th>\n",
       "      <th>02:00:00</th>\n",
       "      <th>03:00:00</th>\n",
       "      <th>04:00:00</th>\n",
       "      <th>05:00:00</th>\n",
       "      <th>06:00:00</th>\n",
       "      <th>07:00:00</th>\n",
       "      <th>08:00:00</th>\n",
       "      <th>...</th>\n",
       "      <th>14:00:00</th>\n",
       "      <th>15:00:00</th>\n",
       "      <th>16:00:00</th>\n",
       "      <th>17:00:00</th>\n",
       "      <th>18:00:00</th>\n",
       "      <th>19:00:00</th>\n",
       "      <th>20:00:00</th>\n",
       "      <th>21:00:00</th>\n",
       "      <th>22:00:00</th>\n",
       "      <th>23:00:00</th>\n",
       "    </tr>\n",
       "  </thead>\n",
       "  <tbody>\n",
       "    <tr>\n",
       "      <th>0</th>\n",
       "      <td>22709</td>\n",
       "      <td>1</td>\n",
       "      <td>0</td>\n",
       "      <td>0</td>\n",
       "      <td>0</td>\n",
       "      <td>0</td>\n",
       "      <td>0</td>\n",
       "      <td>0</td>\n",
       "      <td>0</td>\n",
       "      <td>0</td>\n",
       "      <td>...</td>\n",
       "      <td>0</td>\n",
       "      <td>0</td>\n",
       "      <td>0</td>\n",
       "      <td>0</td>\n",
       "      <td>0</td>\n",
       "      <td>0</td>\n",
       "      <td>0</td>\n",
       "      <td>0</td>\n",
       "      <td>0</td>\n",
       "      <td>0</td>\n",
       "    </tr>\n",
       "    <tr>\n",
       "      <th>1</th>\n",
       "      <td>16322</td>\n",
       "      <td>0</td>\n",
       "      <td>1</td>\n",
       "      <td>0</td>\n",
       "      <td>0</td>\n",
       "      <td>0</td>\n",
       "      <td>0</td>\n",
       "      <td>0</td>\n",
       "      <td>0</td>\n",
       "      <td>0</td>\n",
       "      <td>...</td>\n",
       "      <td>0</td>\n",
       "      <td>0</td>\n",
       "      <td>0</td>\n",
       "      <td>0</td>\n",
       "      <td>0</td>\n",
       "      <td>0</td>\n",
       "      <td>0</td>\n",
       "      <td>0</td>\n",
       "      <td>0</td>\n",
       "      <td>0</td>\n",
       "    </tr>\n",
       "    <tr>\n",
       "      <th>2</th>\n",
       "      <td>12008</td>\n",
       "      <td>0</td>\n",
       "      <td>0</td>\n",
       "      <td>1</td>\n",
       "      <td>0</td>\n",
       "      <td>0</td>\n",
       "      <td>0</td>\n",
       "      <td>0</td>\n",
       "      <td>0</td>\n",
       "      <td>0</td>\n",
       "      <td>...</td>\n",
       "      <td>0</td>\n",
       "      <td>0</td>\n",
       "      <td>0</td>\n",
       "      <td>0</td>\n",
       "      <td>0</td>\n",
       "      <td>0</td>\n",
       "      <td>0</td>\n",
       "      <td>0</td>\n",
       "      <td>0</td>\n",
       "      <td>0</td>\n",
       "    </tr>\n",
       "    <tr>\n",
       "      <th>3</th>\n",
       "      <td>9937</td>\n",
       "      <td>0</td>\n",
       "      <td>0</td>\n",
       "      <td>0</td>\n",
       "      <td>1</td>\n",
       "      <td>0</td>\n",
       "      <td>0</td>\n",
       "      <td>0</td>\n",
       "      <td>0</td>\n",
       "      <td>0</td>\n",
       "      <td>...</td>\n",
       "      <td>0</td>\n",
       "      <td>0</td>\n",
       "      <td>0</td>\n",
       "      <td>0</td>\n",
       "      <td>0</td>\n",
       "      <td>0</td>\n",
       "      <td>0</td>\n",
       "      <td>0</td>\n",
       "      <td>0</td>\n",
       "      <td>0</td>\n",
       "    </tr>\n",
       "    <tr>\n",
       "      <th>4</th>\n",
       "      <td>11198</td>\n",
       "      <td>0</td>\n",
       "      <td>0</td>\n",
       "      <td>0</td>\n",
       "      <td>0</td>\n",
       "      <td>1</td>\n",
       "      <td>0</td>\n",
       "      <td>0</td>\n",
       "      <td>0</td>\n",
       "      <td>0</td>\n",
       "      <td>...</td>\n",
       "      <td>0</td>\n",
       "      <td>0</td>\n",
       "      <td>0</td>\n",
       "      <td>0</td>\n",
       "      <td>0</td>\n",
       "      <td>0</td>\n",
       "      <td>0</td>\n",
       "      <td>0</td>\n",
       "      <td>0</td>\n",
       "      <td>0</td>\n",
       "    </tr>\n",
       "  </tbody>\n",
       "</table>\n",
       "<p>5 rows × 25 columns</p>\n",
       "</div>"
      ],
      "text/plain": [
       "   volume  00:00:00  01:00:00  02:00:00  03:00:00  04:00:00  05:00:00  \\\n",
       "0   22709         1         0         0         0         0         0   \n",
       "1   16322         0         1         0         0         0         0   \n",
       "2   12008         0         0         1         0         0         0   \n",
       "3    9937         0         0         0         1         0         0   \n",
       "4   11198         0         0         0         0         1         0   \n",
       "\n",
       "   06:00:00  07:00:00  08:00:00  ...  14:00:00  15:00:00  16:00:00  17:00:00  \\\n",
       "0         0         0         0  ...         0         0         0         0   \n",
       "1         0         0         0  ...         0         0         0         0   \n",
       "2         0         0         0  ...         0         0         0         0   \n",
       "3         0         0         0  ...         0         0         0         0   \n",
       "4         0         0         0  ...         0         0         0         0   \n",
       "\n",
       "   18:00:00  19:00:00  20:00:00  21:00:00  22:00:00  23:00:00  \n",
       "0         0         0         0         0         0         0  \n",
       "1         0         0         0         0         0         0  \n",
       "2         0         0         0         0         0         0  \n",
       "3         0         0         0         0         0         0  \n",
       "4         0         0         0         0         0         0  \n",
       "\n",
       "[5 rows x 25 columns]"
      ]
     },
     "execution_count": 31,
     "metadata": {},
     "output_type": "execute_result"
    }
   ],
   "source": [
    "X2.head()"
   ]
  },
  {
   "cell_type": "code",
   "execution_count": 32,
   "metadata": {},
   "outputs": [],
   "source": [
    "#Split the data\n",
    "X2_train, X2_test, y2_train, y2_test = train_test_split(X2, y2, test_size=0.2, random_state=27)"
   ]
  },
  {
   "cell_type": "code",
   "execution_count": 33,
   "metadata": {},
   "outputs": [
    {
     "data": {
      "text/plain": [
       "array([0.61925722, 0.62230174, 0.63535921, 0.6204647 , 0.64177003])"
      ]
     },
     "execution_count": 33,
     "metadata": {},
     "output_type": "execute_result"
    }
   ],
   "source": [
    "reg = LinearRegression(fit_intercept=False)\n",
    "m1 = reg.fit(X2_train,y2_train)\n",
    "\n",
    "# save the model to disk\n",
    "filename = 'linreg.sav'\n",
    "pickle.dump(m1, open(filename, 'wb'))\n",
    "\n",
    "cv_results = cross_val_score(reg, X2_train, y2_train, cv=5)\n",
    "cv_results"
   ]
  },
  {
   "cell_type": "code",
   "execution_count": 34,
   "metadata": {},
   "outputs": [],
   "source": [
    "X2_score = reg.score(X2_test, y2_test)\n"
   ]
  },
  {
   "cell_type": "code",
   "execution_count": 35,
   "metadata": {},
   "outputs": [
    {
     "name": "stdout",
     "output_type": "stream",
     "text": [
      "Scores: X1:0.07165203542571463, X2:0.6382223566919005\n"
     ]
    }
   ],
   "source": [
    "print(f'Scores: X1:{X1_score}, X2:{X2_score}')"
   ]
  },
  {
   "cell_type": "code",
   "execution_count": 36,
   "metadata": {},
   "outputs": [
    {
     "data": {
      "image/png": "[encoded data removed]",
      "text/plain": [
       "<Figure size 864x432 with 2 Axes>"
      ]
     },
     "metadata": {
      "needs_background": "light"
     },
     "output_type": "display_data"
    }
   ],
   "source": [
    "#Residual plot\n",
    "plt.figure(figsize=(12,6))\n",
    "plt.subplot(1,2,1)\n",
    "_ = plt.scatter(reg.predict(np.array(X2_test)), reg.predict(np.array(X2_test)) - np.array(y2_test), \\\n",
    "                                                       c='c', s = 40)\n",
    "plt.hlines(y=0, xmin=0, xmax=50)\n",
    "plt.title('Residual plot')\n",
    "plt.ylabel('Residual')\n",
    "plt.xlabel('Predicted value')\n",
    "plt.subplot(1,2,2)\n",
    "_ = plt.hist(reg.predict(np.array(X2_test)) - np.array(y2_test), bins=50)\n",
    "_ = plt.axvline(0, color='k')\n",
    "plt.title('Residual Distribution')\n",
    "plt.ylabel('Count')\n",
    "plt.xlabel('Residual Value')\n",
    "plt.savefig('qq_residuals.png')\n"
   ]
  },
  {
   "cell_type": "markdown",
   "metadata": {},
   "source": [
    "There pattern of residuals around 0 does not appear to be completely random, indicating some heteroscedasticity. The histogram appears to have some left skew, but appears somewhat normal. We will perform regression with the statsmodels package to report out the statistics."
   ]
  },
  {
   "cell_type": "code",
   "execution_count": 37,
   "metadata": {},
   "outputs": [
    {
     "name": "stdout",
     "output_type": "stream",
     "text": [
      "                            OLS Regression Results                            \n",
      "==============================================================================\n",
      "Dep. Variable:              accidents   R-squared:                       0.631\n",
      "Model:                            OLS   Adj. R-squared:                  0.629\n",
      "Method:                 Least Squares   F-statistic:                     450.3\n",
      "Date:                Fri, 06 Dec 2019   Prob (F-statistic):               0.00\n",
      "Time:                        12:49:03   Log-Likelihood:                -22503.\n",
      "No. Observations:                6355   AIC:                         4.506e+04\n",
      "Df Residuals:                    6330   BIC:                         4.523e+04\n",
      "Df Model:                          24                                         \n",
      "Covariance Type:            nonrobust                                         \n",
      "==============================================================================\n",
      "                 coef    std err          t      P>|t|      [0.025      0.975]\n",
      "------------------------------------------------------------------------------\n",
      "volume      6.516e-06   3.03e-06      2.153      0.031    5.83e-07    1.24e-05\n",
      "00:00:00      16.0076      0.514     31.169      0.000      15.001      17.014\n",
      "01:00:00       8.3836      0.517     16.222      0.000       7.371       9.397\n",
      "02:00:00       6.4413      0.503     12.810      0.000       5.456       7.427\n",
      "03:00:00       5.7979      0.515     11.265      0.000       4.789       6.807\n",
      "04:00:00       6.9365      0.506     13.719      0.000       5.945       7.928\n",
      "05:00:00       7.2924      0.512     14.252      0.000       6.289       8.295\n",
      "06:00:00      11.9816      0.521     22.992      0.000      10.960      13.003\n",
      "07:00:00      16.4309      0.534     30.760      0.000      15.384      17.478\n",
      "08:00:00      32.1448      0.518     62.021      0.000      31.129      33.161\n",
      "09:00:00      29.9522      0.539     55.617      0.000      28.896      31.008\n",
      "10:00:00      27.7584      0.534     51.985      0.000      26.712      28.805\n",
      "11:00:00      28.8716      0.513     56.284      0.000      27.866      29.877\n",
      "12:00:00      29.5714      0.536     55.125      0.000      28.520      30.623\n",
      "13:00:00      30.6969      0.532     57.715      0.000      29.654      31.740\n",
      "14:00:00      35.7505      0.530     67.403      0.000      34.711      36.790\n",
      "15:00:00      32.9186      0.552     59.636      0.000      31.837      34.001\n",
      "16:00:00      39.4237      0.539     73.126      0.000      38.367      40.481\n",
      "17:00:00      37.2260      0.536     69.481      0.000      36.176      38.276\n",
      "18:00:00      32.7042      0.527     62.010      0.000      31.670      33.738\n",
      "19:00:00      27.4305      0.537     51.075      0.000      26.378      28.483\n",
      "20:00:00      23.6251      0.522     45.234      0.000      22.601      24.649\n",
      "21:00:00      19.0211      0.530     35.871      0.000      17.982      20.061\n",
      "22:00:00      16.5156      0.521     31.707      0.000      15.495      17.537\n",
      "23:00:00      12.5392      0.548     22.876      0.000      11.465      13.614\n",
      "==============================================================================\n",
      "Omnibus:                      281.355   Durbin-Watson:                   1.978\n",
      "Prob(Omnibus):                  0.000   Jarque-Bera (JB):              548.689\n",
      "Skew:                           0.326   Prob(JB):                    7.14e-120\n",
      "Kurtosis:                       4.283   Cond. No.                     3.68e+05\n",
      "==============================================================================\n",
      "\n",
      "Warnings:\n",
      "[1] Standard Errors assume that the covariance matrix of the errors is correctly specified.\n",
      "[2] The condition number is large, 3.68e+05. This might indicate that there are\n",
      "strong multicollinearity or other numerical problems.\n"
     ]
    }
   ],
   "source": [
    "#Linear regression with statsmodel\n",
    "from statsmodels.formula.api import ols\n",
    "m2 = sm.OLS(y2_train, X2_train).fit()\n",
    "print(m2.summary())"
   ]
  },
  {
   "cell_type": "markdown",
   "metadata": {},
   "source": [
    "Note warning 2 above - the analyses indicate that there could be strong multicolinearity. This is most probably due to the strong correlation between the number of accidents at certain hours of the day."
   ]
  },
  {
   "cell_type": "code",
   "execution_count": 38,
   "metadata": {},
   "outputs": [
    {
     "data": {
      "text/plain": [
       "63.36054119281458"
      ]
     },
     "execution_count": 38,
     "metadata": {},
     "output_type": "execute_result"
    }
   ],
   "source": [
    "#Calc MSE\n",
    "\n",
    "metrics.mean_squared_error(y2_test, reg.predict(X2_test))"
   ]
  },
  {
   "cell_type": "code",
   "execution_count": 39,
   "metadata": {},
   "outputs": [
    {
     "data": {
      "text/html": [
       "<div>\n",
       "<style scoped>\n",
       "    .dataframe tbody tr th:only-of-type {\n",
       "        vertical-align: middle;\n",
       "    }\n",
       "\n",
       "    .dataframe tbody tr th {\n",
       "        vertical-align: top;\n",
       "    }\n",
       "\n",
       "    .dataframe thead th {\n",
       "        text-align: right;\n",
       "    }\n",
       "</style>\n",
       "<table border=\"1\" class=\"dataframe\">\n",
       "  <thead>\n",
       "    <tr style=\"text-align: right;\">\n",
       "      <th></th>\n",
       "      <th>volume</th>\n",
       "      <th>00:00:00</th>\n",
       "      <th>01:00:00</th>\n",
       "      <th>02:00:00</th>\n",
       "      <th>03:00:00</th>\n",
       "      <th>04:00:00</th>\n",
       "      <th>05:00:00</th>\n",
       "      <th>06:00:00</th>\n",
       "      <th>07:00:00</th>\n",
       "      <th>08:00:00</th>\n",
       "      <th>...</th>\n",
       "      <th>14:00:00</th>\n",
       "      <th>15:00:00</th>\n",
       "      <th>16:00:00</th>\n",
       "      <th>17:00:00</th>\n",
       "      <th>18:00:00</th>\n",
       "      <th>19:00:00</th>\n",
       "      <th>20:00:00</th>\n",
       "      <th>21:00:00</th>\n",
       "      <th>22:00:00</th>\n",
       "      <th>23:00:00</th>\n",
       "    </tr>\n",
       "  </thead>\n",
       "  <tbody>\n",
       "    <tr>\n",
       "      <th>7598</th>\n",
       "      <td>8481</td>\n",
       "      <td>0</td>\n",
       "      <td>0</td>\n",
       "      <td>0</td>\n",
       "      <td>0</td>\n",
       "      <td>0</td>\n",
       "      <td>0</td>\n",
       "      <td>0</td>\n",
       "      <td>0</td>\n",
       "      <td>0</td>\n",
       "      <td>...</td>\n",
       "      <td>1</td>\n",
       "      <td>0</td>\n",
       "      <td>0</td>\n",
       "      <td>0</td>\n",
       "      <td>0</td>\n",
       "      <td>0</td>\n",
       "      <td>0</td>\n",
       "      <td>0</td>\n",
       "      <td>0</td>\n",
       "      <td>0</td>\n",
       "    </tr>\n",
       "    <tr>\n",
       "      <th>4462</th>\n",
       "      <td>9896</td>\n",
       "      <td>0</td>\n",
       "      <td>0</td>\n",
       "      <td>0</td>\n",
       "      <td>0</td>\n",
       "      <td>0</td>\n",
       "      <td>0</td>\n",
       "      <td>0</td>\n",
       "      <td>0</td>\n",
       "      <td>0</td>\n",
       "      <td>...</td>\n",
       "      <td>0</td>\n",
       "      <td>0</td>\n",
       "      <td>0</td>\n",
       "      <td>0</td>\n",
       "      <td>0</td>\n",
       "      <td>0</td>\n",
       "      <td>0</td>\n",
       "      <td>0</td>\n",
       "      <td>1</td>\n",
       "      <td>0</td>\n",
       "    </tr>\n",
       "    <tr>\n",
       "      <th>7236</th>\n",
       "      <td>7734</td>\n",
       "      <td>0</td>\n",
       "      <td>0</td>\n",
       "      <td>0</td>\n",
       "      <td>0</td>\n",
       "      <td>0</td>\n",
       "      <td>0</td>\n",
       "      <td>0</td>\n",
       "      <td>0</td>\n",
       "      <td>0</td>\n",
       "      <td>...</td>\n",
       "      <td>0</td>\n",
       "      <td>0</td>\n",
       "      <td>0</td>\n",
       "      <td>0</td>\n",
       "      <td>0</td>\n",
       "      <td>0</td>\n",
       "      <td>0</td>\n",
       "      <td>0</td>\n",
       "      <td>0</td>\n",
       "      <td>0</td>\n",
       "    </tr>\n",
       "    <tr>\n",
       "      <th>3311</th>\n",
       "      <td>9730</td>\n",
       "      <td>0</td>\n",
       "      <td>0</td>\n",
       "      <td>0</td>\n",
       "      <td>0</td>\n",
       "      <td>0</td>\n",
       "      <td>0</td>\n",
       "      <td>0</td>\n",
       "      <td>0</td>\n",
       "      <td>0</td>\n",
       "      <td>...</td>\n",
       "      <td>0</td>\n",
       "      <td>0</td>\n",
       "      <td>0</td>\n",
       "      <td>0</td>\n",
       "      <td>0</td>\n",
       "      <td>0</td>\n",
       "      <td>0</td>\n",
       "      <td>0</td>\n",
       "      <td>0</td>\n",
       "      <td>1</td>\n",
       "    </tr>\n",
       "    <tr>\n",
       "      <th>231</th>\n",
       "      <td>46526</td>\n",
       "      <td>0</td>\n",
       "      <td>0</td>\n",
       "      <td>0</td>\n",
       "      <td>0</td>\n",
       "      <td>0</td>\n",
       "      <td>0</td>\n",
       "      <td>0</td>\n",
       "      <td>0</td>\n",
       "      <td>0</td>\n",
       "      <td>...</td>\n",
       "      <td>0</td>\n",
       "      <td>1</td>\n",
       "      <td>0</td>\n",
       "      <td>0</td>\n",
       "      <td>0</td>\n",
       "      <td>0</td>\n",
       "      <td>0</td>\n",
       "      <td>0</td>\n",
       "      <td>0</td>\n",
       "      <td>0</td>\n",
       "    </tr>\n",
       "  </tbody>\n",
       "</table>\n",
       "<p>5 rows × 25 columns</p>\n",
       "</div>"
      ],
      "text/plain": [
       "      volume  00:00:00  01:00:00  02:00:00  03:00:00  04:00:00  05:00:00  \\\n",
       "7598    8481         0         0         0         0         0         0   \n",
       "4462    9896         0         0         0         0         0         0   \n",
       "7236    7734         0         0         0         0         0         0   \n",
       "3311    9730         0         0         0         0         0         0   \n",
       "231    46526         0         0         0         0         0         0   \n",
       "\n",
       "      06:00:00  07:00:00  08:00:00  ...  14:00:00  15:00:00  16:00:00  \\\n",
       "7598         0         0         0  ...         1         0         0   \n",
       "4462         0         0         0  ...         0         0         0   \n",
       "7236         0         0         0  ...         0         0         0   \n",
       "3311         0         0         0  ...         0         0         0   \n",
       "231          0         0         0  ...         0         1         0   \n",
       "\n",
       "      17:00:00  18:00:00  19:00:00  20:00:00  21:00:00  22:00:00  23:00:00  \n",
       "7598         0         0         0         0         0         0         0  \n",
       "4462         0         0         0         0         0         1         0  \n",
       "7236         0         0         0         0         0         0         0  \n",
       "3311         0         0         0         0         0         0         1  \n",
       "231          0         0         0         0         0         0         0  \n",
       "\n",
       "[5 rows x 25 columns]"
      ]
     },
     "execution_count": 39,
     "metadata": {},
     "output_type": "execute_result"
    }
   ],
   "source": [
    "X2_train.head()"
   ]
  },
  {
   "cell_type": "code",
   "execution_count": 40,
   "metadata": {},
   "outputs": [
    {
     "data": {
      "text/html": [
       "<div>\n",
       "<style scoped>\n",
       "    .dataframe tbody tr th:only-of-type {\n",
       "        vertical-align: middle;\n",
       "    }\n",
       "\n",
       "    .dataframe tbody tr th {\n",
       "        vertical-align: top;\n",
       "    }\n",
       "\n",
       "    .dataframe thead th {\n",
       "        text-align: right;\n",
       "    }\n",
       "</style>\n",
       "<table border=\"1\" class=\"dataframe\">\n",
       "  <thead>\n",
       "    <tr style=\"text-align: right;\">\n",
       "      <th></th>\n",
       "      <th>accidents</th>\n",
       "    </tr>\n",
       "  </thead>\n",
       "  <tbody>\n",
       "    <tr>\n",
       "      <th>806</th>\n",
       "      <td>29</td>\n",
       "    </tr>\n",
       "    <tr>\n",
       "      <th>3169</th>\n",
       "      <td>4</td>\n",
       "    </tr>\n",
       "    <tr>\n",
       "      <th>6789</th>\n",
       "      <td>21</td>\n",
       "    </tr>\n",
       "    <tr>\n",
       "      <th>2212</th>\n",
       "      <td>2</td>\n",
       "    </tr>\n",
       "    <tr>\n",
       "      <th>7547</th>\n",
       "      <td>32</td>\n",
       "    </tr>\n",
       "  </tbody>\n",
       "</table>\n",
       "</div>"
      ],
      "text/plain": [
       "      accidents\n",
       "806          29\n",
       "3169          4\n",
       "6789         21\n",
       "2212          2\n",
       "7547         32"
      ]
     },
     "execution_count": 40,
     "metadata": {},
     "output_type": "execute_result"
    }
   ],
   "source": [
    "y2_test.head()"
   ]
  },
  {
   "cell_type": "code",
   "execution_count": 41,
   "metadata": {},
   "outputs": [
    {
     "data": {
      "image/png": "[encoded data removed]",
      "text/plain": [
       "<Figure size 432x288 with 2 Axes>"
      ]
     },
     "metadata": {
      "needs_background": "light"
     },
     "output_type": "display_data"
    }
   ],
   "source": [
    "#QQ plot\n",
    "predictions = m2.get_prediction(X2_test)\n",
    "actual_data = y2_test['accidents']\n",
    "data = predictions.summary_frame()\n",
    "plt.subplot(1,2,1)\n",
    "plt.suptitle('Actual (left) and predicted (right) Y values')\n",
    "stats.probplot(actual_data, dist='norm', plot=plt)\n",
    "plt.subplot(1,2,2)\n",
    "stats.probplot(data['mean'], dist='norm', plot=plt)\n",
    "plt.savefig('qqplot.png')"
   ]
  },
  {
   "cell_type": "markdown",
   "metadata": {},
   "source": [
    "Now that we have established that a linear regression is a suitable model for the traffic accident data, we can perform lasso regularization to select important features of the dataset and shrink the less important ones. This will simplify our model and help us answer the question 'what time of day are you most likely to get into a car accident'."
   ]
  },
  {
   "cell_type": "markdown",
   "metadata": {},
   "source": [
    "# Lasso Regression"
   ]
  },
  {
   "cell_type": "code",
   "execution_count": 42,
   "metadata": {},
   "outputs": [],
   "source": [
    "#scaler = StandardScaler()\n",
    "#names= X2.columns\n",
    "#X2 = scaler.fit_transform(X2)"
   ]
  },
  {
   "cell_type": "code",
   "execution_count": null,
   "metadata": {},
   "outputs": [],
   "source": []
  },
  {
   "cell_type": "code",
   "execution_count": 43,
   "metadata": {},
   "outputs": [],
   "source": [
    "# Create a function called lasso,\n",
    "def lasso(alphas):\n",
    "    '''\n",
    "    Enter a list of alphas. Outputs a dataframe containing the coefficients of lasso \n",
    "    regressions for each alpha.\n",
    "    '''\n",
    "    # Create an empty data frame\n",
    "    coef = pd.DataFrame()\n",
    "    \n",
    "    # Create a column of feature names\n",
    "    coef['Feature Name'] = X2.columns\n",
    "    \n",
    "    # For each alpha value in the list of alpha values,\n",
    "    for alpha in alphas:\n",
    "        # Create a lasso regression with that alpha value,\n",
    "        lasso = Lasso(alpha=alpha)\n",
    "        lasso.fit(X2, y2) #fit regression\n",
    "        \n",
    "        # Create a column name for that alpha value\n",
    "        column_name = 'Alpha = %f' % alpha\n",
    "\n",
    "        # Create a column of coefficient values\n",
    "        coef[column_name] = lasso.coef_\n",
    "        \n",
    "    # Return the dataframe \n",
    "    return coef"
   ]
  },
  {
   "cell_type": "code",
   "execution_count": 44,
   "metadata": {},
   "outputs": [
    {
     "data": {
      "text/html": [
       "<div>\n",
       "<style scoped>\n",
       "    .dataframe tbody tr th:only-of-type {\n",
       "        vertical-align: middle;\n",
       "    }\n",
       "\n",
       "    .dataframe tbody tr th {\n",
       "        vertical-align: top;\n",
       "    }\n",
       "\n",
       "    .dataframe thead th {\n",
       "        text-align: right;\n",
       "    }\n",
       "</style>\n",
       "<table border=\"1\" class=\"dataframe\">\n",
       "  <thead>\n",
       "    <tr style=\"text-align: right;\">\n",
       "      <th></th>\n",
       "      <th>Feature Name</th>\n",
       "      <th>Alpha = 0.000100</th>\n",
       "      <th>Alpha = 0.250000</th>\n",
       "      <th>Alpha = 0.500000</th>\n",
       "    </tr>\n",
       "  </thead>\n",
       "  <tbody>\n",
       "    <tr>\n",
       "      <th>0</th>\n",
       "      <td>volume</td>\n",
       "      <td>0.000007</td>\n",
       "      <td>0.000056</td>\n",
       "      <td>0.000093</td>\n",
       "    </tr>\n",
       "    <tr>\n",
       "      <th>1</th>\n",
       "      <td>00:00:00</td>\n",
       "      <td>-9.695049</td>\n",
       "      <td>-1.190618</td>\n",
       "      <td>-0.000000</td>\n",
       "    </tr>\n",
       "    <tr>\n",
       "      <th>2</th>\n",
       "      <td>01:00:00</td>\n",
       "      <td>-17.008794</td>\n",
       "      <td>-8.211902</td>\n",
       "      <td>-0.051160</td>\n",
       "    </tr>\n",
       "    <tr>\n",
       "      <th>3</th>\n",
       "      <td>02:00:00</td>\n",
       "      <td>-19.085994</td>\n",
       "      <td>-10.114521</td>\n",
       "      <td>-1.820306</td>\n",
       "    </tr>\n",
       "    <tr>\n",
       "      <th>4</th>\n",
       "      <td>03:00:00</td>\n",
       "      <td>-19.702076</td>\n",
       "      <td>-10.667013</td>\n",
       "      <td>-2.324180</td>\n",
       "    </tr>\n",
       "    <tr>\n",
       "      <th>5</th>\n",
       "      <td>04:00:00</td>\n",
       "      <td>-18.612064</td>\n",
       "      <td>-9.663929</td>\n",
       "      <td>-1.387557</td>\n",
       "    </tr>\n",
       "    <tr>\n",
       "      <th>6</th>\n",
       "      <td>05:00:00</td>\n",
       "      <td>-18.061386</td>\n",
       "      <td>-9.417602</td>\n",
       "      <td>-1.373917</td>\n",
       "    </tr>\n",
       "    <tr>\n",
       "      <th>7</th>\n",
       "      <td>06:00:00</td>\n",
       "      <td>-13.679660</td>\n",
       "      <td>-5.607319</td>\n",
       "      <td>-0.000000</td>\n",
       "    </tr>\n",
       "    <tr>\n",
       "      <th>8</th>\n",
       "      <td>07:00:00</td>\n",
       "      <td>-9.295672</td>\n",
       "      <td>-1.696635</td>\n",
       "      <td>-0.000000</td>\n",
       "    </tr>\n",
       "    <tr>\n",
       "      <th>9</th>\n",
       "      <td>08:00:00</td>\n",
       "      <td>6.209323</td>\n",
       "      <td>1.663159</td>\n",
       "      <td>0.000000</td>\n",
       "    </tr>\n",
       "    <tr>\n",
       "      <th>10</th>\n",
       "      <td>09:00:00</td>\n",
       "      <td>4.764881</td>\n",
       "      <td>0.257772</td>\n",
       "      <td>0.000000</td>\n",
       "    </tr>\n",
       "    <tr>\n",
       "      <th>11</th>\n",
       "      <td>10:00:00</td>\n",
       "      <td>2.092746</td>\n",
       "      <td>0.000000</td>\n",
       "      <td>0.000000</td>\n",
       "    </tr>\n",
       "    <tr>\n",
       "      <th>12</th>\n",
       "      <td>11:00:00</td>\n",
       "      <td>3.039363</td>\n",
       "      <td>0.000000</td>\n",
       "      <td>0.000000</td>\n",
       "    </tr>\n",
       "    <tr>\n",
       "      <th>13</th>\n",
       "      <td>12:00:00</td>\n",
       "      <td>3.991576</td>\n",
       "      <td>0.000000</td>\n",
       "      <td>0.000000</td>\n",
       "    </tr>\n",
       "    <tr>\n",
       "      <th>14</th>\n",
       "      <td>13:00:00</td>\n",
       "      <td>5.225400</td>\n",
       "      <td>0.479195</td>\n",
       "      <td>0.000000</td>\n",
       "    </tr>\n",
       "    <tr>\n",
       "      <th>15</th>\n",
       "      <td>14:00:00</td>\n",
       "      <td>10.125671</td>\n",
       "      <td>5.234581</td>\n",
       "      <td>0.101133</td>\n",
       "    </tr>\n",
       "    <tr>\n",
       "      <th>16</th>\n",
       "      <td>15:00:00</td>\n",
       "      <td>7.405414</td>\n",
       "      <td>2.423276</td>\n",
       "      <td>0.000000</td>\n",
       "    </tr>\n",
       "    <tr>\n",
       "      <th>17</th>\n",
       "      <td>16:00:00</td>\n",
       "      <td>13.898231</td>\n",
       "      <td>8.897956</td>\n",
       "      <td>3.681033</td>\n",
       "    </tr>\n",
       "    <tr>\n",
       "      <th>18</th>\n",
       "      <td>17:00:00</td>\n",
       "      <td>11.624417</td>\n",
       "      <td>6.631743</td>\n",
       "      <td>1.420631</td>\n",
       "    </tr>\n",
       "    <tr>\n",
       "      <th>19</th>\n",
       "      <td>18:00:00</td>\n",
       "      <td>6.966194</td>\n",
       "      <td>2.058840</td>\n",
       "      <td>0.000000</td>\n",
       "    </tr>\n",
       "    <tr>\n",
       "      <th>20</th>\n",
       "      <td>19:00:00</td>\n",
       "      <td>1.951791</td>\n",
       "      <td>0.000000</td>\n",
       "      <td>0.000000</td>\n",
       "    </tr>\n",
       "    <tr>\n",
       "      <th>21</th>\n",
       "      <td>20:00:00</td>\n",
       "      <td>-1.974681</td>\n",
       "      <td>-0.000000</td>\n",
       "      <td>0.000000</td>\n",
       "    </tr>\n",
       "    <tr>\n",
       "      <th>22</th>\n",
       "      <td>21:00:00</td>\n",
       "      <td>-6.794658</td>\n",
       "      <td>-0.000000</td>\n",
       "      <td>-0.000000</td>\n",
       "    </tr>\n",
       "    <tr>\n",
       "      <th>23</th>\n",
       "      <td>22:00:00</td>\n",
       "      <td>-9.000777</td>\n",
       "      <td>-0.996430</td>\n",
       "      <td>-0.000000</td>\n",
       "    </tr>\n",
       "    <tr>\n",
       "      <th>24</th>\n",
       "      <td>23:00:00</td>\n",
       "      <td>-12.680983</td>\n",
       "      <td>-5.279074</td>\n",
       "      <td>-0.000000</td>\n",
       "    </tr>\n",
       "  </tbody>\n",
       "</table>\n",
       "</div>"
      ],
      "text/plain": [
       "   Feature Name  Alpha = 0.000100  Alpha = 0.250000  Alpha = 0.500000\n",
       "0        volume          0.000007          0.000056          0.000093\n",
       "1      00:00:00         -9.695049         -1.190618         -0.000000\n",
       "2      01:00:00        -17.008794         -8.211902         -0.051160\n",
       "3      02:00:00        -19.085994        -10.114521         -1.820306\n",
       "4      03:00:00        -19.702076        -10.667013         -2.324180\n",
       "5      04:00:00        -18.612064         -9.663929         -1.387557\n",
       "6      05:00:00        -18.061386         -9.417602         -1.373917\n",
       "7      06:00:00        -13.679660         -5.607319         -0.000000\n",
       "8      07:00:00         -9.295672         -1.696635         -0.000000\n",
       "9      08:00:00          6.209323          1.663159          0.000000\n",
       "10     09:00:00          4.764881          0.257772          0.000000\n",
       "11     10:00:00          2.092746          0.000000          0.000000\n",
       "12     11:00:00          3.039363          0.000000          0.000000\n",
       "13     12:00:00          3.991576          0.000000          0.000000\n",
       "14     13:00:00          5.225400          0.479195          0.000000\n",
       "15     14:00:00         10.125671          5.234581          0.101133\n",
       "16     15:00:00          7.405414          2.423276          0.000000\n",
       "17     16:00:00         13.898231          8.897956          3.681033\n",
       "18     17:00:00         11.624417          6.631743          1.420631\n",
       "19     18:00:00          6.966194          2.058840          0.000000\n",
       "20     19:00:00          1.951791          0.000000          0.000000\n",
       "21     20:00:00         -1.974681         -0.000000          0.000000\n",
       "22     21:00:00         -6.794658         -0.000000         -0.000000\n",
       "23     22:00:00         -9.000777         -0.996430         -0.000000\n",
       "24     23:00:00        -12.680983         -5.279074         -0.000000"
      ]
     },
     "execution_count": 44,
     "metadata": {},
     "output_type": "execute_result"
    }
   ],
   "source": [
    "df = pd.DataFrame(lasso([.0001, .25, .5]))\n",
    "df"
   ]
  },
  {
   "cell_type": "code",
   "execution_count": 45,
   "metadata": {},
   "outputs": [
    {
     "data": {
      "image/png": "[encoded data removed]",
      "text/plain": [
       "<Figure size 432x288 with 1 Axes>"
      ]
     },
     "metadata": {
      "needs_background": "light"
     },
     "output_type": "display_data"
    }
   ],
   "source": [
    "df.plot()\n",
    "plt.title('Efffect of alpha on coefficients')\n",
    "plt.xlabel('Feature')\n",
    "plt.ylabel('Coefficient value')\n",
    "plt.savefig('lasso_alphas.png')"
   ]
  },
  {
   "cell_type": "markdown",
   "metadata": {},
   "source": [
    "Regularization shrinks unimportant factors, and leaves us with the most important features for minimizing the loss function. Here we see that negative values for columns 4:7 and positive values for columns 18 and 19."
   ]
  },
  {
   "cell_type": "code",
   "execution_count": 46,
   "metadata": {},
   "outputs": [
    {
     "data": {
      "text/plain": [
       "(array([0.44056216, 0.4477757 , 0.45605889, 0.43715144, 0.45572481]),\n",
       " 0.4474545983860434)"
      ]
     },
     "execution_count": 46,
     "metadata": {},
     "output_type": "execute_result"
    }
   ],
   "source": [
    "reg3 = Lasso(alpha=.25)\n",
    "reg3.fit(X2_train, y2_train)\n",
    "cv_results = cross_val_score(reg3, X2_train, y2_train, cv=5)\n",
    "cv_results, cv_results.mean()\n"
   ]
  },
  {
   "cell_type": "code",
   "execution_count": 47,
   "metadata": {},
   "outputs": [
    {
     "data": {
      "text/plain": [
       "94.87809656708659"
      ]
     },
     "execution_count": 47,
     "metadata": {},
     "output_type": "execute_result"
    }
   ],
   "source": [
    "metrics.mean_squared_error(y2_test, reg3.predict(X2_test))"
   ]
  },
  {
   "cell_type": "code",
   "execution_count": 48,
   "metadata": {},
   "outputs": [
    {
     "data": {
      "image/png": "[encoded data removed]",
      "text/plain": [
       "<Figure size 432x288 with 1 Axes>"
      ]
     },
     "metadata": {
      "needs_background": "light"
     },
     "output_type": "display_data"
    }
   ],
   "source": [
    "#QQ plot\n",
    "predictions = reg3.predict(X2_test)\n",
    "\n",
    "_ = stats.probplot(predictions, dist='norm', plot=plt)\n",
    "plt.savefig('lasso_proba.png')"
   ]
  },
  {
   "cell_type": "code",
   "execution_count": 49,
   "metadata": {},
   "outputs": [
    {
     "data": {
      "text/plain": [
       "1589"
      ]
     },
     "execution_count": 49,
     "metadata": {},
     "output_type": "execute_result"
    }
   ],
   "source": [
    "len(predictions)"
   ]
  },
  {
   "cell_type": "code",
   "execution_count": null,
   "metadata": {},
   "outputs": [],
   "source": []
  },
  {
   "cell_type": "code",
   "execution_count": 50,
   "metadata": {},
   "outputs": [
    {
     "name": "stdout",
     "output_type": "stream",
     "text": [
      "                            OLS Regression Results                            \n",
      "==============================================================================\n",
      "Dep. Variable:              accidents   R-squared:                       0.523\n",
      "Model:                            OLS   Adj. R-squared:                  0.522\n",
      "Method:                 Least Squares   F-statistic:                     386.4\n",
      "Date:                Fri, 06 Dec 2019   Prob (F-statistic):               0.00\n",
      "Time:                        12:49:11   Log-Likelihood:                -23314.\n",
      "No. Observations:                6355   AIC:                         4.667e+04\n",
      "Df Residuals:                    6337   BIC:                         4.679e+04\n",
      "Df Model:                          18                                         \n",
      "Covariance Type:            nonrobust                                         \n",
      "==============================================================================\n",
      "                 coef    std err          t      P>|t|      [0.025      0.975]\n",
      "------------------------------------------------------------------------------\n",
      "volume      4.826e-05   3.24e-06     14.914      0.000    4.19e-05    5.46e-05\n",
      "00:00:00      15.1754      0.583     26.044      0.000      14.033      16.318\n",
      "01:00:00            0          0        nan        nan           0           0\n",
      "02:00:00            0          0        nan        nan           0           0\n",
      "03:00:00            0          0        nan        nan           0           0\n",
      "04:00:00            0          0        nan        nan           0           0\n",
      "05:00:00            0          0        nan        nan           0           0\n",
      "06:00:00            0          0        nan        nan           0           0\n",
      "07:00:00      14.8545      0.605     24.555      0.000      13.669      16.040\n",
      "08:00:00      30.4499      0.587     51.908      0.000      29.300      31.600\n",
      "09:00:00      28.1698      0.609     46.218      0.000      26.975      29.365\n",
      "10:00:00      26.0139      0.604     43.043      0.000      24.829      27.199\n",
      "11:00:00      27.8137      0.582     47.814      0.000      26.673      28.954\n",
      "12:00:00      27.7413      0.607     45.703      0.000      26.551      28.931\n",
      "13:00:00      28.8034      0.602     47.875      0.000      27.624      29.983\n",
      "14:00:00      33.6104      0.599     56.081      0.000      32.436      34.785\n",
      "15:00:00      30.8476      0.624     49.425      0.000      29.624      32.071\n",
      "16:00:00      37.3522      0.609     61.289      0.000      36.158      38.547\n",
      "17:00:00      35.1799      0.606     58.082      0.000      33.993      36.367\n",
      "18:00:00      30.6223      0.596     51.375      0.000      29.454      31.791\n",
      "19:00:00      25.6199      0.608     42.155      0.000      24.429      26.811\n",
      "20:00:00      21.9063      0.591     37.059      0.000      20.748      23.065\n",
      "21:00:00      17.5731      0.601     29.252      0.000      16.395      18.751\n",
      "22:00:00      15.1883      0.590     25.730      0.000      14.031      16.346\n",
      "23:00:00            0          0        nan        nan           0           0\n",
      "==============================================================================\n",
      "Omnibus:                       53.875   Durbin-Watson:                   1.875\n",
      "Prob(Omnibus):                  0.000   Jarque-Bera (JB):               75.756\n",
      "Skew:                          -0.101   Prob(JB):                     3.55e-17\n",
      "Kurtosis:                       3.495   Cond. No.                     3.68e+05\n",
      "==============================================================================\n",
      "\n",
      "Warnings:\n",
      "[1] Standard Errors assume that the covariance matrix of the errors is correctly specified.\n",
      "[2] The condition number is large, 3.68e+05. This might indicate that there are\n",
      "strong multicollinearity or other numerical problems.\n"
     ]
    },
    {
     "name": "stderr",
     "output_type": "stream",
     "text": [
      "/Users/genehopping/anaconda3/lib/python3.7/site-packages/statsmodels/base/model.py:1100: RuntimeWarning: invalid value encountered in true_divide\n",
      "  return self.params / self.bse\n",
      "/Users/genehopping/anaconda3/lib/python3.7/site-packages/scipy/stats/_distn_infrastructure.py:877: RuntimeWarning: invalid value encountered in greater\n",
      "  return (self.a < x) & (x < self.b)\n",
      "/Users/genehopping/anaconda3/lib/python3.7/site-packages/scipy/stats/_distn_infrastructure.py:877: RuntimeWarning: invalid value encountered in less\n",
      "  return (self.a < x) & (x < self.b)\n",
      "/Users/genehopping/anaconda3/lib/python3.7/site-packages/scipy/stats/_distn_infrastructure.py:1831: RuntimeWarning: invalid value encountered in less_equal\n",
      "  cond2 = cond0 & (x <= self.a)\n"
     ]
    }
   ],
   "source": [
    "#Laaso regularization with statsmodel\n",
    "\n",
    "m3 = sm.OLS(y2_train, X2_train).fit_regularized(method='elastic_net', alpha=0.25, \\\n",
    "        L1_wt=1, refit=True)\n",
    "print(m3.summary())"
   ]
  },
  {
   "cell_type": "code",
   "execution_count": 51,
   "metadata": {},
   "outputs": [
    {
     "data": {
      "text/plain": [
       "array([[8.4810e+03, 0.0000e+00, 0.0000e+00, ..., 0.0000e+00, 0.0000e+00,\n",
       "        0.0000e+00],\n",
       "       [9.8960e+03, 0.0000e+00, 0.0000e+00, ..., 0.0000e+00, 1.0000e+00,\n",
       "        0.0000e+00],\n",
       "       [7.7340e+03, 0.0000e+00, 0.0000e+00, ..., 0.0000e+00, 0.0000e+00,\n",
       "        0.0000e+00],\n",
       "       ...,\n",
       "       [0.0000e+00, 1.0000e+00, 0.0000e+00, ..., 0.0000e+00, 0.0000e+00,\n",
       "        0.0000e+00],\n",
       "       [2.0300e+02, 1.0000e+00, 0.0000e+00, ..., 0.0000e+00, 0.0000e+00,\n",
       "        0.0000e+00],\n",
       "       [1.8831e+04, 0.0000e+00, 0.0000e+00, ..., 0.0000e+00, 0.0000e+00,\n",
       "        0.0000e+00]])"
      ]
     },
     "execution_count": 51,
     "metadata": {},
     "output_type": "execute_result"
    }
   ],
   "source": [
    "np.array(X2_train, dtype='float')\n",
    "\n"
   ]
  },
  {
   "cell_type": "markdown",
   "metadata": {},
   "source": [
    "Talked about regression of traffic volume and accidents only without the hourly compnent"
   ]
  },
  {
   "cell_type": "markdown",
   "metadata": {},
   "source": [
    "# Poisson Regression"
   ]
  },
  {
   "cell_type": "markdown",
   "metadata": {},
   "source": [
    "Poisson regression is appropriate for count data where the mean and the variance of the data is the same."
   ]
  },
  {
   "cell_type": "code",
   "execution_count": 52,
   "metadata": {},
   "outputs": [
    {
     "name": "stdout",
     "output_type": "stream",
     "text": [
      "Mean:22.536002014098692, Variance:185.9803252044263\n"
     ]
    }
   ],
   "source": [
    "m = accident_reg_df.accidents.mean()\n",
    "v = (abs(accident_reg_df.accidents - accident_reg_df.accidents. mean())**2).mean()\n",
    "print(f'Mean:{m}, Variance:{v}')\n"
   ]
  },
  {
   "cell_type": "code",
   "execution_count": 53,
   "metadata": {},
   "outputs": [
    {
     "data": {
      "text/html": [
       "<div>\n",
       "<style scoped>\n",
       "    .dataframe tbody tr th:only-of-type {\n",
       "        vertical-align: middle;\n",
       "    }\n",
       "\n",
       "    .dataframe tbody tr th {\n",
       "        vertical-align: top;\n",
       "    }\n",
       "\n",
       "    .dataframe thead th {\n",
       "        text-align: right;\n",
       "    }\n",
       "</style>\n",
       "<table border=\"1\" class=\"dataframe\">\n",
       "  <thead>\n",
       "    <tr style=\"text-align: right;\">\n",
       "      <th></th>\n",
       "      <th>volume</th>\n",
       "      <th>00:00:00</th>\n",
       "      <th>01:00:00</th>\n",
       "      <th>02:00:00</th>\n",
       "      <th>03:00:00</th>\n",
       "      <th>04:00:00</th>\n",
       "      <th>05:00:00</th>\n",
       "      <th>06:00:00</th>\n",
       "      <th>07:00:00</th>\n",
       "      <th>08:00:00</th>\n",
       "      <th>...</th>\n",
       "      <th>14:00:00</th>\n",
       "      <th>15:00:00</th>\n",
       "      <th>16:00:00</th>\n",
       "      <th>17:00:00</th>\n",
       "      <th>18:00:00</th>\n",
       "      <th>19:00:00</th>\n",
       "      <th>20:00:00</th>\n",
       "      <th>21:00:00</th>\n",
       "      <th>22:00:00</th>\n",
       "      <th>23:00:00</th>\n",
       "    </tr>\n",
       "  </thead>\n",
       "  <tbody>\n",
       "    <tr>\n",
       "      <th>7598</th>\n",
       "      <td>8481</td>\n",
       "      <td>0</td>\n",
       "      <td>0</td>\n",
       "      <td>0</td>\n",
       "      <td>0</td>\n",
       "      <td>0</td>\n",
       "      <td>0</td>\n",
       "      <td>0</td>\n",
       "      <td>0</td>\n",
       "      <td>0</td>\n",
       "      <td>...</td>\n",
       "      <td>1</td>\n",
       "      <td>0</td>\n",
       "      <td>0</td>\n",
       "      <td>0</td>\n",
       "      <td>0</td>\n",
       "      <td>0</td>\n",
       "      <td>0</td>\n",
       "      <td>0</td>\n",
       "      <td>0</td>\n",
       "      <td>0</td>\n",
       "    </tr>\n",
       "    <tr>\n",
       "      <th>4462</th>\n",
       "      <td>9896</td>\n",
       "      <td>0</td>\n",
       "      <td>0</td>\n",
       "      <td>0</td>\n",
       "      <td>0</td>\n",
       "      <td>0</td>\n",
       "      <td>0</td>\n",
       "      <td>0</td>\n",
       "      <td>0</td>\n",
       "      <td>0</td>\n",
       "      <td>...</td>\n",
       "      <td>0</td>\n",
       "      <td>0</td>\n",
       "      <td>0</td>\n",
       "      <td>0</td>\n",
       "      <td>0</td>\n",
       "      <td>0</td>\n",
       "      <td>0</td>\n",
       "      <td>0</td>\n",
       "      <td>1</td>\n",
       "      <td>0</td>\n",
       "    </tr>\n",
       "    <tr>\n",
       "      <th>7236</th>\n",
       "      <td>7734</td>\n",
       "      <td>0</td>\n",
       "      <td>0</td>\n",
       "      <td>0</td>\n",
       "      <td>0</td>\n",
       "      <td>0</td>\n",
       "      <td>0</td>\n",
       "      <td>0</td>\n",
       "      <td>0</td>\n",
       "      <td>0</td>\n",
       "      <td>...</td>\n",
       "      <td>0</td>\n",
       "      <td>0</td>\n",
       "      <td>0</td>\n",
       "      <td>0</td>\n",
       "      <td>0</td>\n",
       "      <td>0</td>\n",
       "      <td>0</td>\n",
       "      <td>0</td>\n",
       "      <td>0</td>\n",
       "      <td>0</td>\n",
       "    </tr>\n",
       "    <tr>\n",
       "      <th>3311</th>\n",
       "      <td>9730</td>\n",
       "      <td>0</td>\n",
       "      <td>0</td>\n",
       "      <td>0</td>\n",
       "      <td>0</td>\n",
       "      <td>0</td>\n",
       "      <td>0</td>\n",
       "      <td>0</td>\n",
       "      <td>0</td>\n",
       "      <td>0</td>\n",
       "      <td>...</td>\n",
       "      <td>0</td>\n",
       "      <td>0</td>\n",
       "      <td>0</td>\n",
       "      <td>0</td>\n",
       "      <td>0</td>\n",
       "      <td>0</td>\n",
       "      <td>0</td>\n",
       "      <td>0</td>\n",
       "      <td>0</td>\n",
       "      <td>1</td>\n",
       "    </tr>\n",
       "    <tr>\n",
       "      <th>231</th>\n",
       "      <td>46526</td>\n",
       "      <td>0</td>\n",
       "      <td>0</td>\n",
       "      <td>0</td>\n",
       "      <td>0</td>\n",
       "      <td>0</td>\n",
       "      <td>0</td>\n",
       "      <td>0</td>\n",
       "      <td>0</td>\n",
       "      <td>0</td>\n",
       "      <td>...</td>\n",
       "      <td>0</td>\n",
       "      <td>1</td>\n",
       "      <td>0</td>\n",
       "      <td>0</td>\n",
       "      <td>0</td>\n",
       "      <td>0</td>\n",
       "      <td>0</td>\n",
       "      <td>0</td>\n",
       "      <td>0</td>\n",
       "      <td>0</td>\n",
       "    </tr>\n",
       "  </tbody>\n",
       "</table>\n",
       "<p>5 rows × 25 columns</p>\n",
       "</div>"
      ],
      "text/plain": [
       "      volume  00:00:00  01:00:00  02:00:00  03:00:00  04:00:00  05:00:00  \\\n",
       "7598    8481         0         0         0         0         0         0   \n",
       "4462    9896         0         0         0         0         0         0   \n",
       "7236    7734         0         0         0         0         0         0   \n",
       "3311    9730         0         0         0         0         0         0   \n",
       "231    46526         0         0         0         0         0         0   \n",
       "\n",
       "      06:00:00  07:00:00  08:00:00  ...  14:00:00  15:00:00  16:00:00  \\\n",
       "7598         0         0         0  ...         1         0         0   \n",
       "4462         0         0         0  ...         0         0         0   \n",
       "7236         0         0         0  ...         0         0         0   \n",
       "3311         0         0         0  ...         0         0         0   \n",
       "231          0         0         0  ...         0         1         0   \n",
       "\n",
       "      17:00:00  18:00:00  19:00:00  20:00:00  21:00:00  22:00:00  23:00:00  \n",
       "7598         0         0         0         0         0         0         0  \n",
       "4462         0         0         0         0         0         1         0  \n",
       "7236         0         0         0         0         0         0         0  \n",
       "3311         0         0         0         0         0         0         1  \n",
       "231          0         0         0         0         0         0         0  \n",
       "\n",
       "[5 rows x 25 columns]"
      ]
     },
     "execution_count": 53,
     "metadata": {},
     "output_type": "execute_result"
    }
   ],
   "source": [
    "X2_train.head()"
   ]
  },
  {
   "cell_type": "code",
   "execution_count": 54,
   "metadata": {},
   "outputs": [],
   "source": [
    "#Using the statsmodels GLM class, train the Poisson regression model on the training data set.\n",
    "m4 = sm.GLM(y2_train, X2_train, family=sm.families.Poisson()).fit()"
   ]
  },
  {
   "cell_type": "code",
   "execution_count": 55,
   "metadata": {},
   "outputs": [
    {
     "name": "stdout",
     "output_type": "stream",
     "text": [
      "                 Generalized Linear Model Regression Results                  \n",
      "==============================================================================\n",
      "Dep. Variable:              accidents   No. Observations:                 6355\n",
      "Model:                            GLM   Df Residuals:                     6330\n",
      "Model Family:                 Poisson   Df Model:                           24\n",
      "Link Function:                    log   Scale:                          1.0000\n",
      "Method:                          IRLS   Log-Likelihood:                -24804.\n",
      "Date:                Fri, 06 Dec 2019   Deviance:                       19802.\n",
      "Time:                        12:49:12   Pearson chi2:                 1.95e+04\n",
      "No. Iterations:                     5   Covariance Type:             nonrobust\n",
      "==============================================================================\n",
      "                 coef    std err          z      P>|z|      [0.025      0.975]\n",
      "------------------------------------------------------------------------------\n",
      "volume      2.331e-07   6.83e-08      3.415      0.001    9.93e-08    3.67e-07\n",
      "00:00:00       2.7765      0.015    182.193      0.000       2.747       2.806\n",
      "01:00:00       2.1343      0.021    100.874      0.000       2.093       2.176\n",
      "02:00:00       1.8714      0.024     79.596      0.000       1.825       1.917\n",
      "03:00:00       1.7660      0.025     69.571      0.000       1.716       1.816\n",
      "04:00:00       1.9448      0.023     85.344      0.000       1.900       1.989\n",
      "05:00:00       1.9980      0.022     89.208      0.000       1.954       2.042\n",
      "06:00:00       2.4927      0.018    140.887      0.000       2.458       2.527\n",
      "07:00:00       2.8052      0.015    181.051      0.000       2.775       2.836\n",
      "08:00:00       3.4689      0.011    317.209      0.000       3.448       3.490\n",
      "09:00:00       3.3989      0.012    289.493      0.000       3.376       3.422\n",
      "10:00:00       3.3235      0.012    275.542      0.000       3.300       3.347\n",
      "11:00:00       3.3626      0.011    295.329      0.000       3.340       3.385\n",
      "12:00:00       3.3862      0.012    287.791      0.000       3.363       3.409\n",
      "13:00:00       3.4231      0.011    298.481      0.000       3.401       3.446\n",
      "14:00:00       3.5739      0.011    334.188      0.000       3.553       3.595\n",
      "15:00:00       3.4922      0.012    302.831      0.000       3.470       3.515\n",
      "16:00:00       3.6709      0.010    353.081      0.000       3.651       3.691\n",
      "17:00:00       3.6141      0.011    341.042      0.000       3.593       3.635\n",
      "18:00:00       3.4857      0.011    315.200      0.000       3.464       3.507\n",
      "19:00:00       3.3118      0.012    271.507      0.000       3.288       3.336\n",
      "20:00:00       3.1640      0.013    248.663      0.000       3.139       3.189\n",
      "21:00:00       2.9492      0.014    205.338      0.000       2.921       2.977\n",
      "22:00:00       2.8093      0.015    185.751      0.000       2.780       2.839\n",
      "23:00:00       2.5414      0.018    141.244      0.000       2.506       2.577\n",
      "==============================================================================\n"
     ]
    }
   ],
   "source": [
    "#Print the training summary.\n",
    "print(m4.summary())"
   ]
  },
  {
   "cell_type": "markdown",
   "metadata": {},
   "source": [
    "A requirement of a Poisson distribution is that the variance is equal to the mean. For this to be true above, the chi2 value should be close to one. Instead we may be able to use negative bionomial regression. "
   ]
  },
  {
   "cell_type": "markdown",
   "metadata": {},
   "source": [
    "# Negative Bionomial Regression"
   ]
  },
  {
   "cell_type": "code",
   "execution_count": 56,
   "metadata": {},
   "outputs": [
    {
     "name": "stderr",
     "output_type": "stream",
     "text": [
      "/Users/genehopping/anaconda3/lib/python3.7/site-packages/ipykernel_launcher.py:3: SettingWithCopyWarning: \n",
      "A value is trying to be set on a copy of a slice from a DataFrame.\n",
      "Try using .loc[row_indexer,col_indexer] = value instead\n",
      "\n",
      "See the caveats in the documentation: http://pandas.pydata.org/pandas-docs/stable/indexing.html#indexing-view-versus-copy\n",
      "  This is separate from the ipykernel package so we can avoid doing imports until\n"
     ]
    },
    {
     "data": {
      "text/html": [
       "<div>\n",
       "<style scoped>\n",
       "    .dataframe tbody tr th:only-of-type {\n",
       "        vertical-align: middle;\n",
       "    }\n",
       "\n",
       "    .dataframe tbody tr th {\n",
       "        vertical-align: top;\n",
       "    }\n",
       "\n",
       "    .dataframe thead th {\n",
       "        text-align: right;\n",
       "    }\n",
       "</style>\n",
       "<table border=\"1\" class=\"dataframe\">\n",
       "  <thead>\n",
       "    <tr style=\"text-align: right;\">\n",
       "      <th></th>\n",
       "      <th>volume</th>\n",
       "      <th>00:00:00</th>\n",
       "      <th>01:00:00</th>\n",
       "      <th>02:00:00</th>\n",
       "      <th>03:00:00</th>\n",
       "      <th>04:00:00</th>\n",
       "      <th>05:00:00</th>\n",
       "      <th>06:00:00</th>\n",
       "      <th>07:00:00</th>\n",
       "      <th>08:00:00</th>\n",
       "      <th>...</th>\n",
       "      <th>15:00:00</th>\n",
       "      <th>16:00:00</th>\n",
       "      <th>17:00:00</th>\n",
       "      <th>18:00:00</th>\n",
       "      <th>19:00:00</th>\n",
       "      <th>20:00:00</th>\n",
       "      <th>21:00:00</th>\n",
       "      <th>22:00:00</th>\n",
       "      <th>23:00:00</th>\n",
       "      <th>X2_lambda</th>\n",
       "    </tr>\n",
       "  </thead>\n",
       "  <tbody>\n",
       "    <tr>\n",
       "      <th>7598</th>\n",
       "      <td>8481</td>\n",
       "      <td>0</td>\n",
       "      <td>0</td>\n",
       "      <td>0</td>\n",
       "      <td>0</td>\n",
       "      <td>0</td>\n",
       "      <td>0</td>\n",
       "      <td>0</td>\n",
       "      <td>0</td>\n",
       "      <td>0</td>\n",
       "      <td>...</td>\n",
       "      <td>0</td>\n",
       "      <td>0</td>\n",
       "      <td>0</td>\n",
       "      <td>0</td>\n",
       "      <td>0</td>\n",
       "      <td>0</td>\n",
       "      <td>0</td>\n",
       "      <td>0</td>\n",
       "      <td>0</td>\n",
       "      <td>35.724469</td>\n",
       "    </tr>\n",
       "    <tr>\n",
       "      <th>4462</th>\n",
       "      <td>9896</td>\n",
       "      <td>0</td>\n",
       "      <td>0</td>\n",
       "      <td>0</td>\n",
       "      <td>0</td>\n",
       "      <td>0</td>\n",
       "      <td>0</td>\n",
       "      <td>0</td>\n",
       "      <td>0</td>\n",
       "      <td>0</td>\n",
       "      <td>...</td>\n",
       "      <td>0</td>\n",
       "      <td>0</td>\n",
       "      <td>0</td>\n",
       "      <td>0</td>\n",
       "      <td>0</td>\n",
       "      <td>0</td>\n",
       "      <td>0</td>\n",
       "      <td>1</td>\n",
       "      <td>0</td>\n",
       "      <td>16.637270</td>\n",
       "    </tr>\n",
       "    <tr>\n",
       "      <th>7236</th>\n",
       "      <td>7734</td>\n",
       "      <td>0</td>\n",
       "      <td>0</td>\n",
       "      <td>0</td>\n",
       "      <td>0</td>\n",
       "      <td>0</td>\n",
       "      <td>0</td>\n",
       "      <td>0</td>\n",
       "      <td>0</td>\n",
       "      <td>0</td>\n",
       "      <td>...</td>\n",
       "      <td>0</td>\n",
       "      <td>0</td>\n",
       "      <td>0</td>\n",
       "      <td>0</td>\n",
       "      <td>0</td>\n",
       "      <td>0</td>\n",
       "      <td>0</td>\n",
       "      <td>0</td>\n",
       "      <td>0</td>\n",
       "      <td>29.605512</td>\n",
       "    </tr>\n",
       "    <tr>\n",
       "      <th>3311</th>\n",
       "      <td>9730</td>\n",
       "      <td>0</td>\n",
       "      <td>0</td>\n",
       "      <td>0</td>\n",
       "      <td>0</td>\n",
       "      <td>0</td>\n",
       "      <td>0</td>\n",
       "      <td>0</td>\n",
       "      <td>0</td>\n",
       "      <td>0</td>\n",
       "      <td>...</td>\n",
       "      <td>0</td>\n",
       "      <td>0</td>\n",
       "      <td>0</td>\n",
       "      <td>0</td>\n",
       "      <td>0</td>\n",
       "      <td>0</td>\n",
       "      <td>0</td>\n",
       "      <td>0</td>\n",
       "      <td>1</td>\n",
       "      <td>12.725875</td>\n",
       "    </tr>\n",
       "    <tr>\n",
       "      <th>231</th>\n",
       "      <td>46526</td>\n",
       "      <td>0</td>\n",
       "      <td>0</td>\n",
       "      <td>0</td>\n",
       "      <td>0</td>\n",
       "      <td>0</td>\n",
       "      <td>0</td>\n",
       "      <td>0</td>\n",
       "      <td>0</td>\n",
       "      <td>0</td>\n",
       "      <td>...</td>\n",
       "      <td>1</td>\n",
       "      <td>0</td>\n",
       "      <td>0</td>\n",
       "      <td>0</td>\n",
       "      <td>0</td>\n",
       "      <td>0</td>\n",
       "      <td>0</td>\n",
       "      <td>0</td>\n",
       "      <td>0</td>\n",
       "      <td>33.216215</td>\n",
       "    </tr>\n",
       "  </tbody>\n",
       "</table>\n",
       "<p>5 rows × 26 columns</p>\n",
       "</div>"
      ],
      "text/plain": [
       "      volume  00:00:00  01:00:00  02:00:00  03:00:00  04:00:00  05:00:00  \\\n",
       "7598    8481         0         0         0         0         0         0   \n",
       "4462    9896         0         0         0         0         0         0   \n",
       "7236    7734         0         0         0         0         0         0   \n",
       "3311    9730         0         0         0         0         0         0   \n",
       "231    46526         0         0         0         0         0         0   \n",
       "\n",
       "      06:00:00  07:00:00  08:00:00  ...  15:00:00  16:00:00  17:00:00  \\\n",
       "7598         0         0         0  ...         0         0         0   \n",
       "4462         0         0         0  ...         0         0         0   \n",
       "7236         0         0         0  ...         0         0         0   \n",
       "3311         0         0         0  ...         0         0         0   \n",
       "231          0         0         0  ...         1         0         0   \n",
       "\n",
       "      18:00:00  19:00:00  20:00:00  21:00:00  22:00:00  23:00:00  X2_lambda  \n",
       "7598         0         0         0         0         0         0  35.724469  \n",
       "4462         0         0         0         0         1         0  16.637270  \n",
       "7236         0         0         0         0         0         0  29.605512  \n",
       "3311         0         0         0         0         0         1  12.725875  \n",
       "231          0         0         0         0         0         0  33.216215  \n",
       "\n",
       "[5 rows x 26 columns]"
      ]
     },
     "execution_count": 56,
     "metadata": {},
     "output_type": "execute_result"
    }
   ],
   "source": [
    "#For negative bionomial regression, add array of lambda values from poisson regression\n",
    "#to the training dataset\n",
    "X2_train['X2_lambda'] = m4.mu \n",
    "X2_train.head()"
   ]
  },
  {
   "cell_type": "code",
   "execution_count": 57,
   "metadata": {},
   "outputs": [
    {
     "name": "stderr",
     "output_type": "stream",
     "text": [
      "/Users/genehopping/anaconda3/lib/python3.7/site-packages/ipykernel_launcher.py:4: SettingWithCopyWarning: \n",
      "A value is trying to be set on a copy of a slice from a DataFrame.\n",
      "Try using .loc[row_indexer,col_indexer] = value instead\n",
      "\n",
      "See the caveats in the documentation: http://pandas.pydata.org/pandas-docs/stable/indexing.html#indexing-view-versus-copy\n",
      "  after removing the cwd from sys.path.\n",
      "/Users/genehopping/anaconda3/lib/python3.7/site-packages/ipykernel_launcher.py:6: SettingWithCopyWarning: \n",
      "A value is trying to be set on a copy of a slice from a DataFrame.\n",
      "Try using .loc[row_indexer,col_indexer] = value instead\n",
      "\n",
      "See the caveats in the documentation: http://pandas.pydata.org/pandas-docs/stable/indexing.html#indexing-view-versus-copy\n",
      "  \n"
     ]
    },
    {
     "data": {
      "text/html": [
       "<div>\n",
       "<style scoped>\n",
       "    .dataframe tbody tr th:only-of-type {\n",
       "        vertical-align: middle;\n",
       "    }\n",
       "\n",
       "    .dataframe tbody tr th {\n",
       "        vertical-align: top;\n",
       "    }\n",
       "\n",
       "    .dataframe thead th {\n",
       "        text-align: right;\n",
       "    }\n",
       "</style>\n",
       "<table border=\"1\" class=\"dataframe\">\n",
       "  <thead>\n",
       "    <tr style=\"text-align: right;\">\n",
       "      <th></th>\n",
       "      <th>volume</th>\n",
       "      <th>00:00:00</th>\n",
       "      <th>01:00:00</th>\n",
       "      <th>02:00:00</th>\n",
       "      <th>03:00:00</th>\n",
       "      <th>04:00:00</th>\n",
       "      <th>05:00:00</th>\n",
       "      <th>06:00:00</th>\n",
       "      <th>07:00:00</th>\n",
       "      <th>08:00:00</th>\n",
       "      <th>...</th>\n",
       "      <th>17:00:00</th>\n",
       "      <th>18:00:00</th>\n",
       "      <th>19:00:00</th>\n",
       "      <th>20:00:00</th>\n",
       "      <th>21:00:00</th>\n",
       "      <th>22:00:00</th>\n",
       "      <th>23:00:00</th>\n",
       "      <th>X2_lambda</th>\n",
       "      <th>accidents</th>\n",
       "      <th>AUX_OLS_DEP</th>\n",
       "    </tr>\n",
       "  </thead>\n",
       "  <tbody>\n",
       "    <tr>\n",
       "      <th>7598</th>\n",
       "      <td>8481</td>\n",
       "      <td>0</td>\n",
       "      <td>0</td>\n",
       "      <td>0</td>\n",
       "      <td>0</td>\n",
       "      <td>0</td>\n",
       "      <td>0</td>\n",
       "      <td>0</td>\n",
       "      <td>0</td>\n",
       "      <td>0</td>\n",
       "      <td>...</td>\n",
       "      <td>0</td>\n",
       "      <td>0</td>\n",
       "      <td>0</td>\n",
       "      <td>0</td>\n",
       "      <td>0</td>\n",
       "      <td>0</td>\n",
       "      <td>0</td>\n",
       "      <td>35.724469</td>\n",
       "      <td>25</td>\n",
       "      <td>2.519680</td>\n",
       "    </tr>\n",
       "    <tr>\n",
       "      <th>4462</th>\n",
       "      <td>9896</td>\n",
       "      <td>0</td>\n",
       "      <td>0</td>\n",
       "      <td>0</td>\n",
       "      <td>0</td>\n",
       "      <td>0</td>\n",
       "      <td>0</td>\n",
       "      <td>0</td>\n",
       "      <td>0</td>\n",
       "      <td>0</td>\n",
       "      <td>...</td>\n",
       "      <td>0</td>\n",
       "      <td>0</td>\n",
       "      <td>0</td>\n",
       "      <td>0</td>\n",
       "      <td>0</td>\n",
       "      <td>1</td>\n",
       "      <td>0</td>\n",
       "      <td>16.637270</td>\n",
       "      <td>10</td>\n",
       "      <td>2.046811</td>\n",
       "    </tr>\n",
       "    <tr>\n",
       "      <th>7236</th>\n",
       "      <td>7734</td>\n",
       "      <td>0</td>\n",
       "      <td>0</td>\n",
       "      <td>0</td>\n",
       "      <td>0</td>\n",
       "      <td>0</td>\n",
       "      <td>0</td>\n",
       "      <td>0</td>\n",
       "      <td>0</td>\n",
       "      <td>0</td>\n",
       "      <td>...</td>\n",
       "      <td>0</td>\n",
       "      <td>0</td>\n",
       "      <td>0</td>\n",
       "      <td>0</td>\n",
       "      <td>0</td>\n",
       "      <td>0</td>\n",
       "      <td>0</td>\n",
       "      <td>29.605512</td>\n",
       "      <td>21</td>\n",
       "      <td>1.792060</td>\n",
       "    </tr>\n",
       "    <tr>\n",
       "      <th>3311</th>\n",
       "      <td>9730</td>\n",
       "      <td>0</td>\n",
       "      <td>0</td>\n",
       "      <td>0</td>\n",
       "      <td>0</td>\n",
       "      <td>0</td>\n",
       "      <td>0</td>\n",
       "      <td>0</td>\n",
       "      <td>0</td>\n",
       "      <td>0</td>\n",
       "      <td>...</td>\n",
       "      <td>0</td>\n",
       "      <td>0</td>\n",
       "      <td>0</td>\n",
       "      <td>0</td>\n",
       "      <td>0</td>\n",
       "      <td>0</td>\n",
       "      <td>1</td>\n",
       "      <td>12.725875</td>\n",
       "      <td>11</td>\n",
       "      <td>-0.630319</td>\n",
       "    </tr>\n",
       "    <tr>\n",
       "      <th>231</th>\n",
       "      <td>46526</td>\n",
       "      <td>0</td>\n",
       "      <td>0</td>\n",
       "      <td>0</td>\n",
       "      <td>0</td>\n",
       "      <td>0</td>\n",
       "      <td>0</td>\n",
       "      <td>0</td>\n",
       "      <td>0</td>\n",
       "      <td>0</td>\n",
       "      <td>...</td>\n",
       "      <td>0</td>\n",
       "      <td>0</td>\n",
       "      <td>0</td>\n",
       "      <td>0</td>\n",
       "      <td>0</td>\n",
       "      <td>0</td>\n",
       "      <td>0</td>\n",
       "      <td>33.216215</td>\n",
       "      <td>36</td>\n",
       "      <td>-0.850505</td>\n",
       "    </tr>\n",
       "  </tbody>\n",
       "</table>\n",
       "<p>5 rows × 28 columns</p>\n",
       "</div>"
      ],
      "text/plain": [
       "      volume  00:00:00  01:00:00  02:00:00  03:00:00  04:00:00  05:00:00  \\\n",
       "7598    8481         0         0         0         0         0         0   \n",
       "4462    9896         0         0         0         0         0         0   \n",
       "7236    7734         0         0         0         0         0         0   \n",
       "3311    9730         0         0         0         0         0         0   \n",
       "231    46526         0         0         0         0         0         0   \n",
       "\n",
       "      06:00:00  07:00:00  08:00:00  ...  17:00:00  18:00:00  19:00:00  \\\n",
       "7598         0         0         0  ...         0         0         0   \n",
       "4462         0         0         0  ...         0         0         0   \n",
       "7236         0         0         0  ...         0         0         0   \n",
       "3311         0         0         0  ...         0         0         0   \n",
       "231          0         0         0  ...         0         0         0   \n",
       "\n",
       "      20:00:00  21:00:00  22:00:00  23:00:00  X2_lambda  accidents  \\\n",
       "7598         0         0         0         0  35.724469         25   \n",
       "4462         0         0         1         0  16.637270         10   \n",
       "7236         0         0         0         0  29.605512         21   \n",
       "3311         0         0         0         1  12.725875         11   \n",
       "231          0         0         0         0  33.216215         36   \n",
       "\n",
       "      AUX_OLS_DEP  \n",
       "7598     2.519680  \n",
       "4462     2.046811  \n",
       "7236     1.792060  \n",
       "3311    -0.630319  \n",
       "231     -0.850505  \n",
       "\n",
       "[5 rows x 28 columns]"
      ]
     },
     "execution_count": 57,
     "metadata": {},
     "output_type": "execute_result"
    }
   ],
   "source": [
    "#temporarily add the accident values to calculate\n",
    "#Now contrive the value of the dependent variable of the OLS regression\n",
    "#will first add the y2_train values to X2_train\n",
    "X2_train['accidents'] = y2_train.copy()\n",
    "X2_train['AUX_OLS_DEP'] = X2_train.apply(lambda x: ((x['accidents'] - x['X2_lambda'])**2 - \\\n",
    "    x['accidents']) / x['X2_lambda'], axis=1)\n",
    "#X2_train.drop(columns='accidents', inplace=True)\n",
    "X2_train.head()"
   ]
  },
  {
   "cell_type": "code",
   "execution_count": 58,
   "metadata": {},
   "outputs": [
    {
     "name": "stdout",
     "output_type": "stream",
     "text": [
      "accidents    0.07813\n",
      "dtype: float64\n"
     ]
    }
   ],
   "source": [
    "aux_ols_results = sm.OLS(X2_train['AUX_OLS_DEP'], X2_train['accidents']).fit()\n",
    "print(aux_ols_results.params)"
   ]
  },
  {
   "cell_type": "markdown",
   "metadata": {},
   "source": [
    "Is the alpha value above statistically significant? If not, variance = mean and we will can not obtain a better fit than the Poisson regression."
   ]
  },
  {
   "cell_type": "code",
   "execution_count": 59,
   "metadata": {},
   "outputs": [
    {
     "data": {
      "text/plain": [
       "accidents    34.083145\n",
       "dtype: float64"
      ]
     },
     "execution_count": 59,
     "metadata": {},
     "output_type": "execute_result"
    }
   ],
   "source": [
    "#what is the t-value\n",
    "aux_ols_results.tvalues"
   ]
  },
  {
   "cell_type": "markdown",
   "metadata": {},
   "source": [
    "Critical value :\n",
    "https://goodcalculators.com/student-t-value-calculator/\n",
    "\n",
    "With a significance level of 0.01 and 6329 degrees of freedom\n",
    "T-value = 2.33\n",
    "This is much lower than the alpha t-statistic of  of 34.08\n",
    "Therefore the alpha value of 0.0707 is statistically significant"
   ]
  },
  {
   "cell_type": "code",
   "execution_count": 60,
   "metadata": {},
   "outputs": [
    {
     "name": "stderr",
     "output_type": "stream",
     "text": [
      "/Users/genehopping/anaconda3/lib/python3.7/site-packages/pandas/core/frame.py:3940: SettingWithCopyWarning: \n",
      "A value is trying to be set on a copy of a slice from a DataFrame\n",
      "\n",
      "See the caveats in the documentation: http://pandas.pydata.org/pandas-docs/stable/indexing.html#indexing-view-versus-copy\n",
      "  errors=errors)\n"
     ]
    }
   ],
   "source": [
    "#Drop additional columns from trainin set\n",
    "X2_train.drop(columns=['accidents', 'AUX_OLS_DEP', 'X2_lambda'], inplace=True)"
   ]
  },
  {
   "cell_type": "code",
   "execution_count": 61,
   "metadata": {},
   "outputs": [],
   "source": [
    "m5 = sm.GLM(y2_train, X2_train, \\\n",
    "    family=sm.families.NegativeBinomial(alpha=aux_ols_results.params[0])).fit()"
   ]
  },
  {
   "cell_type": "code",
   "execution_count": 62,
   "metadata": {},
   "outputs": [
    {
     "name": "stdout",
     "output_type": "stream",
     "text": [
      "                 Generalized Linear Model Regression Results                  \n",
      "==============================================================================\n",
      "Dep. Variable:              accidents   No. Observations:                 6355\n",
      "Model:                            GLM   Df Residuals:                     6330\n",
      "Model Family:        NegativeBinomial   Df Model:                           24\n",
      "Link Function:                    log   Scale:                          1.0000\n",
      "Method:                          IRLS   Log-Likelihood:                -22001.\n",
      "Date:                Fri, 06 Dec 2019   Deviance:                       8215.9\n",
      "Time:                        12:49:13   Pearson chi2:                 7.90e+03\n",
      "No. Iterations:                     6   Covariance Type:             nonrobust\n",
      "==============================================================================\n",
      "                 coef    std err          z      P>|z|      [0.025      0.975]\n",
      "------------------------------------------------------------------------------\n",
      "volume       4.64e-07   1.24e-07      3.753      0.000    2.22e-07    7.06e-07\n",
      "00:00:00       2.7712      0.023    120.706      0.000       2.726       2.816\n",
      "01:00:00       2.1301      0.027     77.970      0.000       2.077       2.184\n",
      "02:00:00       1.8682      0.029     64.631      0.000       1.812       1.925\n",
      "03:00:00       1.7633      0.031     57.500      0.000       1.703       1.823\n",
      "04:00:00       1.9418      0.028     68.441      0.000       1.886       1.997\n",
      "05:00:00       1.9940      0.028     70.758      0.000       1.939       2.049\n",
      "06:00:00       2.4855      0.025    100.076      0.000       2.437       2.534\n",
      "07:00:00       2.7960      0.024    118.202      0.000       2.750       2.842\n",
      "08:00:00       3.4590      0.021    168.705      0.000       3.419       3.499\n",
      "09:00:00       3.3895      0.022    157.612      0.000       3.347       3.432\n",
      "10:00:00       3.3144      0.022    153.760      0.000       3.272       3.357\n",
      "11:00:00       3.3569      0.021    163.074      0.000       3.317       3.397\n",
      "12:00:00       3.3764      0.021    157.315      0.000       3.334       3.418\n",
      "13:00:00       3.4130      0.021    161.183      0.000       3.371       3.454\n",
      "14:00:00       3.5622      0.021    171.843      0.000       3.522       3.603\n",
      "15:00:00       3.4812      0.022    159.839      0.000       3.438       3.524\n",
      "16:00:00       3.6596      0.021    175.718      0.000       3.619       3.700\n",
      "17:00:00       3.6029      0.021    172.956      0.000       3.562       3.644\n",
      "18:00:00       3.4746      0.021    166.778      0.000       3.434       3.515\n",
      "19:00:00       3.3018      0.022    152.015      0.000       3.259       3.344\n",
      "20:00:00       3.1539      0.022    145.880      0.000       3.112       3.196\n",
      "21:00:00       2.9410      0.023    128.857      0.000       2.896       2.986\n",
      "22:00:00       2.8017      0.023    121.431      0.000       2.756       2.847\n",
      "23:00:00       2.5309      0.026     98.480      0.000       2.481       2.581\n",
      "==============================================================================\n"
     ]
    }
   ],
   "source": [
    "print(m5.summary())"
   ]
  },
  {
   "cell_type": "code",
   "execution_count": 63,
   "metadata": {},
   "outputs": [
    {
     "data": {
      "text/plain": [
       "<matplotlib.axes._subplots.AxesSubplot at 0x1c1c94c358>"
      ]
     },
     "execution_count": 63,
     "metadata": {},
     "output_type": "execute_result"
    },
    {
     "data": {
      "image/png": "[encoded data removed]",
      "text/plain": [
       "<Figure size 432x288 with 1 Axes>"
      ]
     },
     "metadata": {
      "needs_background": "light"
     },
     "output_type": "display_data"
    }
   ],
   "source": [
    "#plot the first day's worth of actual accidents\n",
    "reg1_test_df = accident_reg_df[:24]\n",
    "reg1_X = reg1_test_df.drop('accidents', axis=1)\n",
    "reg1_y = reg1_test_df.accidents\n",
    "reg1_test_df.accidents.plot()"
   ]
  },
  {
   "cell_type": "code",
   "execution_count": 64,
   "metadata": {},
   "outputs": [
    {
     "data": {
      "image/png": "[encoded data removed]",
      "text/plain": [
       "<Figure size 432x288 with 1 Axes>"
      ]
     },
     "metadata": {
      "needs_background": "light"
     },
     "output_type": "display_data"
    }
   ],
   "source": [
    "reg1_test_predict = m2.predict(reg1_X)\n",
    "reg1_test_df.accidents.plot()\n",
    "_ = plt.plot(reg1_test_df.index, reg1_test_predict)\n"
   ]
  },
  {
   "cell_type": "code",
   "execution_count": 65,
   "metadata": {},
   "outputs": [
    {
     "data": {
      "text/plain": [
       "[<matplotlib.lines.Line2D at 0x1c1a55b198>]"
      ]
     },
     "execution_count": 65,
     "metadata": {},
     "output_type": "execute_result"
    },
    {
     "data": {
      "image/png": "[encoded data removed]",
      "text/plain": [
       "<Figure size 432x288 with 1 Axes>"
      ]
     },
     "metadata": {
      "needs_background": "light"
     },
     "output_type": "display_data"
    }
   ],
   "source": [
    "\n",
    "reg1_test_df.accidents.plot()\n",
    "plt.plot(reg1_test_df.index, reg1_test_predict)"
   ]
  },
  {
   "cell_type": "code",
   "execution_count": 66,
   "metadata": {},
   "outputs": [
    {
     "data": {
      "image/png": "[encoded data removed]",
      "text/plain": [
       "<Figure size 432x288 with 1 Axes>"
      ]
     },
     "metadata": {
      "needs_background": "light"
     },
     "output_type": "display_data"
    }
   ],
   "source": [
    "reg2_test_predict = m3.predict(reg1_X)\n",
    "reg3_test_predict = m4.predict(reg1_X)\n",
    "reg4_test_predict = m5.predict(reg1_X)\n",
    "reg1_test_df.accidents.plot(color='r')\n",
    "_ = plt.plot(reg1_test_df.index, reg1_test_predict, color='blue', label='LR')\n",
    "_ = plt.plot(reg1_test_df.index, reg2_test_predict,color='purple', label='Lasso')\n",
    "_ = plt.plot(reg1_test_df.index, reg3_test_predict, color='orange',linestyle='--', label='Poisson')\n",
    "_ = plt.plot(reg1_test_df.index, reg4_test_predict, color='black', alpha=0.6, label='Negative Bionomial')\n",
    "plt.legend(loc='upper left')\n",
    "plt.ylabel('Accidents')\n",
    "plt.xlabel('hour')\n",
    "plt.title('Predicted accidents per hour for one day')\n",
    "plt.savefig('compare_per_hour.png')"
   ]
  },
  {
   "cell_type": "code",
   "execution_count": 67,
   "metadata": {},
   "outputs": [],
   "source": [
    "#generate output from model using test sample. Assign to variable group by hour and plot\n",
    "#against actual y-values.\n",
    "\n",
    "m2_predict = pd.DataFrame(m2.predict(X2_test), columns=['predicted']) # LR\n",
    "m3_predict = pd.DataFrame(m3.predict(X2_test), columns=['predicted']) # Lasso\n",
    "m4_predict = pd.DataFrame(m4.predict(X2_test), columns=['predicted']) # Poisson\n",
    "m5_predict = pd.DataFrame(m5.predict(X2_test), columns=['predicted']) # Negative Bionomial"
   ]
  },
  {
   "cell_type": "code",
   "execution_count": 68,
   "metadata": {},
   "outputs": [
    {
     "data": {
      "text/html": [
       "<div>\n",
       "<style scoped>\n",
       "    .dataframe tbody tr th:only-of-type {\n",
       "        vertical-align: middle;\n",
       "    }\n",
       "\n",
       "    .dataframe tbody tr th {\n",
       "        vertical-align: top;\n",
       "    }\n",
       "\n",
       "    .dataframe thead th {\n",
       "        text-align: right;\n",
       "    }\n",
       "</style>\n",
       "<table border=\"1\" class=\"dataframe\">\n",
       "  <thead>\n",
       "    <tr style=\"text-align: right;\">\n",
       "      <th></th>\n",
       "      <th>predicted</th>\n",
       "    </tr>\n",
       "  </thead>\n",
       "  <tbody>\n",
       "    <tr>\n",
       "      <th>806</th>\n",
       "      <td>38.620187</td>\n",
       "    </tr>\n",
       "    <tr>\n",
       "      <th>3169</th>\n",
       "      <td>0.097916</td>\n",
       "    </tr>\n",
       "    <tr>\n",
       "      <th>6789</th>\n",
       "      <td>19.340100</td>\n",
       "    </tr>\n",
       "    <tr>\n",
       "      <th>2212</th>\n",
       "      <td>0.716297</td>\n",
       "    </tr>\n",
       "    <tr>\n",
       "      <th>7547</th>\n",
       "      <td>27.888863</td>\n",
       "    </tr>\n",
       "  </tbody>\n",
       "</table>\n",
       "</div>"
      ],
      "text/plain": [
       "      predicted\n",
       "806   38.620187\n",
       "3169   0.097916\n",
       "6789  19.340100\n",
       "2212   0.716297\n",
       "7547  27.888863"
      ]
     },
     "execution_count": 68,
     "metadata": {},
     "output_type": "execute_result"
    }
   ],
   "source": [
    "\n",
    "m3_predict.head()"
   ]
  },
  {
   "cell_type": "code",
   "execution_count": 69,
   "metadata": {},
   "outputs": [],
   "source": [
    "#merge day of week onto index in above series. \n",
    "m2_predict_dow = pd.merge(m2_predict.predicted,\n",
    "                         accident_hourly_df.day_of_week,\n",
    "                            left_on=m2_predict.index,\n",
    "                           right_on=accident_hourly_df.index,\n",
    "                            how='inner').set_index(m2_predict.index).drop('key_0', axis=1)\n",
    "#could possibly avoid dropping key_0 by passing indexes as labels not series..."
   ]
  },
  {
   "cell_type": "code",
   "execution_count": 70,
   "metadata": {},
   "outputs": [
    {
     "data": {
      "text/html": [
       "<div>\n",
       "<style scoped>\n",
       "    .dataframe tbody tr th:only-of-type {\n",
       "        vertical-align: middle;\n",
       "    }\n",
       "\n",
       "    .dataframe tbody tr th {\n",
       "        vertical-align: top;\n",
       "    }\n",
       "\n",
       "    .dataframe thead th {\n",
       "        text-align: right;\n",
       "    }\n",
       "</style>\n",
       "<table border=\"1\" class=\"dataframe\">\n",
       "  <thead>\n",
       "    <tr style=\"text-align: right;\">\n",
       "      <th></th>\n",
       "      <th>predicted</th>\n",
       "      <th>day_of_week</th>\n",
       "    </tr>\n",
       "  </thead>\n",
       "  <tbody>\n",
       "    <tr>\n",
       "      <th>806</th>\n",
       "      <td>36.426941</td>\n",
       "      <td>4</td>\n",
       "    </tr>\n",
       "    <tr>\n",
       "      <th>3169</th>\n",
       "      <td>8.396852</td>\n",
       "      <td>5</td>\n",
       "    </tr>\n",
       "    <tr>\n",
       "      <th>6789</th>\n",
       "      <td>19.259661</td>\n",
       "      <td>1</td>\n",
       "    </tr>\n",
       "    <tr>\n",
       "      <th>2212</th>\n",
       "      <td>7.033227</td>\n",
       "      <td>0</td>\n",
       "    </tr>\n",
       "    <tr>\n",
       "      <th>7547</th>\n",
       "      <td>28.881765</td>\n",
       "      <td>5</td>\n",
       "    </tr>\n",
       "  </tbody>\n",
       "</table>\n",
       "</div>"
      ],
      "text/plain": [
       "      predicted  day_of_week\n",
       "806   36.426941            4\n",
       "3169   8.396852            5\n",
       "6789  19.259661            1\n",
       "2212   7.033227            0\n",
       "7547  28.881765            5"
      ]
     },
     "execution_count": 70,
     "metadata": {},
     "output_type": "execute_result"
    }
   ],
   "source": [
    "m2_predict_dow.head()"
   ]
  },
  {
   "cell_type": "code",
   "execution_count": 71,
   "metadata": {},
   "outputs": [],
   "source": [
    "#y2_test_dow.head()"
   ]
  },
  {
   "cell_type": "code",
   "execution_count": 72,
   "metadata": {},
   "outputs": [
    {
     "data": {
      "text/plain": [
       "time\n",
       "00:00:00     954\n",
       "01:00:00     621\n",
       "02:00:00     353\n",
       "03:00:00     404\n",
       "04:00:00     394\n",
       "05:00:00     520\n",
       "06:00:00     757\n",
       "07:00:00    1185\n",
       "08:00:00    1667\n",
       "09:00:00    2393\n",
       "10:00:00    1960\n",
       "11:00:00    1626\n",
       "12:00:00    2151\n",
       "13:00:00    2083\n",
       "14:00:00    2110\n",
       "15:00:00    2785\n",
       "16:00:00    2805\n",
       "17:00:00    2514\n",
       "18:00:00    1830\n",
       "19:00:00    2061\n",
       "20:00:00    1398\n",
       "21:00:00    1304\n",
       "22:00:00    1084\n",
       "23:00:00    1178\n",
       "Name: accidents, dtype: int64"
      ]
     },
     "execution_count": 72,
     "metadata": {},
     "output_type": "execute_result"
    }
   ],
   "source": [
    "accident_volume_df.loc[y2_test.index].groupby('time').sum().accidents"
   ]
  },
  {
   "cell_type": "markdown",
   "metadata": {},
   "source": [
    "Use the index of y2_train to pull out corresponding rows from the full dataframe. Group by hour and use as the ground truth per hour. Merge the results of the regressions onto this to link time with index and then plot corresponding predictions."
   ]
  },
  {
   "cell_type": "code",
   "execution_count": 73,
   "metadata": {},
   "outputs": [],
   "source": [
    "acc_vol_intest_df = accident_volume_df.loc[y2_test.index]\n",
    "#merge linear regression prediction m2 onto df\n",
    "m2_predict_dow = pd.merge(acc_vol_intest_df,\n",
    "                          m2_predict.predicted,\n",
    "                         left_on=acc_vol_intest_df.index,\n",
    "                           right_on=m2_predict.index,\n",
    "                            how='inner').set_index(acc_vol_intest_df.index).drop('key_0', axis=1)\n",
    "#merge linear regression prediction m3 onto df\n",
    "m3_predict_dow = pd.merge(acc_vol_intest_df,\n",
    "                          m3_predict.predicted,\n",
    "                         left_on=acc_vol_intest_df.index,\n",
    "                           right_on=m3_predict.index,\n",
    "                            how='inner').set_index(acc_vol_intest_df.index).drop('key_0', axis=1)\n",
    "#merge linear regression prediction m4 onto df\n",
    "m4_predict_dow = pd.merge(acc_vol_intest_df,\n",
    "                          m4_predict.predicted,\n",
    "                         left_on=acc_vol_intest_df.index,\n",
    "                           right_on=m4_predict.index,\n",
    "                            how='inner').set_index(acc_vol_intest_df.index).drop('key_0', axis=1)\n",
    "#merge linear regression prediction m4 onto df\n",
    "m5_predict_dow = pd.merge(acc_vol_intest_df,\n",
    "                          m5_predict.predicted,\n",
    "                         left_on=acc_vol_intest_df.index,\n",
    "                           right_on=m5_predict.index,\n",
    "                            how='inner').set_index(acc_vol_intest_df.index).drop('key_0', axis=1)"
   ]
  },
  {
   "cell_type": "code",
   "execution_count": 74,
   "metadata": {},
   "outputs": [
    {
     "data": {
      "image/png": "[encoded data removed]",
      "text/plain": [
       "<Figure size 432x288 with 1 Axes>"
      ]
     },
     "metadata": {
      "needs_background": "light"
     },
     "output_type": "display_data"
    }
   ],
   "source": [
    "#Plot the mean of values of grouped hour verses grouped hour from each of the regressions\n",
    "_ = accident_volume_df.loc[y2_test.index].groupby('time').mean().accidents.plot(c='r')\n",
    "_ = m2_predict_dow.groupby('time').mean().predicted.plot(c='blue', label='LR')\n",
    "_ = m3_predict_dow.groupby('time').mean().predicted.plot(c='purple', label='Lasso')\n",
    "_ = m4_predict_dow.groupby('time').mean().predicted.plot(c='orange', linestyle='--', label='Poisson')\n",
    "_ = m5_predict_dow.groupby('time').mean().predicted.plot(c='black', alpha=0.7, label='Negative Bionomial')\n",
    "plt.ylabel('accidents')\n",
    "plt.legend(loc='upper left')\n",
    "plt.title('Predicted accidents compared with average of all accidents')\n",
    "plt.savefig('compare_average.png')"
   ]
  },
  {
   "cell_type": "code",
   "execution_count": 75,
   "metadata": {},
   "outputs": [
    {
     "data": {
      "text/plain": [
       "24"
      ]
     },
     "execution_count": 75,
     "metadata": {},
     "output_type": "execute_result"
    }
   ],
   "source": [
    "len(reg1_test_df)\n"
   ]
  },
  {
   "cell_type": "code",
   "execution_count": 76,
   "metadata": {},
   "outputs": [
    {
     "data": {
      "text/plain": [
       "179026"
      ]
     },
     "execution_count": 76,
     "metadata": {},
     "output_type": "execute_result"
    }
   ],
   "source": [
    "#out of interest, how many rows of accident data were aggregated into the final df\n",
    "#remember, every accident is an entry in the original accident df\n",
    "accident_reg_df.accidents.sum()"
   ]
  },
  {
   "cell_type": "markdown",
   "metadata": {},
   "source": [
    "End of notebook"
   ]
  },
  {
   "cell_type": "code",
   "execution_count": null,
   "metadata": {},
   "outputs": [],
   "source": []
  }
 ],
 "metadata": {
  "kernelspec": {
   "display_name": "Python 3",
   "language": "python",
   "name": "python3"
  },
  "language_info": {
   "codemirror_mode": {
    "name": "ipython",
    "version": 3
   },
   "file_extension": ".py",
   "mimetype": "text/x-python",
   "name": "python",
   "nbconvert_exporter": "python",
   "pygments_lexer": "ipython3",
   "version": "3.7.3"
  }
 },
 "nbformat": 4,
 "nbformat_minor": 2
}
