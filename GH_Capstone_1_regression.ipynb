{
 "cells": [
  {
   "cell_type": "markdown",
   "metadata": {},
   "source": [
    "\n",
    "# Predicting Accidents in New York City\n",
    "## Capstone Project 1\n",
    "### Gene Hopping\n",
    "### Springboard Data Science Career Track\n",
    "## Part 3: Model generation\n",
    "# Contents"
   ]
  },
  {
   "cell_type": "code",
   "execution_count": 178,
   "metadata": {},
   "outputs": [],
   "source": [
    "#Imports\n",
    "import pandas as pd\n",
    "import numpy as np\n",
    "import matplotlib.pyplot as plt\n",
    "import seaborn as sns\n",
    "from sklearn.model_selection import train_test_split, cross_val_score\n",
    "from sklearn.linear_model import LinearRegression, Lasso, lars_path\n",
    "from sklearn.ensemble import RandomForestRegressor, RandomForestClassifier\n",
    "from sklearn import metrics\n",
    "from sklearn.preprocessing import StandardScaler, PolynomialFeatures\n",
    "import scipy.stats as stats\n",
    "from datetime import date, time, timedelta, datetime\n",
    "from patsy import dmatrices\n",
    "import statsmodels.api as sm\n",
    "import statsmodels.formula.api as smf\n",
    "import pickle"
   ]
  },
  {
   "cell_type": "code",
   "execution_count": 179,
   "metadata": {},
   "outputs": [
    {
     "name": "stderr",
     "output_type": "stream",
     "text": [
      "/Users/gene/anaconda3/lib/python3.7/site-packages/IPython/core/interactiveshell.py:3057: DtypeWarning: Columns (4) have mixed types. Specify dtype option on import or set low_memory=False.\n",
      "  interactivity=interactivity, compiler=compiler, result=result)\n"
     ]
    }
   ],
   "source": [
    "#read in the data frames\n",
    "accident_df = pd.read_csv('accident_df.csv')\n",
    "#read in the traffic volume dataframe\n",
    "volume_df = pd.read_csv('final_volume_counts.csv')"
   ]
  },
  {
   "cell_type": "markdown",
   "metadata": {},
   "source": [
    "# Accident data"
   ]
  },
  {
   "cell_type": "code",
   "execution_count": 180,
   "metadata": {},
   "outputs": [
    {
     "data": {
      "text/html": [
       "<div>\n",
       "<style scoped>\n",
       "    .dataframe tbody tr th:only-of-type {\n",
       "        vertical-align: middle;\n",
       "    }\n",
       "\n",
       "    .dataframe tbody tr th {\n",
       "        vertical-align: top;\n",
       "    }\n",
       "\n",
       "    .dataframe thead th {\n",
       "        text-align: right;\n",
       "    }\n",
       "</style>\n",
       "<table border=\"1\" class=\"dataframe\">\n",
       "  <thead>\n",
       "    <tr style=\"text-align: right;\">\n",
       "      <th></th>\n",
       "      <th>datetime</th>\n",
       "      <th>date</th>\n",
       "      <th>time</th>\n",
       "      <th>borough</th>\n",
       "      <th>zip_code</th>\n",
       "      <th>latitude</th>\n",
       "      <th>longitude</th>\n",
       "      <th>location</th>\n",
       "      <th>on_street_name</th>\n",
       "      <th>cross_street_name</th>\n",
       "      <th>...</th>\n",
       "      <th>contributing_factor_vehicle_3</th>\n",
       "      <th>contributing_factor_vehicle_4</th>\n",
       "      <th>contributing_factor_vehicle_5</th>\n",
       "      <th>unique_key</th>\n",
       "      <th>vehicle_type_code_1</th>\n",
       "      <th>vehicle_type_code_2</th>\n",
       "      <th>vehicle_type_code_3</th>\n",
       "      <th>vehicle_type_code_4</th>\n",
       "      <th>vehicle_type_code_5</th>\n",
       "      <th>datetime.1</th>\n",
       "    </tr>\n",
       "  </thead>\n",
       "  <tbody>\n",
       "    <tr>\n",
       "      <th>0</th>\n",
       "      <td>2019-04-16 00:00:00</td>\n",
       "      <td>2019-04-16 00:00:00</td>\n",
       "      <td>0:00</td>\n",
       "      <td>MANHATTAN</td>\n",
       "      <td>10010</td>\n",
       "      <td>40.737885</td>\n",
       "      <td>-73.98091</td>\n",
       "      <td>(40.737885, -73.98091)</td>\n",
       "      <td>2 AVENUE</td>\n",
       "      <td>EAST 23 STREET</td>\n",
       "      <td>...</td>\n",
       "      <td>NaN</td>\n",
       "      <td>NaN</td>\n",
       "      <td>NaN</td>\n",
       "      <td>4116367</td>\n",
       "      <td>Sedan</td>\n",
       "      <td>Station Wagon/Sport Utility Vehicle</td>\n",
       "      <td>NaN</td>\n",
       "      <td>NaN</td>\n",
       "      <td>NaN</td>\n",
       "      <td>2019-04-16 00:00:00</td>\n",
       "    </tr>\n",
       "    <tr>\n",
       "      <th>1</th>\n",
       "      <td>2019-04-16 00:00:00</td>\n",
       "      <td>2019-04-16 00:00:00</td>\n",
       "      <td>0:00</td>\n",
       "      <td>QUEENS</td>\n",
       "      <td>11354</td>\n",
       "      <td>40.762756</td>\n",
       "      <td>-73.82261</td>\n",
       "      <td>(40.762756, -73.82261)</td>\n",
       "      <td>PARSONS BOULEVARD</td>\n",
       "      <td>38 AVENUE</td>\n",
       "      <td>...</td>\n",
       "      <td>NaN</td>\n",
       "      <td>NaN</td>\n",
       "      <td>NaN</td>\n",
       "      <td>4115878</td>\n",
       "      <td>Sedan</td>\n",
       "      <td>Box Truck</td>\n",
       "      <td>NaN</td>\n",
       "      <td>NaN</td>\n",
       "      <td>NaN</td>\n",
       "      <td>2019-04-16 00:00:00</td>\n",
       "    </tr>\n",
       "    <tr>\n",
       "      <th>2</th>\n",
       "      <td>2019-04-16 00:00:00</td>\n",
       "      <td>2019-04-16 00:00:00</td>\n",
       "      <td>0:00</td>\n",
       "      <td>QUEENS</td>\n",
       "      <td>11367</td>\n",
       "      <td>40.729404</td>\n",
       "      <td>-73.82282</td>\n",
       "      <td>(40.729404, -73.82282)</td>\n",
       "      <td>NaN</td>\n",
       "      <td>NaN</td>\n",
       "      <td>...</td>\n",
       "      <td>NaN</td>\n",
       "      <td>NaN</td>\n",
       "      <td>NaN</td>\n",
       "      <td>4115808</td>\n",
       "      <td>Station Wagon/Sport Utility Vehicle</td>\n",
       "      <td>Station Wagon/Sport Utility Vehicle</td>\n",
       "      <td>NaN</td>\n",
       "      <td>NaN</td>\n",
       "      <td>NaN</td>\n",
       "      <td>2019-04-16 00:00:00</td>\n",
       "    </tr>\n",
       "    <tr>\n",
       "      <th>3</th>\n",
       "      <td>2019-04-16 00:00:00</td>\n",
       "      <td>2019-04-16 00:00:00</td>\n",
       "      <td>0:00</td>\n",
       "      <td>QUEENS</td>\n",
       "      <td>11413</td>\n",
       "      <td>40.665485</td>\n",
       "      <td>-73.75374</td>\n",
       "      <td>(40.665485, -73.75374)</td>\n",
       "      <td>SOUTH CONDUIT AVENUE</td>\n",
       "      <td>224 STREET</td>\n",
       "      <td>...</td>\n",
       "      <td>NaN</td>\n",
       "      <td>NaN</td>\n",
       "      <td>NaN</td>\n",
       "      <td>4115916</td>\n",
       "      <td>Station Wagon/Sport Utility Vehicle</td>\n",
       "      <td>NaN</td>\n",
       "      <td>NaN</td>\n",
       "      <td>NaN</td>\n",
       "      <td>NaN</td>\n",
       "      <td>2019-04-16 00:00:00</td>\n",
       "    </tr>\n",
       "    <tr>\n",
       "      <th>4</th>\n",
       "      <td>2019-04-16 00:00:00</td>\n",
       "      <td>2019-04-16 00:00:00</td>\n",
       "      <td>0:00</td>\n",
       "      <td>NaN</td>\n",
       "      <td>NaN</td>\n",
       "      <td>40.810173</td>\n",
       "      <td>-73.95117</td>\n",
       "      <td>(40.810173, -73.95117)</td>\n",
       "      <td>WEST 125 STREET</td>\n",
       "      <td>NaN</td>\n",
       "      <td>...</td>\n",
       "      <td>NaN</td>\n",
       "      <td>NaN</td>\n",
       "      <td>NaN</td>\n",
       "      <td>4116309</td>\n",
       "      <td>Station Wagon/Sport Utility Vehicle</td>\n",
       "      <td>Taxi</td>\n",
       "      <td>NaN</td>\n",
       "      <td>NaN</td>\n",
       "      <td>NaN</td>\n",
       "      <td>2019-04-16 00:00:00</td>\n",
       "    </tr>\n",
       "  </tbody>\n",
       "</table>\n",
       "<p>5 rows × 31 columns</p>\n",
       "</div>"
      ],
      "text/plain": [
       "              datetime                 date  time    borough zip_code  \\\n",
       "0  2019-04-16 00:00:00  2019-04-16 00:00:00  0:00  MANHATTAN    10010   \n",
       "1  2019-04-16 00:00:00  2019-04-16 00:00:00  0:00     QUEENS    11354   \n",
       "2  2019-04-16 00:00:00  2019-04-16 00:00:00  0:00     QUEENS    11367   \n",
       "3  2019-04-16 00:00:00  2019-04-16 00:00:00  0:00     QUEENS    11413   \n",
       "4  2019-04-16 00:00:00  2019-04-16 00:00:00  0:00        NaN      NaN   \n",
       "\n",
       "    latitude  longitude                location  \\\n",
       "0  40.737885  -73.98091  (40.737885, -73.98091)   \n",
       "1  40.762756  -73.82261  (40.762756, -73.82261)   \n",
       "2  40.729404  -73.82282  (40.729404, -73.82282)   \n",
       "3  40.665485  -73.75374  (40.665485, -73.75374)   \n",
       "4  40.810173  -73.95117  (40.810173, -73.95117)   \n",
       "\n",
       "                     on_street_name cross_street_name  ...  \\\n",
       "0  2 AVENUE                            EAST 23 STREET  ...   \n",
       "1  PARSONS BOULEVARD                        38 AVENUE  ...   \n",
       "2                               NaN               NaN  ...   \n",
       "3  SOUTH CONDUIT AVENUE                    224 STREET  ...   \n",
       "4  WEST 125 STREET                                NaN  ...   \n",
       "\n",
       "  contributing_factor_vehicle_3  contributing_factor_vehicle_4  \\\n",
       "0                           NaN                            NaN   \n",
       "1                           NaN                            NaN   \n",
       "2                           NaN                            NaN   \n",
       "3                           NaN                            NaN   \n",
       "4                           NaN                            NaN   \n",
       "\n",
       "   contributing_factor_vehicle_5  unique_key  \\\n",
       "0                            NaN     4116367   \n",
       "1                            NaN     4115878   \n",
       "2                            NaN     4115808   \n",
       "3                            NaN     4115916   \n",
       "4                            NaN     4116309   \n",
       "\n",
       "                   vehicle_type_code_1                  vehicle_type_code_2  \\\n",
       "0                                Sedan  Station Wagon/Sport Utility Vehicle   \n",
       "1                                Sedan                            Box Truck   \n",
       "2  Station Wagon/Sport Utility Vehicle  Station Wagon/Sport Utility Vehicle   \n",
       "3  Station Wagon/Sport Utility Vehicle                                  NaN   \n",
       "4  Station Wagon/Sport Utility Vehicle                                 Taxi   \n",
       "\n",
       "   vehicle_type_code_3  vehicle_type_code_4  vehicle_type_code_5  \\\n",
       "0                  NaN                  NaN                  NaN   \n",
       "1                  NaN                  NaN                  NaN   \n",
       "2                  NaN                  NaN                  NaN   \n",
       "3                  NaN                  NaN                  NaN   \n",
       "4                  NaN                  NaN                  NaN   \n",
       "\n",
       "            datetime.1  \n",
       "0  2019-04-16 00:00:00  \n",
       "1  2019-04-16 00:00:00  \n",
       "2  2019-04-16 00:00:00  \n",
       "3  2019-04-16 00:00:00  \n",
       "4  2019-04-16 00:00:00  \n",
       "\n",
       "[5 rows x 31 columns]"
      ]
     },
     "execution_count": 180,
     "metadata": {},
     "output_type": "execute_result"
    }
   ],
   "source": [
    "accident_df.head()"
   ]
  },
  {
   "cell_type": "code",
   "execution_count": 181,
   "metadata": {},
   "outputs": [
    {
     "name": "stdout",
     "output_type": "stream",
     "text": [
      "<class 'pandas.core.frame.DataFrame'>\n",
      "RangeIndex: 1293105 entries, 0 to 1293104\n",
      "Data columns (total 31 columns):\n",
      "datetime                         1293105 non-null object\n",
      "date                             1293105 non-null object\n",
      "time                             1293105 non-null object\n",
      "borough                          1010383 non-null object\n",
      "zip_code                         1010225 non-null object\n",
      "latitude                         1293105 non-null float64\n",
      "longitude                        1293105 non-null float64\n",
      "location                         1293105 non-null object\n",
      "on_street_name                   1060568 non-null object\n",
      "cross_street_name                887188 non-null object\n",
      "off_street_name                  170677 non-null object\n",
      "number_of_persons_injured        1293090 non-null float64\n",
      "number_of_persons_killed         1293077 non-null float64\n",
      "number_of_pedestrians_injured    1293105 non-null int64\n",
      "number_of_pedestrians_killed     1293105 non-null int64\n",
      "number_of_cyclist_injured        1293105 non-null int64\n",
      "number_of_cyclist_killed         1293105 non-null int64\n",
      "number_of_motorist_injured       1293105 non-null int64\n",
      "number_of_motorist_killed        1293105 non-null int64\n",
      "contributing_factor_vehicle_1    1289718 non-null object\n",
      "contributing_factor_vehicle_2    1117802 non-null object\n",
      "contributing_factor_vehicle_3    82790 non-null object\n",
      "contributing_factor_vehicle_4    17297 non-null object\n",
      "contributing_factor_vehicle_5    4456 non-null object\n",
      "unique_key                       1293105 non-null int64\n",
      "vehicle_type_code_1              1288790 non-null object\n",
      "vehicle_type_code_2              1077661 non-null object\n",
      "vehicle_type_code_3              110230 non-null object\n",
      "vehicle_type_code_4              43173 non-null object\n",
      "vehicle_type_code_5              9172 non-null object\n",
      "datetime.1                       1293105 non-null object\n",
      "dtypes: float64(4), int64(7), object(20)\n",
      "memory usage: 305.8+ MB\n"
     ]
    }
   ],
   "source": [
    "accident_df.info()"
   ]
  },
  {
   "cell_type": "markdown",
   "metadata": {},
   "source": [
    "Many features were imported as the generic 'object' type. First, set the index to datetime and then create a new dataframe be reampling data by hour"
   ]
  },
  {
   "cell_type": "code",
   "execution_count": 182,
   "metadata": {},
   "outputs": [
    {
     "data": {
      "text/html": [
       "<div>\n",
       "<style scoped>\n",
       "    .dataframe tbody tr th:only-of-type {\n",
       "        vertical-align: middle;\n",
       "    }\n",
       "\n",
       "    .dataframe tbody tr th {\n",
       "        vertical-align: top;\n",
       "    }\n",
       "\n",
       "    .dataframe thead th {\n",
       "        text-align: right;\n",
       "    }\n",
       "</style>\n",
       "<table border=\"1\" class=\"dataframe\">\n",
       "  <thead>\n",
       "    <tr style=\"text-align: right;\">\n",
       "      <th></th>\n",
       "      <th>date</th>\n",
       "    </tr>\n",
       "    <tr>\n",
       "      <th>datetime</th>\n",
       "      <th></th>\n",
       "    </tr>\n",
       "  </thead>\n",
       "  <tbody>\n",
       "    <tr>\n",
       "      <th>2012-07-01 00:00:00</th>\n",
       "      <td>15</td>\n",
       "    </tr>\n",
       "    <tr>\n",
       "      <th>2012-07-01 01:00:00</th>\n",
       "      <td>11</td>\n",
       "    </tr>\n",
       "    <tr>\n",
       "      <th>2012-07-01 02:00:00</th>\n",
       "      <td>14</td>\n",
       "    </tr>\n",
       "    <tr>\n",
       "      <th>2012-07-01 03:00:00</th>\n",
       "      <td>17</td>\n",
       "    </tr>\n",
       "    <tr>\n",
       "      <th>2012-07-01 04:00:00</th>\n",
       "      <td>7</td>\n",
       "    </tr>\n",
       "  </tbody>\n",
       "</table>\n",
       "</div>"
      ],
      "text/plain": [
       "                     date\n",
       "datetime                 \n",
       "2012-07-01 00:00:00    15\n",
       "2012-07-01 01:00:00    11\n",
       "2012-07-01 02:00:00    14\n",
       "2012-07-01 03:00:00    17\n",
       "2012-07-01 04:00:00     7"
      ]
     },
     "execution_count": 182,
     "metadata": {},
     "output_type": "execute_result"
    }
   ],
   "source": [
    "accident_df = accident_df.set_index(pd.DatetimeIndex(accident_df['datetime']))\n",
    "accident_hourly_df = pd.DataFrame(accident_df['date'].resample('H').count())\n",
    "accident_hourly_df.head()"
   ]
  },
  {
   "cell_type": "code",
   "execution_count": null,
   "metadata": {},
   "outputs": [],
   "source": []
  },
  {
   "cell_type": "code",
   "execution_count": 183,
   "metadata": {},
   "outputs": [
    {
     "data": {
      "text/html": [
       "<div>\n",
       "<style scoped>\n",
       "    .dataframe tbody tr th:only-of-type {\n",
       "        vertical-align: middle;\n",
       "    }\n",
       "\n",
       "    .dataframe tbody tr th {\n",
       "        vertical-align: top;\n",
       "    }\n",
       "\n",
       "    .dataframe thead th {\n",
       "        text-align: right;\n",
       "    }\n",
       "</style>\n",
       "<table border=\"1\" class=\"dataframe\">\n",
       "  <thead>\n",
       "    <tr style=\"text-align: right;\">\n",
       "      <th></th>\n",
       "      <th>date</th>\n",
       "      <th>day_of_week</th>\n",
       "    </tr>\n",
       "    <tr>\n",
       "      <th>datetime</th>\n",
       "      <th></th>\n",
       "      <th></th>\n",
       "    </tr>\n",
       "  </thead>\n",
       "  <tbody>\n",
       "    <tr>\n",
       "      <th>2012-07-01 00:00:00</th>\n",
       "      <td>15</td>\n",
       "      <td>6</td>\n",
       "    </tr>\n",
       "    <tr>\n",
       "      <th>2012-07-01 01:00:00</th>\n",
       "      <td>11</td>\n",
       "      <td>6</td>\n",
       "    </tr>\n",
       "    <tr>\n",
       "      <th>2012-07-01 02:00:00</th>\n",
       "      <td>14</td>\n",
       "      <td>6</td>\n",
       "    </tr>\n",
       "    <tr>\n",
       "      <th>2012-07-01 03:00:00</th>\n",
       "      <td>17</td>\n",
       "      <td>6</td>\n",
       "    </tr>\n",
       "    <tr>\n",
       "      <th>2012-07-01 04:00:00</th>\n",
       "      <td>7</td>\n",
       "      <td>6</td>\n",
       "    </tr>\n",
       "  </tbody>\n",
       "</table>\n",
       "</div>"
      ],
      "text/plain": [
       "                     date  day_of_week\n",
       "datetime                              \n",
       "2012-07-01 00:00:00    15            6\n",
       "2012-07-01 01:00:00    11            6\n",
       "2012-07-01 02:00:00    14            6\n",
       "2012-07-01 03:00:00    17            6\n",
       "2012-07-01 04:00:00     7            6"
      ]
     },
     "execution_count": 183,
     "metadata": {},
     "output_type": "execute_result"
    }
   ],
   "source": [
    "#will need to rename accident count column. Add in day of the week for convenience\n",
    "accident_hourly_df['day_of_week'] = accident_hourly_df.index.dayofweek\n",
    "accident_hourly_df.head()"
   ]
  },
  {
   "cell_type": "code",
   "execution_count": 184,
   "metadata": {},
   "outputs": [
    {
     "data": {
      "text/html": [
       "<div>\n",
       "<style scoped>\n",
       "    .dataframe tbody tr th:only-of-type {\n",
       "        vertical-align: middle;\n",
       "    }\n",
       "\n",
       "    .dataframe tbody tr th {\n",
       "        vertical-align: top;\n",
       "    }\n",
       "\n",
       "    .dataframe thead th {\n",
       "        text-align: right;\n",
       "    }\n",
       "</style>\n",
       "<table border=\"1\" class=\"dataframe\">\n",
       "  <thead>\n",
       "    <tr style=\"text-align: right;\">\n",
       "      <th></th>\n",
       "      <th>datetime</th>\n",
       "      <th>accidents</th>\n",
       "      <th>day_of_week</th>\n",
       "    </tr>\n",
       "  </thead>\n",
       "  <tbody>\n",
       "    <tr>\n",
       "      <th>0</th>\n",
       "      <td>2012-07-01 00:00:00</td>\n",
       "      <td>15</td>\n",
       "      <td>6</td>\n",
       "    </tr>\n",
       "    <tr>\n",
       "      <th>1</th>\n",
       "      <td>2012-07-01 01:00:00</td>\n",
       "      <td>11</td>\n",
       "      <td>6</td>\n",
       "    </tr>\n",
       "    <tr>\n",
       "      <th>2</th>\n",
       "      <td>2012-07-01 02:00:00</td>\n",
       "      <td>14</td>\n",
       "      <td>6</td>\n",
       "    </tr>\n",
       "    <tr>\n",
       "      <th>3</th>\n",
       "      <td>2012-07-01 03:00:00</td>\n",
       "      <td>17</td>\n",
       "      <td>6</td>\n",
       "    </tr>\n",
       "    <tr>\n",
       "      <th>4</th>\n",
       "      <td>2012-07-01 04:00:00</td>\n",
       "      <td>7</td>\n",
       "      <td>6</td>\n",
       "    </tr>\n",
       "  </tbody>\n",
       "</table>\n",
       "</div>"
      ],
      "text/plain": [
       "             datetime  accidents  day_of_week\n",
       "0 2012-07-01 00:00:00         15            6\n",
       "1 2012-07-01 01:00:00         11            6\n",
       "2 2012-07-01 02:00:00         14            6\n",
       "3 2012-07-01 03:00:00         17            6\n",
       "4 2012-07-01 04:00:00          7            6"
      ]
     },
     "execution_count": 184,
     "metadata": {},
     "output_type": "execute_result"
    }
   ],
   "source": [
    "#sort out the columns titles.\n",
    "accident_hourly_df.reset_index(level=0, inplace=True)\n",
    "accident_hourly_df = accident_hourly_df.rename(columns={'date':'accidents'})\n",
    "accident_hourly_df.head()\n"
   ]
  },
  {
   "cell_type": "code",
   "execution_count": 185,
   "metadata": {},
   "outputs": [],
   "source": [
    "#mean_accident_hour_df = pd.DataFrame(accident_hourly_df['accidents'].groupby([accident_hourly_df['day_of_week'], \\\n",
    " #                               accident_hourly_df['datetime']]).mean())\n",
    "#mean_accident_hour_df.head()"
   ]
  },
  {
   "cell_type": "markdown",
   "metadata": {},
   "source": [
    "# Volume data"
   ]
  },
  {
   "cell_type": "code",
   "execution_count": 186,
   "metadata": {},
   "outputs": [
    {
     "data": {
      "text/html": [
       "<div>\n",
       "<style scoped>\n",
       "    .dataframe tbody tr th:only-of-type {\n",
       "        vertical-align: middle;\n",
       "    }\n",
       "\n",
       "    .dataframe tbody tr th {\n",
       "        vertical-align: top;\n",
       "    }\n",
       "\n",
       "    .dataframe thead th {\n",
       "        text-align: right;\n",
       "    }\n",
       "</style>\n",
       "<table border=\"1\" class=\"dataframe\">\n",
       "  <thead>\n",
       "    <tr style=\"text-align: right;\">\n",
       "      <th></th>\n",
       "      <th>datetime</th>\n",
       "      <th>date</th>\n",
       "      <th>time</th>\n",
       "      <th>volume</th>\n",
       "    </tr>\n",
       "  </thead>\n",
       "  <tbody>\n",
       "    <tr>\n",
       "      <th>0</th>\n",
       "      <td>2014-09-13 00:00:00</td>\n",
       "      <td>2014-09-13</td>\n",
       "      <td>00:00:00</td>\n",
       "      <td>22709</td>\n",
       "    </tr>\n",
       "    <tr>\n",
       "      <th>1</th>\n",
       "      <td>2014-09-13 01:00:00</td>\n",
       "      <td>2014-09-13</td>\n",
       "      <td>01:00:00</td>\n",
       "      <td>16322</td>\n",
       "    </tr>\n",
       "    <tr>\n",
       "      <th>2</th>\n",
       "      <td>2014-09-13 02:00:00</td>\n",
       "      <td>2014-09-13</td>\n",
       "      <td>02:00:00</td>\n",
       "      <td>12008</td>\n",
       "    </tr>\n",
       "    <tr>\n",
       "      <th>3</th>\n",
       "      <td>2014-09-13 03:00:00</td>\n",
       "      <td>2014-09-13</td>\n",
       "      <td>03:00:00</td>\n",
       "      <td>9937</td>\n",
       "    </tr>\n",
       "    <tr>\n",
       "      <th>4</th>\n",
       "      <td>2014-09-13 04:00:00</td>\n",
       "      <td>2014-09-13</td>\n",
       "      <td>04:00:00</td>\n",
       "      <td>11198</td>\n",
       "    </tr>\n",
       "  </tbody>\n",
       "</table>\n",
       "</div>"
      ],
      "text/plain": [
       "             datetime        date      time  volume\n",
       "0 2014-09-13 00:00:00  2014-09-13  00:00:00   22709\n",
       "1 2014-09-13 01:00:00  2014-09-13  01:00:00   16322\n",
       "2 2014-09-13 02:00:00  2014-09-13  02:00:00   12008\n",
       "3 2014-09-13 03:00:00  2014-09-13  03:00:00    9937\n",
       "4 2014-09-13 04:00:00  2014-09-13  04:00:00   11198"
      ]
     },
     "execution_count": 186,
     "metadata": {},
     "output_type": "execute_result"
    }
   ],
   "source": [
    "volume_df = volume_df.rename(columns={'count':'volume'})\n",
    "volume_df['datetime'] = volume_df['datetime'].astype('datetime64')\n",
    "volume_df.head()"
   ]
  },
  {
   "cell_type": "code",
   "execution_count": 187,
   "metadata": {},
   "outputs": [],
   "source": [
    "#Visualizing overlap of data\n",
    "#perform outer join to keep all  data. match on datetime.\n",
    "overlap_vol_df = volume_df[['date', 'time', 'volume']].copy()\n",
    "overlap_vol_df['vol_present'] = np.where(overlap_vol_df['volume'] >=5, 1, 0)"
   ]
  },
  {
   "cell_type": "code",
   "execution_count": 188,
   "metadata": {},
   "outputs": [
    {
     "data": {
      "text/plain": [
       "(7944, 7810)"
      ]
     },
     "execution_count": 188,
     "metadata": {},
     "output_type": "execute_result"
    }
   ],
   "source": [
    "len(overlap_vol_df), overlap_vol_df.vol_present.sum()"
   ]
  },
  {
   "cell_type": "code",
   "execution_count": 189,
   "metadata": {},
   "outputs": [
    {
     "data": {
      "text/html": [
       "<div>\n",
       "<style scoped>\n",
       "    .dataframe tbody tr th:only-of-type {\n",
       "        vertical-align: middle;\n",
       "    }\n",
       "\n",
       "    .dataframe tbody tr th {\n",
       "        vertical-align: top;\n",
       "    }\n",
       "\n",
       "    .dataframe thead th {\n",
       "        text-align: right;\n",
       "    }\n",
       "</style>\n",
       "<table border=\"1\" class=\"dataframe\">\n",
       "  <thead>\n",
       "    <tr style=\"text-align: right;\">\n",
       "      <th></th>\n",
       "      <th>date</th>\n",
       "      <th>time</th>\n",
       "      <th>volume</th>\n",
       "      <th>vol_present</th>\n",
       "    </tr>\n",
       "  </thead>\n",
       "  <tbody>\n",
       "    <tr>\n",
       "      <th>7939</th>\n",
       "      <td>2018-04-15</td>\n",
       "      <td>19:00:00</td>\n",
       "      <td>25500</td>\n",
       "      <td>1</td>\n",
       "    </tr>\n",
       "    <tr>\n",
       "      <th>7940</th>\n",
       "      <td>2018-04-15</td>\n",
       "      <td>20:00:00</td>\n",
       "      <td>22073</td>\n",
       "      <td>1</td>\n",
       "    </tr>\n",
       "    <tr>\n",
       "      <th>7941</th>\n",
       "      <td>2018-04-15</td>\n",
       "      <td>21:00:00</td>\n",
       "      <td>18295</td>\n",
       "      <td>1</td>\n",
       "    </tr>\n",
       "    <tr>\n",
       "      <th>7942</th>\n",
       "      <td>2018-04-15</td>\n",
       "      <td>22:00:00</td>\n",
       "      <td>14946</td>\n",
       "      <td>1</td>\n",
       "    </tr>\n",
       "    <tr>\n",
       "      <th>7943</th>\n",
       "      <td>2018-04-15</td>\n",
       "      <td>23:00:00</td>\n",
       "      <td>24938</td>\n",
       "      <td>1</td>\n",
       "    </tr>\n",
       "  </tbody>\n",
       "</table>\n",
       "</div>"
      ],
      "text/plain": [
       "            date      time  volume  vol_present\n",
       "7939  2018-04-15  19:00:00   25500            1\n",
       "7940  2018-04-15  20:00:00   22073            1\n",
       "7941  2018-04-15  21:00:00   18295            1\n",
       "7942  2018-04-15  22:00:00   14946            1\n",
       "7943  2018-04-15  23:00:00   24938            1"
      ]
     },
     "execution_count": 189,
     "metadata": {},
     "output_type": "execute_result"
    }
   ],
   "source": [
    "overlap_vol_df.tail()"
   ]
  },
  {
   "cell_type": "markdown",
   "metadata": {},
   "source": [
    "# Joining Data"
   ]
  },
  {
   "cell_type": "code",
   "execution_count": 190,
   "metadata": {},
   "outputs": [
    {
     "data": {
      "text/html": [
       "<div>\n",
       "<style scoped>\n",
       "    .dataframe tbody tr th:only-of-type {\n",
       "        vertical-align: middle;\n",
       "    }\n",
       "\n",
       "    .dataframe tbody tr th {\n",
       "        vertical-align: top;\n",
       "    }\n",
       "\n",
       "    .dataframe thead th {\n",
       "        text-align: right;\n",
       "    }\n",
       "</style>\n",
       "<table border=\"1\" class=\"dataframe\">\n",
       "  <thead>\n",
       "    <tr style=\"text-align: right;\">\n",
       "      <th></th>\n",
       "      <th>datetime</th>\n",
       "      <th>accidents</th>\n",
       "      <th>day_of_week</th>\n",
       "    </tr>\n",
       "  </thead>\n",
       "  <tbody>\n",
       "    <tr>\n",
       "      <th>0</th>\n",
       "      <td>2012-07-01 00:00:00</td>\n",
       "      <td>15</td>\n",
       "      <td>6</td>\n",
       "    </tr>\n",
       "    <tr>\n",
       "      <th>1</th>\n",
       "      <td>2012-07-01 01:00:00</td>\n",
       "      <td>11</td>\n",
       "      <td>6</td>\n",
       "    </tr>\n",
       "    <tr>\n",
       "      <th>2</th>\n",
       "      <td>2012-07-01 02:00:00</td>\n",
       "      <td>14</td>\n",
       "      <td>6</td>\n",
       "    </tr>\n",
       "    <tr>\n",
       "      <th>3</th>\n",
       "      <td>2012-07-01 03:00:00</td>\n",
       "      <td>17</td>\n",
       "      <td>6</td>\n",
       "    </tr>\n",
       "    <tr>\n",
       "      <th>4</th>\n",
       "      <td>2012-07-01 04:00:00</td>\n",
       "      <td>7</td>\n",
       "      <td>6</td>\n",
       "    </tr>\n",
       "  </tbody>\n",
       "</table>\n",
       "</div>"
      ],
      "text/plain": [
       "             datetime  accidents  day_of_week\n",
       "0 2012-07-01 00:00:00         15            6\n",
       "1 2012-07-01 01:00:00         11            6\n",
       "2 2012-07-01 02:00:00         14            6\n",
       "3 2012-07-01 03:00:00         17            6\n",
       "4 2012-07-01 04:00:00          7            6"
      ]
     },
     "execution_count": 190,
     "metadata": {},
     "output_type": "execute_result"
    }
   ],
   "source": [
    "accident_hourly_df.head()"
   ]
  },
  {
   "cell_type": "code",
   "execution_count": 191,
   "metadata": {},
   "outputs": [],
   "source": [
    "#perform inner join to keep only overlapping data. match on datetime.\n",
    "accident_merge = pd.merge(volume_df,\n",
    "                         accident_hourly_df[['accidents']],\n",
    "                            left_on=volume_df['datetime'],\n",
    "                            right_on=accident_hourly_df['datetime'],\n",
    "                            how='inner')"
   ]
  },
  {
   "cell_type": "code",
   "execution_count": 192,
   "metadata": {},
   "outputs": [
    {
     "data": {
      "text/html": [
       "<div>\n",
       "<style scoped>\n",
       "    .dataframe tbody tr th:only-of-type {\n",
       "        vertical-align: middle;\n",
       "    }\n",
       "\n",
       "    .dataframe tbody tr th {\n",
       "        vertical-align: top;\n",
       "    }\n",
       "\n",
       "    .dataframe thead th {\n",
       "        text-align: right;\n",
       "    }\n",
       "</style>\n",
       "<table border=\"1\" class=\"dataframe\">\n",
       "  <thead>\n",
       "    <tr style=\"text-align: right;\">\n",
       "      <th></th>\n",
       "      <th>key_0</th>\n",
       "      <th>datetime</th>\n",
       "      <th>date</th>\n",
       "      <th>time</th>\n",
       "      <th>volume</th>\n",
       "      <th>accidents</th>\n",
       "    </tr>\n",
       "  </thead>\n",
       "  <tbody>\n",
       "    <tr>\n",
       "      <th>0</th>\n",
       "      <td>2014-09-13 00:00:00</td>\n",
       "      <td>2014-09-13 00:00:00</td>\n",
       "      <td>2014-09-13</td>\n",
       "      <td>00:00:00</td>\n",
       "      <td>22709</td>\n",
       "      <td>17</td>\n",
       "    </tr>\n",
       "    <tr>\n",
       "      <th>1</th>\n",
       "      <td>2014-09-13 01:00:00</td>\n",
       "      <td>2014-09-13 01:00:00</td>\n",
       "      <td>2014-09-13</td>\n",
       "      <td>01:00:00</td>\n",
       "      <td>16322</td>\n",
       "      <td>21</td>\n",
       "    </tr>\n",
       "    <tr>\n",
       "      <th>2</th>\n",
       "      <td>2014-09-13 02:00:00</td>\n",
       "      <td>2014-09-13 02:00:00</td>\n",
       "      <td>2014-09-13</td>\n",
       "      <td>02:00:00</td>\n",
       "      <td>12008</td>\n",
       "      <td>10</td>\n",
       "    </tr>\n",
       "    <tr>\n",
       "      <th>3</th>\n",
       "      <td>2014-09-13 03:00:00</td>\n",
       "      <td>2014-09-13 03:00:00</td>\n",
       "      <td>2014-09-13</td>\n",
       "      <td>03:00:00</td>\n",
       "      <td>9937</td>\n",
       "      <td>7</td>\n",
       "    </tr>\n",
       "    <tr>\n",
       "      <th>4</th>\n",
       "      <td>2014-09-13 04:00:00</td>\n",
       "      <td>2014-09-13 04:00:00</td>\n",
       "      <td>2014-09-13</td>\n",
       "      <td>04:00:00</td>\n",
       "      <td>11198</td>\n",
       "      <td>15</td>\n",
       "    </tr>\n",
       "  </tbody>\n",
       "</table>\n",
       "</div>"
      ],
      "text/plain": [
       "                key_0            datetime        date      time  volume  \\\n",
       "0 2014-09-13 00:00:00 2014-09-13 00:00:00  2014-09-13  00:00:00   22709   \n",
       "1 2014-09-13 01:00:00 2014-09-13 01:00:00  2014-09-13  01:00:00   16322   \n",
       "2 2014-09-13 02:00:00 2014-09-13 02:00:00  2014-09-13  02:00:00   12008   \n",
       "3 2014-09-13 03:00:00 2014-09-13 03:00:00  2014-09-13  03:00:00    9937   \n",
       "4 2014-09-13 04:00:00 2014-09-13 04:00:00  2014-09-13  04:00:00   11198   \n",
       "\n",
       "   accidents  \n",
       "0         17  \n",
       "1         21  \n",
       "2         10  \n",
       "3          7  \n",
       "4         15  "
      ]
     },
     "execution_count": 192,
     "metadata": {},
     "output_type": "execute_result"
    }
   ],
   "source": [
    "accident_merge.head()"
   ]
  },
  {
   "cell_type": "code",
   "execution_count": 193,
   "metadata": {},
   "outputs": [
    {
     "name": "stdout",
     "output_type": "stream",
     "text": [
      "Length of accident dataframe: 59544\n",
      "Length of volume dataframe: 7944\n",
      "Length of merged dataframe: 7944\n"
     ]
    }
   ],
   "source": [
    "#check lengths\n",
    "len_accident_merge = len(accident_merge)\n",
    "len_vol = len(volume_df)\n",
    "len_accident = len(accident_hourly_df)\n",
    "print(f'Length of accident dataframe: {len_accident}\\nLength of volume dataframe: {len_vol}\\\n",
    "\\nLength of merged dataframe: {len_accident_merge}')"
   ]
  },
  {
   "cell_type": "markdown",
   "metadata": {},
   "source": [
    "Clean the above dataframe up to contain just volume, date, time and number of accidents. This is the base data used for the model building."
   ]
  },
  {
   "cell_type": "code",
   "execution_count": 194,
   "metadata": {},
   "outputs": [],
   "source": [
    "#Select columns to keep in final df - want date and time so can split time into dummy variables\n",
    "accident_reg_df = accident_merge[['volume', 'date', 'time', 'accidents']]\n",
    "merged_by_hour = accident_reg_df.copy()\n",
    "accident_reg_df.head()\n",
    "accident_volume_df = accident_reg_df.copy()"
   ]
  },
  {
   "cell_type": "code",
   "execution_count": 195,
   "metadata": {},
   "outputs": [],
   "source": [
    "#write dataframe to disk\n",
    "\n",
    "accident_reg_df.to_csv(path_or_buf='accident_reg_df.csv')"
   ]
  },
  {
   "cell_type": "code",
   "execution_count": 196,
   "metadata": {},
   "outputs": [
    {
     "data": {
      "text/plain": [
       "Text(0, 0.5, 'Accidents')"
      ]
     },
     "execution_count": 196,
     "metadata": {},
     "output_type": "execute_result"
    },
    {
     "data": {
      "image/png": "[encoded data removed]",
      "text/plain": [
       "<Figure size 864x432 with 2 Axes>"
      ]
     },
     "metadata": {
      "needs_background": "light"
     },
     "output_type": "display_data"
    }
   ],
   "source": [
    "#look at both volume and accidents summed for each hour of the day. Divide by max to\n",
    "# get faction max value so can see if have same general trend\n",
    "summed_by_hour = merged_by_hour.groupby(['time']).sum()\n",
    "\n",
    "#plt.scatter(summed_by_hour.volume, summed_by_hour.accidents)\n",
    "plt.figure(figsize=(12,6))\n",
    "plt.subplot(1,2,1)\n",
    "plt.bar(summed_by_hour.index, summed_by_hour.volume/summed_by_hour.volume.max(), label='volume')\n",
    "plt.bar(summed_by_hour.index, summed_by_hour.accidents/summed_by_hour.accidents.max(), alpha=0.8, \\\n",
    "        label='accidents')\n",
    "plt.title('Fraction of max accidents and traffic volume')\n",
    "plt.xlabel('hour')\n",
    "plt.ylabel('fraction of maximum')\n",
    "_ = plt.xticks(rotation=90)\n",
    "plt.legend()\n",
    "plt.subplot(1,2,2)\n",
    "_ = plt.scatter(summed_by_hour.volume, summed_by_hour.accidents)\n",
    "plt.title('Traffic accidents vs volume')\n",
    "plt.xlabel('Volume')\n",
    "plt.ylabel('Accidents')"
   ]
  },
  {
   "cell_type": "markdown",
   "metadata": {},
   "source": [
    "Due to the orders of magnitude difference between accidents and number of cars on the road, we used the metric 'fraction max X' to adjust the values to be on the same scale. Data was summed for each hour, irrespective of the day. The bar plot on the left shows the bimodal distribution seen with each distribution, and the same general trend. When plotted against each other, there appears to be a linear relationship between the number of cars on the road and the number of accidents. There are some outliers, however, so let's investigate whether these are imply just outliers, or indicate increased risk of accidents."
   ]
  },
  {
   "cell_type": "code",
   "execution_count": 197,
   "metadata": {},
   "outputs": [],
   "source": [
    "#Want to build in 24 dummy variables for the regression to add the hour of the day as a feature\n",
    "#to the regression\n",
    "dum = pd.get_dummies(accident_reg_df['time'])\n",
    "accident_reg_df = pd.concat([accident_reg_df, dum], axis=1) \n",
    "accident_reg_df = accident_reg_df.drop('time', axis=1)"
   ]
  },
  {
   "cell_type": "code",
   "execution_count": 198,
   "metadata": {
    "scrolled": true
   },
   "outputs": [
    {
     "data": {
      "text/html": [
       "<div>\n",
       "<style scoped>\n",
       "    .dataframe tbody tr th:only-of-type {\n",
       "        vertical-align: middle;\n",
       "    }\n",
       "\n",
       "    .dataframe tbody tr th {\n",
       "        vertical-align: top;\n",
       "    }\n",
       "\n",
       "    .dataframe thead th {\n",
       "        text-align: right;\n",
       "    }\n",
       "</style>\n",
       "<table border=\"1\" class=\"dataframe\">\n",
       "  <thead>\n",
       "    <tr style=\"text-align: right;\">\n",
       "      <th></th>\n",
       "      <th>volume</th>\n",
       "      <th>date</th>\n",
       "      <th>accidents</th>\n",
       "      <th>00:00:00</th>\n",
       "      <th>01:00:00</th>\n",
       "      <th>02:00:00</th>\n",
       "      <th>03:00:00</th>\n",
       "      <th>04:00:00</th>\n",
       "      <th>05:00:00</th>\n",
       "      <th>06:00:00</th>\n",
       "      <th>...</th>\n",
       "      <th>14:00:00</th>\n",
       "      <th>15:00:00</th>\n",
       "      <th>16:00:00</th>\n",
       "      <th>17:00:00</th>\n",
       "      <th>18:00:00</th>\n",
       "      <th>19:00:00</th>\n",
       "      <th>20:00:00</th>\n",
       "      <th>21:00:00</th>\n",
       "      <th>22:00:00</th>\n",
       "      <th>23:00:00</th>\n",
       "    </tr>\n",
       "  </thead>\n",
       "  <tbody>\n",
       "    <tr>\n",
       "      <th>0</th>\n",
       "      <td>22709</td>\n",
       "      <td>2014-09-13</td>\n",
       "      <td>17</td>\n",
       "      <td>1</td>\n",
       "      <td>0</td>\n",
       "      <td>0</td>\n",
       "      <td>0</td>\n",
       "      <td>0</td>\n",
       "      <td>0</td>\n",
       "      <td>0</td>\n",
       "      <td>...</td>\n",
       "      <td>0</td>\n",
       "      <td>0</td>\n",
       "      <td>0</td>\n",
       "      <td>0</td>\n",
       "      <td>0</td>\n",
       "      <td>0</td>\n",
       "      <td>0</td>\n",
       "      <td>0</td>\n",
       "      <td>0</td>\n",
       "      <td>0</td>\n",
       "    </tr>\n",
       "    <tr>\n",
       "      <th>1</th>\n",
       "      <td>16322</td>\n",
       "      <td>2014-09-13</td>\n",
       "      <td>21</td>\n",
       "      <td>0</td>\n",
       "      <td>1</td>\n",
       "      <td>0</td>\n",
       "      <td>0</td>\n",
       "      <td>0</td>\n",
       "      <td>0</td>\n",
       "      <td>0</td>\n",
       "      <td>...</td>\n",
       "      <td>0</td>\n",
       "      <td>0</td>\n",
       "      <td>0</td>\n",
       "      <td>0</td>\n",
       "      <td>0</td>\n",
       "      <td>0</td>\n",
       "      <td>0</td>\n",
       "      <td>0</td>\n",
       "      <td>0</td>\n",
       "      <td>0</td>\n",
       "    </tr>\n",
       "    <tr>\n",
       "      <th>2</th>\n",
       "      <td>12008</td>\n",
       "      <td>2014-09-13</td>\n",
       "      <td>10</td>\n",
       "      <td>0</td>\n",
       "      <td>0</td>\n",
       "      <td>1</td>\n",
       "      <td>0</td>\n",
       "      <td>0</td>\n",
       "      <td>0</td>\n",
       "      <td>0</td>\n",
       "      <td>...</td>\n",
       "      <td>0</td>\n",
       "      <td>0</td>\n",
       "      <td>0</td>\n",
       "      <td>0</td>\n",
       "      <td>0</td>\n",
       "      <td>0</td>\n",
       "      <td>0</td>\n",
       "      <td>0</td>\n",
       "      <td>0</td>\n",
       "      <td>0</td>\n",
       "    </tr>\n",
       "    <tr>\n",
       "      <th>3</th>\n",
       "      <td>9937</td>\n",
       "      <td>2014-09-13</td>\n",
       "      <td>7</td>\n",
       "      <td>0</td>\n",
       "      <td>0</td>\n",
       "      <td>0</td>\n",
       "      <td>1</td>\n",
       "      <td>0</td>\n",
       "      <td>0</td>\n",
       "      <td>0</td>\n",
       "      <td>...</td>\n",
       "      <td>0</td>\n",
       "      <td>0</td>\n",
       "      <td>0</td>\n",
       "      <td>0</td>\n",
       "      <td>0</td>\n",
       "      <td>0</td>\n",
       "      <td>0</td>\n",
       "      <td>0</td>\n",
       "      <td>0</td>\n",
       "      <td>0</td>\n",
       "    </tr>\n",
       "    <tr>\n",
       "      <th>4</th>\n",
       "      <td>11198</td>\n",
       "      <td>2014-09-13</td>\n",
       "      <td>15</td>\n",
       "      <td>0</td>\n",
       "      <td>0</td>\n",
       "      <td>0</td>\n",
       "      <td>0</td>\n",
       "      <td>1</td>\n",
       "      <td>0</td>\n",
       "      <td>0</td>\n",
       "      <td>...</td>\n",
       "      <td>0</td>\n",
       "      <td>0</td>\n",
       "      <td>0</td>\n",
       "      <td>0</td>\n",
       "      <td>0</td>\n",
       "      <td>0</td>\n",
       "      <td>0</td>\n",
       "      <td>0</td>\n",
       "      <td>0</td>\n",
       "      <td>0</td>\n",
       "    </tr>\n",
       "  </tbody>\n",
       "</table>\n",
       "<p>5 rows × 27 columns</p>\n",
       "</div>"
      ],
      "text/plain": [
       "   volume       date  accidents  00:00:00  01:00:00  02:00:00  03:00:00  \\\n",
       "0   22709 2014-09-13         17         1         0         0         0   \n",
       "1   16322 2014-09-13         21         0         1         0         0   \n",
       "2   12008 2014-09-13         10         0         0         1         0   \n",
       "3    9937 2014-09-13          7         0         0         0         1   \n",
       "4   11198 2014-09-13         15         0         0         0         0   \n",
       "\n",
       "   04:00:00  05:00:00  06:00:00  ...  14:00:00  15:00:00  16:00:00  17:00:00  \\\n",
       "0         0         0         0  ...         0         0         0         0   \n",
       "1         0         0         0  ...         0         0         0         0   \n",
       "2         0         0         0  ...         0         0         0         0   \n",
       "3         0         0         0  ...         0         0         0         0   \n",
       "4         1         0         0  ...         0         0         0         0   \n",
       "\n",
       "   18:00:00  19:00:00  20:00:00  21:00:00  22:00:00  23:00:00  \n",
       "0         0         0         0         0         0         0  \n",
       "1         0         0         0         0         0         0  \n",
       "2         0         0         0         0         0         0  \n",
       "3         0         0         0         0         0         0  \n",
       "4         0         0         0         0         0         0  \n",
       "\n",
       "[5 rows x 27 columns]"
      ]
     },
     "execution_count": 198,
     "metadata": {},
     "output_type": "execute_result"
    }
   ],
   "source": [
    "accident_reg_df.date = accident_reg_df.date.astype('datetime64')\n",
    "accident_reg_df.head()\n",
    "#accident_reg_df.info()"
   ]
  },
  {
   "cell_type": "code",
   "execution_count": 199,
   "metadata": {},
   "outputs": [
    {
     "data": {
      "text/html": [
       "<div>\n",
       "<style scoped>\n",
       "    .dataframe tbody tr th:only-of-type {\n",
       "        vertical-align: middle;\n",
       "    }\n",
       "\n",
       "    .dataframe tbody tr th {\n",
       "        vertical-align: top;\n",
       "    }\n",
       "\n",
       "    .dataframe thead th {\n",
       "        text-align: right;\n",
       "    }\n",
       "</style>\n",
       "<table border=\"1\" class=\"dataframe\">\n",
       "  <thead>\n",
       "    <tr style=\"text-align: right;\">\n",
       "      <th></th>\n",
       "      <th>volume</th>\n",
       "      <th>date</th>\n",
       "      <th>accidents</th>\n",
       "      <th>00:00:00</th>\n",
       "      <th>01:00:00</th>\n",
       "      <th>02:00:00</th>\n",
       "      <th>03:00:00</th>\n",
       "      <th>04:00:00</th>\n",
       "      <th>05:00:00</th>\n",
       "      <th>06:00:00</th>\n",
       "      <th>...</th>\n",
       "      <th>14:00:00</th>\n",
       "      <th>15:00:00</th>\n",
       "      <th>16:00:00</th>\n",
       "      <th>17:00:00</th>\n",
       "      <th>18:00:00</th>\n",
       "      <th>19:00:00</th>\n",
       "      <th>20:00:00</th>\n",
       "      <th>21:00:00</th>\n",
       "      <th>22:00:00</th>\n",
       "      <th>23:00:00</th>\n",
       "    </tr>\n",
       "  </thead>\n",
       "  <tbody>\n",
       "    <tr>\n",
       "      <th>0</th>\n",
       "      <td>22709</td>\n",
       "      <td>0</td>\n",
       "      <td>17</td>\n",
       "      <td>1</td>\n",
       "      <td>0</td>\n",
       "      <td>0</td>\n",
       "      <td>0</td>\n",
       "      <td>0</td>\n",
       "      <td>0</td>\n",
       "      <td>0</td>\n",
       "      <td>...</td>\n",
       "      <td>0</td>\n",
       "      <td>0</td>\n",
       "      <td>0</td>\n",
       "      <td>0</td>\n",
       "      <td>0</td>\n",
       "      <td>0</td>\n",
       "      <td>0</td>\n",
       "      <td>0</td>\n",
       "      <td>0</td>\n",
       "      <td>0</td>\n",
       "    </tr>\n",
       "    <tr>\n",
       "      <th>1</th>\n",
       "      <td>16322</td>\n",
       "      <td>0</td>\n",
       "      <td>21</td>\n",
       "      <td>0</td>\n",
       "      <td>1</td>\n",
       "      <td>0</td>\n",
       "      <td>0</td>\n",
       "      <td>0</td>\n",
       "      <td>0</td>\n",
       "      <td>0</td>\n",
       "      <td>...</td>\n",
       "      <td>0</td>\n",
       "      <td>0</td>\n",
       "      <td>0</td>\n",
       "      <td>0</td>\n",
       "      <td>0</td>\n",
       "      <td>0</td>\n",
       "      <td>0</td>\n",
       "      <td>0</td>\n",
       "      <td>0</td>\n",
       "      <td>0</td>\n",
       "    </tr>\n",
       "    <tr>\n",
       "      <th>2</th>\n",
       "      <td>12008</td>\n",
       "      <td>0</td>\n",
       "      <td>10</td>\n",
       "      <td>0</td>\n",
       "      <td>0</td>\n",
       "      <td>1</td>\n",
       "      <td>0</td>\n",
       "      <td>0</td>\n",
       "      <td>0</td>\n",
       "      <td>0</td>\n",
       "      <td>...</td>\n",
       "      <td>0</td>\n",
       "      <td>0</td>\n",
       "      <td>0</td>\n",
       "      <td>0</td>\n",
       "      <td>0</td>\n",
       "      <td>0</td>\n",
       "      <td>0</td>\n",
       "      <td>0</td>\n",
       "      <td>0</td>\n",
       "      <td>0</td>\n",
       "    </tr>\n",
       "    <tr>\n",
       "      <th>3</th>\n",
       "      <td>9937</td>\n",
       "      <td>0</td>\n",
       "      <td>7</td>\n",
       "      <td>0</td>\n",
       "      <td>0</td>\n",
       "      <td>0</td>\n",
       "      <td>1</td>\n",
       "      <td>0</td>\n",
       "      <td>0</td>\n",
       "      <td>0</td>\n",
       "      <td>...</td>\n",
       "      <td>0</td>\n",
       "      <td>0</td>\n",
       "      <td>0</td>\n",
       "      <td>0</td>\n",
       "      <td>0</td>\n",
       "      <td>0</td>\n",
       "      <td>0</td>\n",
       "      <td>0</td>\n",
       "      <td>0</td>\n",
       "      <td>0</td>\n",
       "    </tr>\n",
       "    <tr>\n",
       "      <th>4</th>\n",
       "      <td>11198</td>\n",
       "      <td>0</td>\n",
       "      <td>15</td>\n",
       "      <td>0</td>\n",
       "      <td>0</td>\n",
       "      <td>0</td>\n",
       "      <td>0</td>\n",
       "      <td>1</td>\n",
       "      <td>0</td>\n",
       "      <td>0</td>\n",
       "      <td>...</td>\n",
       "      <td>0</td>\n",
       "      <td>0</td>\n",
       "      <td>0</td>\n",
       "      <td>0</td>\n",
       "      <td>0</td>\n",
       "      <td>0</td>\n",
       "      <td>0</td>\n",
       "      <td>0</td>\n",
       "      <td>0</td>\n",
       "      <td>0</td>\n",
       "    </tr>\n",
       "  </tbody>\n",
       "</table>\n",
       "<p>5 rows × 27 columns</p>\n",
       "</div>"
      ],
      "text/plain": [
       "   volume  date  accidents  00:00:00  01:00:00  02:00:00  03:00:00  04:00:00  \\\n",
       "0   22709     0         17         1         0         0         0         0   \n",
       "1   16322     0         21         0         1         0         0         0   \n",
       "2   12008     0         10         0         0         1         0         0   \n",
       "3    9937     0          7         0         0         0         1         0   \n",
       "4   11198     0         15         0         0         0         0         1   \n",
       "\n",
       "   05:00:00  06:00:00  ...  14:00:00  15:00:00  16:00:00  17:00:00  18:00:00  \\\n",
       "0         0         0  ...         0         0         0         0         0   \n",
       "1         0         0  ...         0         0         0         0         0   \n",
       "2         0         0  ...         0         0         0         0         0   \n",
       "3         0         0  ...         0         0         0         0         0   \n",
       "4         0         0  ...         0         0         0         0         0   \n",
       "\n",
       "   19:00:00  20:00:00  21:00:00  22:00:00  23:00:00  \n",
       "0         0         0         0         0         0  \n",
       "1         0         0         0         0         0  \n",
       "2         0         0         0         0         0  \n",
       "3         0         0         0         0         0  \n",
       "4         0         0         0         0         0  \n",
       "\n",
       "[5 rows x 27 columns]"
      ]
     },
     "execution_count": 199,
     "metadata": {},
     "output_type": "execute_result"
    }
   ],
   "source": [
    "#create timedelta column\n",
    "min_date = accident_reg_df.date.min()\n",
    "accident_reg_df['date'] = (accident_reg_df['date'] - \\\n",
    "                                           min_date).dt.days.astype(int)\n",
    "accident_reg_df.to_csv(path_or_buf='accident_reg_df.csv')\n",
    "accident_reg_df.head()\n"
   ]
  },
  {
   "cell_type": "markdown",
   "metadata": {},
   "source": [
    "#  Linear Regression Model\n",
    "1. volume vs accident by day\n",
    "2. volume vs accident by hour by day\n",
    "3. volume vs accident by hour no day\n",
    "4. volume vs accident"
   ]
  },
  {
   "cell_type": "code",
   "execution_count": 200,
   "metadata": {},
   "outputs": [
    {
     "data": {
      "text/html": [
       "<div>\n",
       "<style scoped>\n",
       "    .dataframe tbody tr th:only-of-type {\n",
       "        vertical-align: middle;\n",
       "    }\n",
       "\n",
       "    .dataframe tbody tr th {\n",
       "        vertical-align: top;\n",
       "    }\n",
       "\n",
       "    .dataframe thead th {\n",
       "        text-align: right;\n",
       "    }\n",
       "</style>\n",
       "<table border=\"1\" class=\"dataframe\">\n",
       "  <thead>\n",
       "    <tr style=\"text-align: right;\">\n",
       "      <th></th>\n",
       "      <th>volume</th>\n",
       "      <th>date</th>\n",
       "      <th>accidents</th>\n",
       "    </tr>\n",
       "  </thead>\n",
       "  <tbody>\n",
       "    <tr>\n",
       "      <th>0</th>\n",
       "      <td>22709</td>\n",
       "      <td>0</td>\n",
       "      <td>17</td>\n",
       "    </tr>\n",
       "    <tr>\n",
       "      <th>1</th>\n",
       "      <td>16322</td>\n",
       "      <td>0</td>\n",
       "      <td>21</td>\n",
       "    </tr>\n",
       "    <tr>\n",
       "      <th>2</th>\n",
       "      <td>12008</td>\n",
       "      <td>0</td>\n",
       "      <td>10</td>\n",
       "    </tr>\n",
       "    <tr>\n",
       "      <th>3</th>\n",
       "      <td>9937</td>\n",
       "      <td>0</td>\n",
       "      <td>7</td>\n",
       "    </tr>\n",
       "    <tr>\n",
       "      <th>4</th>\n",
       "      <td>11198</td>\n",
       "      <td>0</td>\n",
       "      <td>15</td>\n",
       "    </tr>\n",
       "  </tbody>\n",
       "</table>\n",
       "</div>"
      ],
      "text/plain": [
       "   volume  date  accidents\n",
       "0   22709     0         17\n",
       "1   16322     0         21\n",
       "2   12008     0         10\n",
       "3    9937     0          7\n",
       "4   11198     0         15"
      ]
     },
     "execution_count": 200,
     "metadata": {},
     "output_type": "execute_result"
    }
   ],
   "source": [
    "accident_reg_df.head()\n",
    "vol_date_acc_df = accident_reg_df[['volume', 'date', 'accidents']]\n",
    "vol_date_acc_df.head()"
   ]
  },
  {
   "cell_type": "code",
   "execution_count": 201,
   "metadata": {},
   "outputs": [],
   "source": [
    "X1 = vol_date_acc_df.drop('accidents', axis=1)\n",
    "y1 = vol_date_acc_df[['accidents']]"
   ]
  },
  {
   "cell_type": "code",
   "execution_count": 202,
   "metadata": {},
   "outputs": [],
   "source": [
    "X1_train, X1_test, y1_train, y1_test = train_test_split(X1, y1, test_size=0.2, random_state=27)"
   ]
  },
  {
   "cell_type": "code",
   "execution_count": 203,
   "metadata": {},
   "outputs": [
    {
     "data": {
      "text/plain": [
       "LinearRegression(copy_X=True, fit_intercept=True, n_jobs=None, normalize=False)"
      ]
     },
     "execution_count": 203,
     "metadata": {},
     "output_type": "execute_result"
    }
   ],
   "source": [
    "reg = LinearRegression()\n",
    "reg.fit(X1_train, y1_train)\n"
   ]
  },
  {
   "cell_type": "code",
   "execution_count": 204,
   "metadata": {},
   "outputs": [
    {
     "data": {
      "text/plain": [
       "array([0.11457365, 0.0831986 , 0.12028851, 0.10631054, 0.09329401])"
      ]
     },
     "execution_count": 204,
     "metadata": {},
     "output_type": "execute_result"
    }
   ],
   "source": [
    "cv_results = cross_val_score(reg, X1_train, y1_train, cv=5)\n",
    "cv_results"
   ]
  },
  {
   "cell_type": "code",
   "execution_count": 205,
   "metadata": {},
   "outputs": [
    {
     "name": "stdout",
     "output_type": "stream",
     "text": [
      "Average cross_val_score is 0.10353306124870507\n"
     ]
    }
   ],
   "source": [
    "print(f'Average cross_val_score is {cv_results.mean()}')"
   ]
  },
  {
   "cell_type": "code",
   "execution_count": 206,
   "metadata": {},
   "outputs": [],
   "source": [
    "X1_score = reg.score(X1_train, y1_train)"
   ]
  },
  {
   "cell_type": "markdown",
   "metadata": {},
   "source": [
    "The number of cars on the road by itself is not a good predictor of traffic accidents.\n"
   ]
  },
  {
   "cell_type": "code",
   "execution_count": 207,
   "metadata": {},
   "outputs": [],
   "source": [
    "#We want to predict number of accidents, so remove that column from the df\n",
    "y2 = accident_reg_df[['accidents']]\n",
    "X2 = accident_reg_df.drop('accidents', axis=1)\n"
   ]
  },
  {
   "cell_type": "code",
   "execution_count": 208,
   "metadata": {},
   "outputs": [
    {
     "data": {
      "text/html": [
       "<div>\n",
       "<style scoped>\n",
       "    .dataframe tbody tr th:only-of-type {\n",
       "        vertical-align: middle;\n",
       "    }\n",
       "\n",
       "    .dataframe tbody tr th {\n",
       "        vertical-align: top;\n",
       "    }\n",
       "\n",
       "    .dataframe thead th {\n",
       "        text-align: right;\n",
       "    }\n",
       "</style>\n",
       "<table border=\"1\" class=\"dataframe\">\n",
       "  <thead>\n",
       "    <tr style=\"text-align: right;\">\n",
       "      <th></th>\n",
       "      <th>volume</th>\n",
       "      <th>date</th>\n",
       "      <th>00:00:00</th>\n",
       "      <th>01:00:00</th>\n",
       "      <th>02:00:00</th>\n",
       "      <th>03:00:00</th>\n",
       "      <th>04:00:00</th>\n",
       "      <th>05:00:00</th>\n",
       "      <th>06:00:00</th>\n",
       "      <th>07:00:00</th>\n",
       "      <th>...</th>\n",
       "      <th>14:00:00</th>\n",
       "      <th>15:00:00</th>\n",
       "      <th>16:00:00</th>\n",
       "      <th>17:00:00</th>\n",
       "      <th>18:00:00</th>\n",
       "      <th>19:00:00</th>\n",
       "      <th>20:00:00</th>\n",
       "      <th>21:00:00</th>\n",
       "      <th>22:00:00</th>\n",
       "      <th>23:00:00</th>\n",
       "    </tr>\n",
       "  </thead>\n",
       "  <tbody>\n",
       "    <tr>\n",
       "      <th>0</th>\n",
       "      <td>22709</td>\n",
       "      <td>0</td>\n",
       "      <td>1</td>\n",
       "      <td>0</td>\n",
       "      <td>0</td>\n",
       "      <td>0</td>\n",
       "      <td>0</td>\n",
       "      <td>0</td>\n",
       "      <td>0</td>\n",
       "      <td>0</td>\n",
       "      <td>...</td>\n",
       "      <td>0</td>\n",
       "      <td>0</td>\n",
       "      <td>0</td>\n",
       "      <td>0</td>\n",
       "      <td>0</td>\n",
       "      <td>0</td>\n",
       "      <td>0</td>\n",
       "      <td>0</td>\n",
       "      <td>0</td>\n",
       "      <td>0</td>\n",
       "    </tr>\n",
       "    <tr>\n",
       "      <th>1</th>\n",
       "      <td>16322</td>\n",
       "      <td>0</td>\n",
       "      <td>0</td>\n",
       "      <td>1</td>\n",
       "      <td>0</td>\n",
       "      <td>0</td>\n",
       "      <td>0</td>\n",
       "      <td>0</td>\n",
       "      <td>0</td>\n",
       "      <td>0</td>\n",
       "      <td>...</td>\n",
       "      <td>0</td>\n",
       "      <td>0</td>\n",
       "      <td>0</td>\n",
       "      <td>0</td>\n",
       "      <td>0</td>\n",
       "      <td>0</td>\n",
       "      <td>0</td>\n",
       "      <td>0</td>\n",
       "      <td>0</td>\n",
       "      <td>0</td>\n",
       "    </tr>\n",
       "    <tr>\n",
       "      <th>2</th>\n",
       "      <td>12008</td>\n",
       "      <td>0</td>\n",
       "      <td>0</td>\n",
       "      <td>0</td>\n",
       "      <td>1</td>\n",
       "      <td>0</td>\n",
       "      <td>0</td>\n",
       "      <td>0</td>\n",
       "      <td>0</td>\n",
       "      <td>0</td>\n",
       "      <td>...</td>\n",
       "      <td>0</td>\n",
       "      <td>0</td>\n",
       "      <td>0</td>\n",
       "      <td>0</td>\n",
       "      <td>0</td>\n",
       "      <td>0</td>\n",
       "      <td>0</td>\n",
       "      <td>0</td>\n",
       "      <td>0</td>\n",
       "      <td>0</td>\n",
       "    </tr>\n",
       "    <tr>\n",
       "      <th>3</th>\n",
       "      <td>9937</td>\n",
       "      <td>0</td>\n",
       "      <td>0</td>\n",
       "      <td>0</td>\n",
       "      <td>0</td>\n",
       "      <td>1</td>\n",
       "      <td>0</td>\n",
       "      <td>0</td>\n",
       "      <td>0</td>\n",
       "      <td>0</td>\n",
       "      <td>...</td>\n",
       "      <td>0</td>\n",
       "      <td>0</td>\n",
       "      <td>0</td>\n",
       "      <td>0</td>\n",
       "      <td>0</td>\n",
       "      <td>0</td>\n",
       "      <td>0</td>\n",
       "      <td>0</td>\n",
       "      <td>0</td>\n",
       "      <td>0</td>\n",
       "    </tr>\n",
       "    <tr>\n",
       "      <th>4</th>\n",
       "      <td>11198</td>\n",
       "      <td>0</td>\n",
       "      <td>0</td>\n",
       "      <td>0</td>\n",
       "      <td>0</td>\n",
       "      <td>0</td>\n",
       "      <td>1</td>\n",
       "      <td>0</td>\n",
       "      <td>0</td>\n",
       "      <td>0</td>\n",
       "      <td>...</td>\n",
       "      <td>0</td>\n",
       "      <td>0</td>\n",
       "      <td>0</td>\n",
       "      <td>0</td>\n",
       "      <td>0</td>\n",
       "      <td>0</td>\n",
       "      <td>0</td>\n",
       "      <td>0</td>\n",
       "      <td>0</td>\n",
       "      <td>0</td>\n",
       "    </tr>\n",
       "  </tbody>\n",
       "</table>\n",
       "<p>5 rows × 26 columns</p>\n",
       "</div>"
      ],
      "text/plain": [
       "   volume  date  00:00:00  01:00:00  02:00:00  03:00:00  04:00:00  05:00:00  \\\n",
       "0   22709     0         1         0         0         0         0         0   \n",
       "1   16322     0         0         1         0         0         0         0   \n",
       "2   12008     0         0         0         1         0         0         0   \n",
       "3    9937     0         0         0         0         1         0         0   \n",
       "4   11198     0         0         0         0         0         1         0   \n",
       "\n",
       "   06:00:00  07:00:00  ...  14:00:00  15:00:00  16:00:00  17:00:00  18:00:00  \\\n",
       "0         0         0  ...         0         0         0         0         0   \n",
       "1         0         0  ...         0         0         0         0         0   \n",
       "2         0         0  ...         0         0         0         0         0   \n",
       "3         0         0  ...         0         0         0         0         0   \n",
       "4         0         0  ...         0         0         0         0         0   \n",
       "\n",
       "   19:00:00  20:00:00  21:00:00  22:00:00  23:00:00  \n",
       "0         0         0         0         0         0  \n",
       "1         0         0         0         0         0  \n",
       "2         0         0         0         0         0  \n",
       "3         0         0         0         0         0  \n",
       "4         0         0         0         0         0  \n",
       "\n",
       "[5 rows x 26 columns]"
      ]
     },
     "execution_count": 208,
     "metadata": {},
     "output_type": "execute_result"
    }
   ],
   "source": [
    "X2.head()"
   ]
  },
  {
   "cell_type": "code",
   "execution_count": 209,
   "metadata": {},
   "outputs": [],
   "source": [
    "#Split the data\n",
    "X2_train, X2_test, y2_train, y2_test = train_test_split(X2, y2, test_size=0.2, random_state=27)"
   ]
  },
  {
   "cell_type": "code",
   "execution_count": 210,
   "metadata": {},
   "outputs": [
    {
     "data": {
      "text/plain": [
       "array([0.63406032, 0.63730188, 0.6554138 , 0.63480233, 0.65504819])"
      ]
     },
     "execution_count": 210,
     "metadata": {},
     "output_type": "execute_result"
    }
   ],
   "source": [
    "reg = LinearRegression(fit_intercept=False)\n",
    "m1 = reg.fit(X2_train,y2_train)\n",
    "\n",
    "# save the model to disk\n",
    "filename = 'linreg.sav'\n",
    "pickle.dump(m1, open(filename, 'wb'))\n",
    "\n",
    "cv_results = cross_val_score(reg, X2_train, y2_train, cv=5)\n",
    "cv_results"
   ]
  },
  {
   "cell_type": "code",
   "execution_count": 211,
   "metadata": {},
   "outputs": [],
   "source": [
    "X2_score = reg.score(X2_test, y2_test)\n"
   ]
  },
  {
   "cell_type": "code",
   "execution_count": 212,
   "metadata": {},
   "outputs": [
    {
     "name": "stdout",
     "output_type": "stream",
     "text": [
      "Scores: X1:0.10573125225216173, X2:0.6568088735553934\n"
     ]
    }
   ],
   "source": [
    "print(f'Scores: X1:{X1_score}, X2:{X2_score}')"
   ]
  },
  {
   "cell_type": "code",
   "execution_count": 213,
   "metadata": {},
   "outputs": [
    {
     "data": {
      "text/plain": [
       "Text(0.5, 0, 'Residual Value')"
      ]
     },
     "execution_count": 213,
     "metadata": {},
     "output_type": "execute_result"
    },
    {
     "data": {
      "image/png": "[encoded data removed]",
      "text/plain": [
       "<Figure size 864x432 with 2 Axes>"
      ]
     },
     "metadata": {
      "needs_background": "light"
     },
     "output_type": "display_data"
    }
   ],
   "source": [
    "#Residual plot\n",
    "plt.figure(figsize=(12,6))\n",
    "plt.subplot(1,2,1)\n",
    "_ = plt.scatter(reg.predict(np.array(X2_test)), reg.predict(np.array(X2_test)) - np.array(y2_test), \\\n",
    "                                                       c='c', s = 40)\n",
    "plt.hlines(y=0, xmin=0, xmax=50)\n",
    "plt.title('Residual plot')\n",
    "plt.ylabel('Residual')\n",
    "plt.subplot(1,2,2)\n",
    "_ = plt.hist(reg.predict(np.array(X2_test)) - np.array(y2_test), bins=50)\n",
    "_ = plt.axvline(0, color='k')\n",
    "plt.title('Residual Distribution')\n",
    "plt.ylabel('Count')\n",
    "plt.xlabel('Residual Value')\n"
   ]
  },
  {
   "cell_type": "markdown",
   "metadata": {},
   "source": [
    "There pattern of residuals around 0 does not appear to be completely random, indicating some heteroscedasticity. The histogram appears to have some left skew, but appears somewhat normal. We will perform regression with the statsmodels package to report out the statistics."
   ]
  },
  {
   "cell_type": "code",
   "execution_count": 214,
   "metadata": {},
   "outputs": [
    {
     "name": "stdout",
     "output_type": "stream",
     "text": [
      "                            OLS Regression Results                            \n",
      "==============================================================================\n",
      "Dep. Variable:              accidents   R-squared:                       0.646\n",
      "Model:                            OLS   Adj. R-squared:                  0.645\n",
      "Method:                 Least Squares   F-statistic:                     462.9\n",
      "Date:                Thu, 28 Nov 2019   Prob (F-statistic):               0.00\n",
      "Time:                        14:16:32   Log-Likelihood:                -22364.\n",
      "No. Observations:                6355   AIC:                         4.478e+04\n",
      "Df Residuals:                    6329   BIC:                         4.495e+04\n",
      "Df Model:                          25                                         \n",
      "Covariance Type:            nonrobust                                         \n",
      "==============================================================================\n",
      "                 coef    std err          t      P>|t|      [0.025      0.975]\n",
      "------------------------------------------------------------------------------\n",
      "volume      1.806e-05   3.04e-06      5.942      0.000    1.21e-05     2.4e-05\n",
      "date           0.0041      0.000     16.852      0.000       0.004       0.005\n",
      "00:00:00      13.1226      0.531     24.721      0.000      12.082      14.163\n",
      "01:00:00       5.6182      0.532     10.569      0.000       4.576       6.660\n",
      "02:00:00       3.8039      0.516      7.368      0.000       2.792       4.816\n",
      "03:00:00       3.0997      0.528      5.866      0.000       2.064       4.136\n",
      "04:00:00       4.2171      0.520      8.105      0.000       3.197       5.237\n",
      "05:00:00       4.5593      0.526      8.664      0.000       3.528       5.591\n",
      "06:00:00       8.9741      0.540     16.613      0.000       7.915      10.033\n",
      "07:00:00      13.3929      0.553     24.226      0.000      12.309      14.477\n",
      "08:00:00      29.0370      0.540     53.815      0.000      27.979      30.095\n",
      "09:00:00      26.8339      0.558     48.052      0.000      25.739      27.929\n",
      "10:00:00      24.6994      0.553     44.660      0.000      23.615      25.784\n",
      "11:00:00      25.9847      0.530     49.000      0.000      24.945      27.024\n",
      "12:00:00      26.4032      0.557     47.361      0.000      25.310      27.496\n",
      "13:00:00      27.5247      0.553     49.740      0.000      26.440      28.609\n",
      "14:00:00      32.6590      0.550     59.337      0.000      31.580      33.738\n",
      "15:00:00      29.6983      0.573     51.842      0.000      28.575      30.821\n",
      "16:00:00      36.2222      0.561     64.610      0.000      35.123      37.321\n",
      "17:00:00      34.0348      0.557     61.067      0.000      32.942      35.127\n",
      "18:00:00      29.4587      0.551     53.487      0.000      28.379      30.538\n",
      "19:00:00      24.2536      0.558     43.446      0.000      23.159      25.348\n",
      "20:00:00      20.5931      0.542     38.014      0.000      19.531      21.655\n",
      "21:00:00      16.0012      0.549     29.153      0.000      14.925      17.077\n",
      "22:00:00      13.5421      0.539     25.110      0.000      12.485      14.599\n",
      "23:00:00       9.3765      0.568     16.503      0.000       8.263      10.490\n",
      "==============================================================================\n",
      "Omnibus:                      241.916   Durbin-Watson:                   1.968\n",
      "Prob(Omnibus):                  0.000   Jarque-Bera (JB):              504.540\n",
      "Skew:                           0.258   Prob(JB):                    2.76e-110\n",
      "Kurtosis:                       4.280   Cond. No.                     5.66e+05\n",
      "==============================================================================\n",
      "\n",
      "Warnings:\n",
      "[1] Standard Errors assume that the covariance matrix of the errors is correctly specified.\n",
      "[2] The condition number is large, 5.66e+05. This might indicate that there are\n",
      "strong multicollinearity or other numerical problems.\n"
     ]
    }
   ],
   "source": [
    "#Linear regression with statsmodel\n",
    "from statsmodels.formula.api import ols\n",
    "m2 = sm.OLS(y2_train, X2_train).fit()\n",
    "print(m2.summary())"
   ]
  },
  {
   "cell_type": "markdown",
   "metadata": {},
   "source": [
    "Note warning 2 above - the analyses indicate that there could be strong multicolinearity. This may be a result of the dummy variable trap. This results when two or more variables are highly correlated. In our case, this is representing the hour of the day as dummy variables - 24 of them!"
   ]
  },
  {
   "cell_type": "code",
   "execution_count": 215,
   "metadata": {},
   "outputs": [
    {
     "data": {
      "text/plain": [
       "60.105360036257146"
      ]
     },
     "execution_count": 215,
     "metadata": {},
     "output_type": "execute_result"
    }
   ],
   "source": [
    "#Calc MSE\n",
    "\n",
    "metrics.mean_squared_error(y2_test, reg.predict(X2_test))"
   ]
  },
  {
   "cell_type": "code",
   "execution_count": 216,
   "metadata": {},
   "outputs": [
    {
     "data": {
      "text/html": [
       "<div>\n",
       "<style scoped>\n",
       "    .dataframe tbody tr th:only-of-type {\n",
       "        vertical-align: middle;\n",
       "    }\n",
       "\n",
       "    .dataframe tbody tr th {\n",
       "        vertical-align: top;\n",
       "    }\n",
       "\n",
       "    .dataframe thead th {\n",
       "        text-align: right;\n",
       "    }\n",
       "</style>\n",
       "<table border=\"1\" class=\"dataframe\">\n",
       "  <thead>\n",
       "    <tr style=\"text-align: right;\">\n",
       "      <th></th>\n",
       "      <th>volume</th>\n",
       "      <th>date</th>\n",
       "      <th>00:00:00</th>\n",
       "      <th>01:00:00</th>\n",
       "      <th>02:00:00</th>\n",
       "      <th>03:00:00</th>\n",
       "      <th>04:00:00</th>\n",
       "      <th>05:00:00</th>\n",
       "      <th>06:00:00</th>\n",
       "      <th>07:00:00</th>\n",
       "      <th>...</th>\n",
       "      <th>14:00:00</th>\n",
       "      <th>15:00:00</th>\n",
       "      <th>16:00:00</th>\n",
       "      <th>17:00:00</th>\n",
       "      <th>18:00:00</th>\n",
       "      <th>19:00:00</th>\n",
       "      <th>20:00:00</th>\n",
       "      <th>21:00:00</th>\n",
       "      <th>22:00:00</th>\n",
       "      <th>23:00:00</th>\n",
       "    </tr>\n",
       "  </thead>\n",
       "  <tbody>\n",
       "    <tr>\n",
       "      <th>7598</th>\n",
       "      <td>8481</td>\n",
       "      <td>1274</td>\n",
       "      <td>0</td>\n",
       "      <td>0</td>\n",
       "      <td>0</td>\n",
       "      <td>0</td>\n",
       "      <td>0</td>\n",
       "      <td>0</td>\n",
       "      <td>0</td>\n",
       "      <td>0</td>\n",
       "      <td>...</td>\n",
       "      <td>1</td>\n",
       "      <td>0</td>\n",
       "      <td>0</td>\n",
       "      <td>0</td>\n",
       "      <td>0</td>\n",
       "      <td>0</td>\n",
       "      <td>0</td>\n",
       "      <td>0</td>\n",
       "      <td>0</td>\n",
       "      <td>0</td>\n",
       "    </tr>\n",
       "    <tr>\n",
       "      <th>4462</th>\n",
       "      <td>9896</td>\n",
       "      <td>765</td>\n",
       "      <td>0</td>\n",
       "      <td>0</td>\n",
       "      <td>0</td>\n",
       "      <td>0</td>\n",
       "      <td>0</td>\n",
       "      <td>0</td>\n",
       "      <td>0</td>\n",
       "      <td>0</td>\n",
       "      <td>...</td>\n",
       "      <td>0</td>\n",
       "      <td>0</td>\n",
       "      <td>0</td>\n",
       "      <td>0</td>\n",
       "      <td>0</td>\n",
       "      <td>0</td>\n",
       "      <td>0</td>\n",
       "      <td>0</td>\n",
       "      <td>1</td>\n",
       "      <td>0</td>\n",
       "    </tr>\n",
       "    <tr>\n",
       "      <th>7236</th>\n",
       "      <td>7734</td>\n",
       "      <td>1226</td>\n",
       "      <td>0</td>\n",
       "      <td>0</td>\n",
       "      <td>0</td>\n",
       "      <td>0</td>\n",
       "      <td>0</td>\n",
       "      <td>0</td>\n",
       "      <td>0</td>\n",
       "      <td>0</td>\n",
       "      <td>...</td>\n",
       "      <td>0</td>\n",
       "      <td>0</td>\n",
       "      <td>0</td>\n",
       "      <td>0</td>\n",
       "      <td>0</td>\n",
       "      <td>0</td>\n",
       "      <td>0</td>\n",
       "      <td>0</td>\n",
       "      <td>0</td>\n",
       "      <td>0</td>\n",
       "    </tr>\n",
       "    <tr>\n",
       "      <th>3311</th>\n",
       "      <td>9730</td>\n",
       "      <td>435</td>\n",
       "      <td>0</td>\n",
       "      <td>0</td>\n",
       "      <td>0</td>\n",
       "      <td>0</td>\n",
       "      <td>0</td>\n",
       "      <td>0</td>\n",
       "      <td>0</td>\n",
       "      <td>0</td>\n",
       "      <td>...</td>\n",
       "      <td>0</td>\n",
       "      <td>0</td>\n",
       "      <td>0</td>\n",
       "      <td>0</td>\n",
       "      <td>0</td>\n",
       "      <td>0</td>\n",
       "      <td>0</td>\n",
       "      <td>0</td>\n",
       "      <td>0</td>\n",
       "      <td>1</td>\n",
       "    </tr>\n",
       "    <tr>\n",
       "      <th>231</th>\n",
       "      <td>46526</td>\n",
       "      <td>9</td>\n",
       "      <td>0</td>\n",
       "      <td>0</td>\n",
       "      <td>0</td>\n",
       "      <td>0</td>\n",
       "      <td>0</td>\n",
       "      <td>0</td>\n",
       "      <td>0</td>\n",
       "      <td>0</td>\n",
       "      <td>...</td>\n",
       "      <td>0</td>\n",
       "      <td>1</td>\n",
       "      <td>0</td>\n",
       "      <td>0</td>\n",
       "      <td>0</td>\n",
       "      <td>0</td>\n",
       "      <td>0</td>\n",
       "      <td>0</td>\n",
       "      <td>0</td>\n",
       "      <td>0</td>\n",
       "    </tr>\n",
       "  </tbody>\n",
       "</table>\n",
       "<p>5 rows × 26 columns</p>\n",
       "</div>"
      ],
      "text/plain": [
       "      volume  date  00:00:00  01:00:00  02:00:00  03:00:00  04:00:00  \\\n",
       "7598    8481  1274         0         0         0         0         0   \n",
       "4462    9896   765         0         0         0         0         0   \n",
       "7236    7734  1226         0         0         0         0         0   \n",
       "3311    9730   435         0         0         0         0         0   \n",
       "231    46526     9         0         0         0         0         0   \n",
       "\n",
       "      05:00:00  06:00:00  07:00:00  ...  14:00:00  15:00:00  16:00:00  \\\n",
       "7598         0         0         0  ...         1         0         0   \n",
       "4462         0         0         0  ...         0         0         0   \n",
       "7236         0         0         0  ...         0         0         0   \n",
       "3311         0         0         0  ...         0         0         0   \n",
       "231          0         0         0  ...         0         1         0   \n",
       "\n",
       "      17:00:00  18:00:00  19:00:00  20:00:00  21:00:00  22:00:00  23:00:00  \n",
       "7598         0         0         0         0         0         0         0  \n",
       "4462         0         0         0         0         0         1         0  \n",
       "7236         0         0         0         0         0         0         0  \n",
       "3311         0         0         0         0         0         0         1  \n",
       "231          0         0         0         0         0         0         0  \n",
       "\n",
       "[5 rows x 26 columns]"
      ]
     },
     "execution_count": 216,
     "metadata": {},
     "output_type": "execute_result"
    }
   ],
   "source": [
    "X2_train.head()"
   ]
  },
  {
   "cell_type": "code",
   "execution_count": 217,
   "metadata": {},
   "outputs": [
    {
     "data": {
      "text/html": [
       "<div>\n",
       "<style scoped>\n",
       "    .dataframe tbody tr th:only-of-type {\n",
       "        vertical-align: middle;\n",
       "    }\n",
       "\n",
       "    .dataframe tbody tr th {\n",
       "        vertical-align: top;\n",
       "    }\n",
       "\n",
       "    .dataframe thead th {\n",
       "        text-align: right;\n",
       "    }\n",
       "</style>\n",
       "<table border=\"1\" class=\"dataframe\">\n",
       "  <thead>\n",
       "    <tr style=\"text-align: right;\">\n",
       "      <th></th>\n",
       "      <th>accidents</th>\n",
       "    </tr>\n",
       "  </thead>\n",
       "  <tbody>\n",
       "    <tr>\n",
       "      <th>806</th>\n",
       "      <td>29</td>\n",
       "    </tr>\n",
       "    <tr>\n",
       "      <th>3169</th>\n",
       "      <td>4</td>\n",
       "    </tr>\n",
       "    <tr>\n",
       "      <th>6789</th>\n",
       "      <td>21</td>\n",
       "    </tr>\n",
       "    <tr>\n",
       "      <th>2212</th>\n",
       "      <td>2</td>\n",
       "    </tr>\n",
       "    <tr>\n",
       "      <th>7547</th>\n",
       "      <td>32</td>\n",
       "    </tr>\n",
       "  </tbody>\n",
       "</table>\n",
       "</div>"
      ],
      "text/plain": [
       "      accidents\n",
       "806          29\n",
       "3169          4\n",
       "6789         21\n",
       "2212          2\n",
       "7547         32"
      ]
     },
     "execution_count": 217,
     "metadata": {},
     "output_type": "execute_result"
    }
   ],
   "source": [
    "y2_test.head()"
   ]
  },
  {
   "cell_type": "code",
   "execution_count": 218,
   "metadata": {},
   "outputs": [
    {
     "data": {
      "image/png": "[encoded data removed]",
      "text/plain": [
       "<Figure size 432x288 with 2 Axes>"
      ]
     },
     "metadata": {
      "needs_background": "light"
     },
     "output_type": "display_data"
    }
   ],
   "source": [
    "#QQ plot\n",
    "predictions = m2.get_prediction(X2_test)\n",
    "actual_data = y2_test['accidents']\n",
    "data = predictions.summary_frame()\n",
    "plt.subplot(1,2,1)\n",
    "plt.suptitle('Actual (left) and predicted (right) Y values')\n",
    "stats.probplot(actual_data, dist='norm', plot=plt)\n",
    "plt.subplot(1,2,2)\n",
    "stats.probplot(data['mean'], dist='norm', plot=plt)\n",
    "plt.show()"
   ]
  },
  {
   "cell_type": "markdown",
   "metadata": {},
   "source": [
    "Now that we have established that a linear regression is a suitable model for the traffic accident data, we can perform lasso regularization to select important features of the dataset and shrink the less important ones. This will simplify our model and help us answer the question 'what time of day are you most likely to get into a car accident'."
   ]
  },
  {
   "cell_type": "markdown",
   "metadata": {},
   "source": [
    "# Lasso Regression"
   ]
  },
  {
   "cell_type": "code",
   "execution_count": 219,
   "metadata": {},
   "outputs": [],
   "source": [
    "#scaler = StandardScaler()\n",
    "#names= X2.columns\n",
    "#X2 = scaler.fit_transform(X2)"
   ]
  },
  {
   "cell_type": "code",
   "execution_count": null,
   "metadata": {},
   "outputs": [],
   "source": []
  },
  {
   "cell_type": "code",
   "execution_count": 220,
   "metadata": {},
   "outputs": [],
   "source": [
    "#https://chrisalbon.com/machine_learning/linear_regression/effect_of_alpha_on_lasso_regression/\n",
    "# Create a function called lasso,\n",
    "def lasso(alphas):\n",
    "    '''\n",
    "    Takes in a list of alphas. Outputs a dataframe containing the coefficients of lasso regressions from each alpha.\n",
    "    '''\n",
    "    # Create an empty data frame\n",
    "    coef = pd.DataFrame()\n",
    "    \n",
    "    # Create a column of feature names\n",
    "    coef['Feature Name'] = X2.columns\n",
    "    \n",
    "    # For each alpha value in the list of alpha values,\n",
    "    for alpha in alphas:\n",
    "        # Create a lasso regression with that alpha value,\n",
    "        lasso = Lasso(alpha=alpha)\n",
    "        lasso.fit(X2, y2) #fit regression\n",
    "        \n",
    "        # Create a column name for that alpha value\n",
    "        column_name = 'Alpha = %f' % alpha\n",
    "\n",
    "        # Create a column of coefficient values\n",
    "        coef[column_name] = lasso.coef_\n",
    "        \n",
    "    # Return the dataframe \n",
    "    return coef"
   ]
  },
  {
   "cell_type": "code",
   "execution_count": 221,
   "metadata": {},
   "outputs": [
    {
     "data": {
      "text/html": [
       "<div>\n",
       "<style scoped>\n",
       "    .dataframe tbody tr th:only-of-type {\n",
       "        vertical-align: middle;\n",
       "    }\n",
       "\n",
       "    .dataframe tbody tr th {\n",
       "        vertical-align: top;\n",
       "    }\n",
       "\n",
       "    .dataframe thead th {\n",
       "        text-align: right;\n",
       "    }\n",
       "</style>\n",
       "<table border=\"1\" class=\"dataframe\">\n",
       "  <thead>\n",
       "    <tr style=\"text-align: right;\">\n",
       "      <th></th>\n",
       "      <th>Feature Name</th>\n",
       "      <th>Alpha = 0.000100</th>\n",
       "      <th>Alpha = 0.250000</th>\n",
       "      <th>Alpha = 0.500000</th>\n",
       "    </tr>\n",
       "  </thead>\n",
       "  <tbody>\n",
       "    <tr>\n",
       "      <th>0</th>\n",
       "      <td>volume</td>\n",
       "      <td>0.000019</td>\n",
       "      <td>0.000070</td>\n",
       "      <td>0.000108</td>\n",
       "    </tr>\n",
       "    <tr>\n",
       "      <th>1</th>\n",
       "      <td>date</td>\n",
       "      <td>0.004179</td>\n",
       "      <td>0.005127</td>\n",
       "      <td>0.005839</td>\n",
       "    </tr>\n",
       "    <tr>\n",
       "      <th>2</th>\n",
       "      <td>00:00:00</td>\n",
       "      <td>-9.453111</td>\n",
       "      <td>-0.927986</td>\n",
       "      <td>-0.000000</td>\n",
       "    </tr>\n",
       "    <tr>\n",
       "      <th>3</th>\n",
       "      <td>01:00:00</td>\n",
       "      <td>-16.695991</td>\n",
       "      <td>-7.863160</td>\n",
       "      <td>-0.000000</td>\n",
       "    </tr>\n",
       "    <tr>\n",
       "      <th>4</th>\n",
       "      <td>02:00:00</td>\n",
       "      <td>-18.730889</td>\n",
       "      <td>-9.714377</td>\n",
       "      <td>-1.395630</td>\n",
       "    </tr>\n",
       "    <tr>\n",
       "      <th>5</th>\n",
       "      <td>03:00:00</td>\n",
       "      <td>-19.331563</td>\n",
       "      <td>-10.248145</td>\n",
       "      <td>-1.879153</td>\n",
       "    </tr>\n",
       "    <tr>\n",
       "      <th>6</th>\n",
       "      <td>04:00:00</td>\n",
       "      <td>-18.262614</td>\n",
       "      <td>-9.270656</td>\n",
       "      <td>-0.970349</td>\n",
       "    </tr>\n",
       "    <tr>\n",
       "      <th>7</th>\n",
       "      <td>05:00:00</td>\n",
       "      <td>-17.785682</td>\n",
       "      <td>-9.113941</td>\n",
       "      <td>-1.054111</td>\n",
       "    </tr>\n",
       "    <tr>\n",
       "      <th>8</th>\n",
       "      <td>06:00:00</td>\n",
       "      <td>-13.542419</td>\n",
       "      <td>-5.471910</td>\n",
       "      <td>-0.000000</td>\n",
       "    </tr>\n",
       "    <tr>\n",
       "      <th>9</th>\n",
       "      <td>07:00:00</td>\n",
       "      <td>-9.273115</td>\n",
       "      <td>-1.700582</td>\n",
       "      <td>-0.000000</td>\n",
       "    </tr>\n",
       "    <tr>\n",
       "      <th>10</th>\n",
       "      <td>08:00:00</td>\n",
       "      <td>6.195534</td>\n",
       "      <td>1.615046</td>\n",
       "      <td>0.000000</td>\n",
       "    </tr>\n",
       "    <tr>\n",
       "      <th>11</th>\n",
       "      <td>09:00:00</td>\n",
       "      <td>4.760555</td>\n",
       "      <td>0.221158</td>\n",
       "      <td>0.000000</td>\n",
       "    </tr>\n",
       "    <tr>\n",
       "      <th>12</th>\n",
       "      <td>10:00:00</td>\n",
       "      <td>2.086034</td>\n",
       "      <td>0.000000</td>\n",
       "      <td>0.000000</td>\n",
       "    </tr>\n",
       "    <tr>\n",
       "      <th>13</th>\n",
       "      <td>11:00:00</td>\n",
       "      <td>3.219598</td>\n",
       "      <td>0.000000</td>\n",
       "      <td>0.000000</td>\n",
       "    </tr>\n",
       "    <tr>\n",
       "      <th>14</th>\n",
       "      <td>12:00:00</td>\n",
       "      <td>3.947367</td>\n",
       "      <td>0.000000</td>\n",
       "      <td>0.000000</td>\n",
       "    </tr>\n",
       "    <tr>\n",
       "      <th>15</th>\n",
       "      <td>13:00:00</td>\n",
       "      <td>5.163140</td>\n",
       "      <td>0.372183</td>\n",
       "      <td>0.000000</td>\n",
       "    </tr>\n",
       "    <tr>\n",
       "      <th>16</th>\n",
       "      <td>14:00:00</td>\n",
       "      <td>10.028305</td>\n",
       "      <td>5.084910</td>\n",
       "      <td>0.000000</td>\n",
       "    </tr>\n",
       "    <tr>\n",
       "      <th>17</th>\n",
       "      <td>15:00:00</td>\n",
       "      <td>7.285987</td>\n",
       "      <td>2.246798</td>\n",
       "      <td>0.000000</td>\n",
       "    </tr>\n",
       "    <tr>\n",
       "      <th>18</th>\n",
       "      <td>16:00:00</td>\n",
       "      <td>13.774409</td>\n",
       "      <td>8.716137</td>\n",
       "      <td>3.473149</td>\n",
       "    </tr>\n",
       "    <tr>\n",
       "      <th>19</th>\n",
       "      <td>17:00:00</td>\n",
       "      <td>11.502437</td>\n",
       "      <td>6.452163</td>\n",
       "      <td>1.215180</td>\n",
       "    </tr>\n",
       "    <tr>\n",
       "      <th>20</th>\n",
       "      <td>18:00:00</td>\n",
       "      <td>6.864887</td>\n",
       "      <td>1.904380</td>\n",
       "      <td>0.000000</td>\n",
       "    </tr>\n",
       "    <tr>\n",
       "      <th>21</th>\n",
       "      <td>19:00:00</td>\n",
       "      <td>1.896721</td>\n",
       "      <td>0.000000</td>\n",
       "      <td>0.000000</td>\n",
       "    </tr>\n",
       "    <tr>\n",
       "      <th>22</th>\n",
       "      <td>20:00:00</td>\n",
       "      <td>-1.965906</td>\n",
       "      <td>-0.000000</td>\n",
       "      <td>0.000000</td>\n",
       "    </tr>\n",
       "    <tr>\n",
       "      <th>23</th>\n",
       "      <td>21:00:00</td>\n",
       "      <td>-6.722843</td>\n",
       "      <td>-0.000000</td>\n",
       "      <td>-0.000000</td>\n",
       "    </tr>\n",
       "    <tr>\n",
       "      <th>24</th>\n",
       "      <td>22:00:00</td>\n",
       "      <td>-8.880011</td>\n",
       "      <td>-0.881040</td>\n",
       "      <td>-0.000000</td>\n",
       "    </tr>\n",
       "    <tr>\n",
       "      <th>25</th>\n",
       "      <td>23:00:00</td>\n",
       "      <td>-12.706191</td>\n",
       "      <td>-5.341063</td>\n",
       "      <td>-0.000000</td>\n",
       "    </tr>\n",
       "  </tbody>\n",
       "</table>\n",
       "</div>"
      ],
      "text/plain": [
       "   Feature Name  Alpha = 0.000100  Alpha = 0.250000  Alpha = 0.500000\n",
       "0        volume          0.000019          0.000070          0.000108\n",
       "1          date          0.004179          0.005127          0.005839\n",
       "2      00:00:00         -9.453111         -0.927986         -0.000000\n",
       "3      01:00:00        -16.695991         -7.863160         -0.000000\n",
       "4      02:00:00        -18.730889         -9.714377         -1.395630\n",
       "5      03:00:00        -19.331563        -10.248145         -1.879153\n",
       "6      04:00:00        -18.262614         -9.270656         -0.970349\n",
       "7      05:00:00        -17.785682         -9.113941         -1.054111\n",
       "8      06:00:00        -13.542419         -5.471910         -0.000000\n",
       "9      07:00:00         -9.273115         -1.700582         -0.000000\n",
       "10     08:00:00          6.195534          1.615046          0.000000\n",
       "11     09:00:00          4.760555          0.221158          0.000000\n",
       "12     10:00:00          2.086034          0.000000          0.000000\n",
       "13     11:00:00          3.219598          0.000000          0.000000\n",
       "14     12:00:00          3.947367          0.000000          0.000000\n",
       "15     13:00:00          5.163140          0.372183          0.000000\n",
       "16     14:00:00         10.028305          5.084910          0.000000\n",
       "17     15:00:00          7.285987          2.246798          0.000000\n",
       "18     16:00:00         13.774409          8.716137          3.473149\n",
       "19     17:00:00         11.502437          6.452163          1.215180\n",
       "20     18:00:00          6.864887          1.904380          0.000000\n",
       "21     19:00:00          1.896721          0.000000          0.000000\n",
       "22     20:00:00         -1.965906         -0.000000          0.000000\n",
       "23     21:00:00         -6.722843         -0.000000         -0.000000\n",
       "24     22:00:00         -8.880011         -0.881040         -0.000000\n",
       "25     23:00:00        -12.706191         -5.341063         -0.000000"
      ]
     },
     "execution_count": 221,
     "metadata": {},
     "output_type": "execute_result"
    }
   ],
   "source": [
    "df = pd.DataFrame(lasso([.0001, .25, .5]))\n",
    "df"
   ]
  },
  {
   "cell_type": "code",
   "execution_count": 222,
   "metadata": {},
   "outputs": [
    {
     "data": {
      "text/plain": [
       "Text(0, 0.5, 'Alpha value')"
      ]
     },
     "execution_count": 222,
     "metadata": {},
     "output_type": "execute_result"
    },
    {
     "data": {
      "image/png": "[encoded data removed]",
      "text/plain": [
       "<Figure size 432x288 with 1 Axes>"
      ]
     },
     "metadata": {
      "needs_background": "light"
     },
     "output_type": "display_data"
    }
   ],
   "source": [
    "df.plot()\n",
    "plt.title('Efffect of alpha on coefficients')\n",
    "plt.xlabel('Feature')\n",
    "plt.ylabel('Alpha value')"
   ]
  },
  {
   "cell_type": "markdown",
   "metadata": {},
   "source": [
    "Regularization shrinks unimportant factors, and leaves us with the most important features for minimizing the loss function. Here we see that negative values for columns 4:7 and positive values for columns 18 and 19."
   ]
  },
  {
   "cell_type": "code",
   "execution_count": 223,
   "metadata": {},
   "outputs": [
    {
     "data": {
      "text/plain": [
       "array([0.45526341, 0.45583526, 0.48052536, 0.45565887, 0.46174586])"
      ]
     },
     "execution_count": 223,
     "metadata": {},
     "output_type": "execute_result"
    }
   ],
   "source": [
    "reg3 = Lasso(alpha=.25)\n",
    "reg3.fit(X2_train, y2_train)\n",
    "cv_results = cross_val_score(reg3, X2_train, y2_train, cv=5)\n",
    "cv_results\n"
   ]
  },
  {
   "cell_type": "code",
   "execution_count": 224,
   "metadata": {},
   "outputs": [
    {
     "data": {
      "text/plain": [
       "91.9886195934405"
      ]
     },
     "execution_count": 224,
     "metadata": {},
     "output_type": "execute_result"
    }
   ],
   "source": [
    "metrics.mean_squared_error(y2_test, reg3.predict(X2_test))"
   ]
  },
  {
   "cell_type": "code",
   "execution_count": 225,
   "metadata": {},
   "outputs": [
    {
     "data": {
      "image/png": "[encoded data removed]",
      "text/plain": [
       "<Figure size 432x288 with 1 Axes>"
      ]
     },
     "metadata": {
      "needs_background": "light"
     },
     "output_type": "display_data"
    }
   ],
   "source": [
    "#QQ plot\n",
    "predictions = reg3.predict(X2_test)\n",
    "\n",
    "stats.probplot(predictions, dist='norm', plot=plt)\n",
    "\n",
    "plt.show()"
   ]
  },
  {
   "cell_type": "code",
   "execution_count": 226,
   "metadata": {},
   "outputs": [
    {
     "data": {
      "text/plain": [
       "1589"
      ]
     },
     "execution_count": 226,
     "metadata": {},
     "output_type": "execute_result"
    }
   ],
   "source": [
    "len(predictions)"
   ]
  },
  {
   "cell_type": "code",
   "execution_count": null,
   "metadata": {},
   "outputs": [],
   "source": []
  },
  {
   "cell_type": "code",
   "execution_count": 227,
   "metadata": {},
   "outputs": [
    {
     "name": "stdout",
     "output_type": "stream",
     "text": [
      "                            OLS Regression Results                            \n",
      "==============================================================================\n",
      "Dep. Variable:              accidents   R-squared:                       0.437\n",
      "Model:                            OLS   Adj. R-squared:                  0.436\n",
      "Method:                 Least Squares   F-statistic:                     379.2\n",
      "Date:                Thu, 28 Nov 2019   Prob (F-statistic):               0.00\n",
      "Time:                        14:16:36   Log-Likelihood:                -23840.\n",
      "No. Observations:                6355   AIC:                         4.771e+04\n",
      "Df Residuals:                    6342   BIC:                         4.780e+04\n",
      "Df Model:                          13                                         \n",
      "Covariance Type:            nonrobust                                         \n",
      "==============================================================================\n",
      "                 coef    std err          t      P>|t|      [0.025      0.975]\n",
      "------------------------------------------------------------------------------\n",
      "volume         0.0001   3.25e-06     32.327      0.000    9.86e-05       0.000\n",
      "date           0.0121      0.000     57.722      0.000       0.012       0.013\n",
      "00:00:00            0          0        nan        nan           0           0\n",
      "01:00:00            0          0        nan        nan           0           0\n",
      "02:00:00            0          0        nan        nan           0           0\n",
      "03:00:00            0          0        nan        nan           0           0\n",
      "04:00:00            0          0        nan        nan           0           0\n",
      "05:00:00            0          0        nan        nan           0           0\n",
      "06:00:00            0          0        nan        nan           0           0\n",
      "07:00:00            0          0        nan        nan           0           0\n",
      "08:00:00      20.4106      0.643     31.764      0.000      19.151      21.670\n",
      "09:00:00      18.0518      0.667     27.082      0.000      16.745      19.358\n",
      "10:00:00      16.0902      0.661     24.347      0.000      14.795      17.386\n",
      "11:00:00      18.7708      0.641     29.301      0.000      17.515      20.027\n",
      "12:00:00      17.4506      0.664     26.287      0.000      16.149      18.752\n",
      "13:00:00      18.4666      0.658     28.084      0.000      17.178      19.756\n",
      "14:00:00      23.3751      0.652     35.835      0.000      22.096      24.654\n",
      "15:00:00      20.2723      0.681     29.783      0.000      18.938      21.607\n",
      "16:00:00      26.8318      0.665     40.369      0.000      25.529      28.135\n",
      "17:00:00      24.7038      0.661     37.387      0.000      23.408      25.999\n",
      "18:00:00      19.9673      0.650     30.698      0.000      18.692      21.242\n",
      "19:00:00            0          0        nan        nan           0           0\n",
      "20:00:00            0          0        nan        nan           0           0\n",
      "21:00:00            0          0        nan        nan           0           0\n",
      "22:00:00            0          0        nan        nan           0           0\n",
      "23:00:00            0          0        nan        nan           0           0\n",
      "==============================================================================\n",
      "Omnibus:                       52.538   Durbin-Watson:                   1.914\n",
      "Prob(Omnibus):                  0.000   Jarque-Bera (JB):               74.088\n",
      "Skew:                           0.096   Prob(JB):                     8.17e-17\n",
      "Kurtosis:                       3.493   Cond. No.                     5.66e+05\n",
      "==============================================================================\n",
      "\n",
      "Warnings:\n",
      "[1] Standard Errors assume that the covariance matrix of the errors is correctly specified.\n",
      "[2] The condition number is large, 5.66e+05. This might indicate that there are\n",
      "strong multicollinearity or other numerical problems.\n"
     ]
    },
    {
     "name": "stderr",
     "output_type": "stream",
     "text": [
      "/Users/gene/anaconda3/lib/python3.7/site-packages/statsmodels/base/model.py:1294: RuntimeWarning: invalid value encountered in true_divide\n",
      "  return self.params / self.bse\n",
      "/Users/gene/anaconda3/lib/python3.7/site-packages/scipy/stats/_distn_infrastructure.py:901: RuntimeWarning: invalid value encountered in greater\n",
      "  return (a < x) & (x < b)\n",
      "/Users/gene/anaconda3/lib/python3.7/site-packages/scipy/stats/_distn_infrastructure.py:901: RuntimeWarning: invalid value encountered in less\n",
      "  return (a < x) & (x < b)\n",
      "/Users/gene/anaconda3/lib/python3.7/site-packages/scipy/stats/_distn_infrastructure.py:1892: RuntimeWarning: invalid value encountered in less_equal\n",
      "  cond2 = cond0 & (x <= _a)\n"
     ]
    }
   ],
   "source": [
    "#Laaso regularization with statsmodel\n",
    "\n",
    "m3 = sm.OLS(y2_train, X2_train).fit_regularized(method='elastic_net', alpha=0.25, \\\n",
    "        L1_wt=1, refit=True)\n",
    "print(m3.summary())"
   ]
  },
  {
   "cell_type": "code",
   "execution_count": 228,
   "metadata": {},
   "outputs": [
    {
     "data": {
      "text/plain": [
       "array([[8.4810e+03, 1.2740e+03, 0.0000e+00, ..., 0.0000e+00, 0.0000e+00,\n",
       "        0.0000e+00],\n",
       "       [9.8960e+03, 7.6500e+02, 0.0000e+00, ..., 0.0000e+00, 1.0000e+00,\n",
       "        0.0000e+00],\n",
       "       [7.7340e+03, 1.2260e+03, 0.0000e+00, ..., 0.0000e+00, 0.0000e+00,\n",
       "        0.0000e+00],\n",
       "       ...,\n",
       "       [0.0000e+00, 5.4800e+02, 1.0000e+00, ..., 0.0000e+00, 0.0000e+00,\n",
       "        0.0000e+00],\n",
       "       [2.0300e+02, 5.4200e+02, 1.0000e+00, ..., 0.0000e+00, 0.0000e+00,\n",
       "        0.0000e+00],\n",
       "       [1.8831e+04, 7.9400e+02, 0.0000e+00, ..., 0.0000e+00, 0.0000e+00,\n",
       "        0.0000e+00]])"
      ]
     },
     "execution_count": 228,
     "metadata": {},
     "output_type": "execute_result"
    }
   ],
   "source": [
    "np.array(X2_train, dtype='float')\n",
    "\n"
   ]
  },
  {
   "cell_type": "markdown",
   "metadata": {},
   "source": [
    "Talked about regression of traffic volume and accidents only without the hourly compnent"
   ]
  },
  {
   "cell_type": "markdown",
   "metadata": {},
   "source": [
    "# Poisson Regression"
   ]
  },
  {
   "cell_type": "markdown",
   "metadata": {},
   "source": [
    "Poisson regression is appropriate for count data where the mean and the variance of the data is the same."
   ]
  },
  {
   "cell_type": "code",
   "execution_count": 229,
   "metadata": {},
   "outputs": [
    {
     "name": "stdout",
     "output_type": "stream",
     "text": [
      "Mean:22.536002014098692, Variance:185.9803252044263\n"
     ]
    }
   ],
   "source": [
    "m = accident_reg_df.accidents.mean()\n",
    "v = (abs(accident_reg_df.accidents - accident_reg_df.accidents. mean())**2).mean()\n",
    "print(f'Mean:{m}, Variance:{v}')\n"
   ]
  },
  {
   "cell_type": "code",
   "execution_count": 230,
   "metadata": {},
   "outputs": [
    {
     "data": {
      "text/html": [
       "<div>\n",
       "<style scoped>\n",
       "    .dataframe tbody tr th:only-of-type {\n",
       "        vertical-align: middle;\n",
       "    }\n",
       "\n",
       "    .dataframe tbody tr th {\n",
       "        vertical-align: top;\n",
       "    }\n",
       "\n",
       "    .dataframe thead th {\n",
       "        text-align: right;\n",
       "    }\n",
       "</style>\n",
       "<table border=\"1\" class=\"dataframe\">\n",
       "  <thead>\n",
       "    <tr style=\"text-align: right;\">\n",
       "      <th></th>\n",
       "      <th>volume</th>\n",
       "      <th>date</th>\n",
       "      <th>00:00:00</th>\n",
       "      <th>01:00:00</th>\n",
       "      <th>02:00:00</th>\n",
       "      <th>03:00:00</th>\n",
       "      <th>04:00:00</th>\n",
       "      <th>05:00:00</th>\n",
       "      <th>06:00:00</th>\n",
       "      <th>07:00:00</th>\n",
       "      <th>...</th>\n",
       "      <th>14:00:00</th>\n",
       "      <th>15:00:00</th>\n",
       "      <th>16:00:00</th>\n",
       "      <th>17:00:00</th>\n",
       "      <th>18:00:00</th>\n",
       "      <th>19:00:00</th>\n",
       "      <th>20:00:00</th>\n",
       "      <th>21:00:00</th>\n",
       "      <th>22:00:00</th>\n",
       "      <th>23:00:00</th>\n",
       "    </tr>\n",
       "  </thead>\n",
       "  <tbody>\n",
       "    <tr>\n",
       "      <th>7598</th>\n",
       "      <td>8481</td>\n",
       "      <td>1274</td>\n",
       "      <td>0</td>\n",
       "      <td>0</td>\n",
       "      <td>0</td>\n",
       "      <td>0</td>\n",
       "      <td>0</td>\n",
       "      <td>0</td>\n",
       "      <td>0</td>\n",
       "      <td>0</td>\n",
       "      <td>...</td>\n",
       "      <td>1</td>\n",
       "      <td>0</td>\n",
       "      <td>0</td>\n",
       "      <td>0</td>\n",
       "      <td>0</td>\n",
       "      <td>0</td>\n",
       "      <td>0</td>\n",
       "      <td>0</td>\n",
       "      <td>0</td>\n",
       "      <td>0</td>\n",
       "    </tr>\n",
       "    <tr>\n",
       "      <th>4462</th>\n",
       "      <td>9896</td>\n",
       "      <td>765</td>\n",
       "      <td>0</td>\n",
       "      <td>0</td>\n",
       "      <td>0</td>\n",
       "      <td>0</td>\n",
       "      <td>0</td>\n",
       "      <td>0</td>\n",
       "      <td>0</td>\n",
       "      <td>0</td>\n",
       "      <td>...</td>\n",
       "      <td>0</td>\n",
       "      <td>0</td>\n",
       "      <td>0</td>\n",
       "      <td>0</td>\n",
       "      <td>0</td>\n",
       "      <td>0</td>\n",
       "      <td>0</td>\n",
       "      <td>0</td>\n",
       "      <td>1</td>\n",
       "      <td>0</td>\n",
       "    </tr>\n",
       "    <tr>\n",
       "      <th>7236</th>\n",
       "      <td>7734</td>\n",
       "      <td>1226</td>\n",
       "      <td>0</td>\n",
       "      <td>0</td>\n",
       "      <td>0</td>\n",
       "      <td>0</td>\n",
       "      <td>0</td>\n",
       "      <td>0</td>\n",
       "      <td>0</td>\n",
       "      <td>0</td>\n",
       "      <td>...</td>\n",
       "      <td>0</td>\n",
       "      <td>0</td>\n",
       "      <td>0</td>\n",
       "      <td>0</td>\n",
       "      <td>0</td>\n",
       "      <td>0</td>\n",
       "      <td>0</td>\n",
       "      <td>0</td>\n",
       "      <td>0</td>\n",
       "      <td>0</td>\n",
       "    </tr>\n",
       "    <tr>\n",
       "      <th>3311</th>\n",
       "      <td>9730</td>\n",
       "      <td>435</td>\n",
       "      <td>0</td>\n",
       "      <td>0</td>\n",
       "      <td>0</td>\n",
       "      <td>0</td>\n",
       "      <td>0</td>\n",
       "      <td>0</td>\n",
       "      <td>0</td>\n",
       "      <td>0</td>\n",
       "      <td>...</td>\n",
       "      <td>0</td>\n",
       "      <td>0</td>\n",
       "      <td>0</td>\n",
       "      <td>0</td>\n",
       "      <td>0</td>\n",
       "      <td>0</td>\n",
       "      <td>0</td>\n",
       "      <td>0</td>\n",
       "      <td>0</td>\n",
       "      <td>1</td>\n",
       "    </tr>\n",
       "    <tr>\n",
       "      <th>231</th>\n",
       "      <td>46526</td>\n",
       "      <td>9</td>\n",
       "      <td>0</td>\n",
       "      <td>0</td>\n",
       "      <td>0</td>\n",
       "      <td>0</td>\n",
       "      <td>0</td>\n",
       "      <td>0</td>\n",
       "      <td>0</td>\n",
       "      <td>0</td>\n",
       "      <td>...</td>\n",
       "      <td>0</td>\n",
       "      <td>1</td>\n",
       "      <td>0</td>\n",
       "      <td>0</td>\n",
       "      <td>0</td>\n",
       "      <td>0</td>\n",
       "      <td>0</td>\n",
       "      <td>0</td>\n",
       "      <td>0</td>\n",
       "      <td>0</td>\n",
       "    </tr>\n",
       "  </tbody>\n",
       "</table>\n",
       "<p>5 rows × 26 columns</p>\n",
       "</div>"
      ],
      "text/plain": [
       "      volume  date  00:00:00  01:00:00  02:00:00  03:00:00  04:00:00  \\\n",
       "7598    8481  1274         0         0         0         0         0   \n",
       "4462    9896   765         0         0         0         0         0   \n",
       "7236    7734  1226         0         0         0         0         0   \n",
       "3311    9730   435         0         0         0         0         0   \n",
       "231    46526     9         0         0         0         0         0   \n",
       "\n",
       "      05:00:00  06:00:00  07:00:00  ...  14:00:00  15:00:00  16:00:00  \\\n",
       "7598         0         0         0  ...         1         0         0   \n",
       "4462         0         0         0  ...         0         0         0   \n",
       "7236         0         0         0  ...         0         0         0   \n",
       "3311         0         0         0  ...         0         0         0   \n",
       "231          0         0         0  ...         0         1         0   \n",
       "\n",
       "      17:00:00  18:00:00  19:00:00  20:00:00  21:00:00  22:00:00  23:00:00  \n",
       "7598         0         0         0         0         0         0         0  \n",
       "4462         0         0         0         0         0         1         0  \n",
       "7236         0         0         0         0         0         0         0  \n",
       "3311         0         0         0         0         0         0         1  \n",
       "231          0         0         0         0         0         0         0  \n",
       "\n",
       "[5 rows x 26 columns]"
      ]
     },
     "execution_count": 230,
     "metadata": {},
     "output_type": "execute_result"
    }
   ],
   "source": [
    "X2_train.head()"
   ]
  },
  {
   "cell_type": "code",
   "execution_count": 231,
   "metadata": {},
   "outputs": [],
   "source": [
    "#Using the statsmodels GLM class, train the Poisson regression model on the training data set.\n",
    "m4 = sm.GLM(y2_train, X2_train, family=sm.families.Poisson()).fit()"
   ]
  },
  {
   "cell_type": "code",
   "execution_count": 232,
   "metadata": {},
   "outputs": [
    {
     "name": "stdout",
     "output_type": "stream",
     "text": [
      "                 Generalized Linear Model Regression Results                  \n",
      "==============================================================================\n",
      "Dep. Variable:              accidents   No. Observations:                 6355\n",
      "Model:                            GLM   Df Residuals:                     6329\n",
      "Model Family:                 Poisson   Df Model:                           25\n",
      "Link Function:                    log   Scale:                          1.0000\n",
      "Method:                          IRLS   Log-Likelihood:                -24378.\n",
      "Date:                Thu, 28 Nov 2019   Deviance:                       18950.\n",
      "Time:                        14:16:36   Pearson chi2:                 1.86e+04\n",
      "No. Iterations:                     5                                         \n",
      "Covariance Type:            nonrobust                                         \n",
      "==============================================================================\n",
      "                 coef    std err          z      P>|z|      [0.025      0.975]\n",
      "------------------------------------------------------------------------------\n",
      "volume      7.364e-07   7.04e-08     10.459      0.000    5.98e-07    8.74e-07\n",
      "date           0.0002   6.37e-06     29.144      0.000       0.000       0.000\n",
      "00:00:00       2.6442      0.016    165.974      0.000       2.613       2.675\n",
      "01:00:00       2.0075      0.022     92.845      0.000       1.965       2.050\n",
      "02:00:00       1.7502      0.024     73.244      0.000       1.703       1.797\n",
      "03:00:00       1.6419      0.026     63.746      0.000       1.591       1.692\n",
      "04:00:00       1.8199      0.023     78.419      0.000       1.774       1.865\n",
      "05:00:00       1.8728      0.023     82.053      0.000       1.828       1.918\n",
      "06:00:00       2.3553      0.018    128.459      0.000       2.319       2.391\n",
      "07:00:00       2.6665      0.016    164.214      0.000       2.635       2.698\n",
      "08:00:00       3.3272      0.012    277.036      0.000       3.304       3.351\n",
      "09:00:00       3.2567      0.013    255.408      0.000       3.232       3.282\n",
      "10:00:00       3.1840      0.013    244.652      0.000       3.158       3.209\n",
      "11:00:00       3.2304      0.012    262.715      0.000       3.206       3.255\n",
      "12:00:00       3.2417      0.013    253.076      0.000       3.217       3.267\n",
      "13:00:00       3.2783      0.013    261.336      0.000       3.254       3.303\n",
      "14:00:00       3.4330      0.012    291.426      0.000       3.410       3.456\n",
      "15:00:00       3.3456      0.013    265.048      0.000       3.321       3.370\n",
      "16:00:00       3.5252      0.012    304.366      0.000       3.502       3.548\n",
      "17:00:00       3.4687      0.012    294.994      0.000       3.446       3.492\n",
      "18:00:00       3.3378      0.012    273.313      0.000       3.314       3.362\n",
      "19:00:00       3.1670      0.013    239.701      0.000       3.141       3.193\n",
      "20:00:00       3.0256      0.014    222.184      0.000       2.999       3.052\n",
      "21:00:00       2.8112      0.015    185.467      0.000       2.782       2.841\n",
      "22:00:00       2.6734      0.016    168.589      0.000       2.642       2.705\n",
      "23:00:00       2.3972      0.019    128.267      0.000       2.361       2.434\n",
      "==============================================================================\n"
     ]
    }
   ],
   "source": [
    "#Print the training summary.\n",
    "print(m4.summary())"
   ]
  },
  {
   "cell_type": "markdown",
   "metadata": {},
   "source": [
    "A requirement of a Poisson distribution is that the variance and the mean of errors is the same. For this to be true above, the chi2 value should be close to one. Instead we may be able to use negative bionomial regression. "
   ]
  },
  {
   "cell_type": "markdown",
   "metadata": {},
   "source": [
    "# Negative Bionomial Regression"
   ]
  },
  {
   "cell_type": "code",
   "execution_count": 233,
   "metadata": {},
   "outputs": [
    {
     "name": "stderr",
     "output_type": "stream",
     "text": [
      "/Users/gene/anaconda3/lib/python3.7/site-packages/ipykernel_launcher.py:3: SettingWithCopyWarning: \n",
      "A value is trying to be set on a copy of a slice from a DataFrame.\n",
      "Try using .loc[row_indexer,col_indexer] = value instead\n",
      "\n",
      "See the caveats in the documentation: http://pandas.pydata.org/pandas-docs/stable/indexing.html#indexing-view-versus-copy\n",
      "  This is separate from the ipykernel package so we can avoid doing imports until\n"
     ]
    },
    {
     "data": {
      "text/html": [
       "<div>\n",
       "<style scoped>\n",
       "    .dataframe tbody tr th:only-of-type {\n",
       "        vertical-align: middle;\n",
       "    }\n",
       "\n",
       "    .dataframe tbody tr th {\n",
       "        vertical-align: top;\n",
       "    }\n",
       "\n",
       "    .dataframe thead th {\n",
       "        text-align: right;\n",
       "    }\n",
       "</style>\n",
       "<table border=\"1\" class=\"dataframe\">\n",
       "  <thead>\n",
       "    <tr style=\"text-align: right;\">\n",
       "      <th></th>\n",
       "      <th>volume</th>\n",
       "      <th>date</th>\n",
       "      <th>00:00:00</th>\n",
       "      <th>01:00:00</th>\n",
       "      <th>02:00:00</th>\n",
       "      <th>03:00:00</th>\n",
       "      <th>04:00:00</th>\n",
       "      <th>05:00:00</th>\n",
       "      <th>06:00:00</th>\n",
       "      <th>07:00:00</th>\n",
       "      <th>...</th>\n",
       "      <th>15:00:00</th>\n",
       "      <th>16:00:00</th>\n",
       "      <th>17:00:00</th>\n",
       "      <th>18:00:00</th>\n",
       "      <th>19:00:00</th>\n",
       "      <th>20:00:00</th>\n",
       "      <th>21:00:00</th>\n",
       "      <th>22:00:00</th>\n",
       "      <th>23:00:00</th>\n",
       "      <th>BB_lambda</th>\n",
       "    </tr>\n",
       "  </thead>\n",
       "  <tbody>\n",
       "    <tr>\n",
       "      <th>7598</th>\n",
       "      <td>8481</td>\n",
       "      <td>1274</td>\n",
       "      <td>0</td>\n",
       "      <td>0</td>\n",
       "      <td>0</td>\n",
       "      <td>0</td>\n",
       "      <td>0</td>\n",
       "      <td>0</td>\n",
       "      <td>0</td>\n",
       "      <td>0</td>\n",
       "      <td>...</td>\n",
       "      <td>0</td>\n",
       "      <td>0</td>\n",
       "      <td>0</td>\n",
       "      <td>0</td>\n",
       "      <td>0</td>\n",
       "      <td>0</td>\n",
       "      <td>0</td>\n",
       "      <td>0</td>\n",
       "      <td>0</td>\n",
       "      <td>39.477346</td>\n",
       "    </tr>\n",
       "    <tr>\n",
       "      <th>4462</th>\n",
       "      <td>9896</td>\n",
       "      <td>765</td>\n",
       "      <td>0</td>\n",
       "      <td>0</td>\n",
       "      <td>0</td>\n",
       "      <td>0</td>\n",
       "      <td>0</td>\n",
       "      <td>0</td>\n",
       "      <td>0</td>\n",
       "      <td>0</td>\n",
       "      <td>...</td>\n",
       "      <td>0</td>\n",
       "      <td>0</td>\n",
       "      <td>0</td>\n",
       "      <td>0</td>\n",
       "      <td>0</td>\n",
       "      <td>0</td>\n",
       "      <td>0</td>\n",
       "      <td>1</td>\n",
       "      <td>0</td>\n",
       "      <td>16.822409</td>\n",
       "    </tr>\n",
       "    <tr>\n",
       "      <th>7236</th>\n",
       "      <td>7734</td>\n",
       "      <td>1226</td>\n",
       "      <td>0</td>\n",
       "      <td>0</td>\n",
       "      <td>0</td>\n",
       "      <td>0</td>\n",
       "      <td>0</td>\n",
       "      <td>0</td>\n",
       "      <td>0</td>\n",
       "      <td>0</td>\n",
       "      <td>...</td>\n",
       "      <td>0</td>\n",
       "      <td>0</td>\n",
       "      <td>0</td>\n",
       "      <td>0</td>\n",
       "      <td>0</td>\n",
       "      <td>0</td>\n",
       "      <td>0</td>\n",
       "      <td>0</td>\n",
       "      <td>0</td>\n",
       "      <td>32.294840</td>\n",
       "    </tr>\n",
       "    <tr>\n",
       "      <th>3311</th>\n",
       "      <td>9730</td>\n",
       "      <td>435</td>\n",
       "      <td>0</td>\n",
       "      <td>0</td>\n",
       "      <td>0</td>\n",
       "      <td>0</td>\n",
       "      <td>0</td>\n",
       "      <td>0</td>\n",
       "      <td>0</td>\n",
       "      <td>0</td>\n",
       "      <td>...</td>\n",
       "      <td>0</td>\n",
       "      <td>0</td>\n",
       "      <td>0</td>\n",
       "      <td>0</td>\n",
       "      <td>0</td>\n",
       "      <td>0</td>\n",
       "      <td>0</td>\n",
       "      <td>0</td>\n",
       "      <td>1</td>\n",
       "      <td>12.002082</td>\n",
       "    </tr>\n",
       "    <tr>\n",
       "      <th>231</th>\n",
       "      <td>46526</td>\n",
       "      <td>9</td>\n",
       "      <td>0</td>\n",
       "      <td>0</td>\n",
       "      <td>0</td>\n",
       "      <td>0</td>\n",
       "      <td>0</td>\n",
       "      <td>0</td>\n",
       "      <td>0</td>\n",
       "      <td>0</td>\n",
       "      <td>...</td>\n",
       "      <td>1</td>\n",
       "      <td>0</td>\n",
       "      <td>0</td>\n",
       "      <td>0</td>\n",
       "      <td>0</td>\n",
       "      <td>0</td>\n",
       "      <td>0</td>\n",
       "      <td>0</td>\n",
       "      <td>0</td>\n",
       "      <td>29.415127</td>\n",
       "    </tr>\n",
       "  </tbody>\n",
       "</table>\n",
       "<p>5 rows × 27 columns</p>\n",
       "</div>"
      ],
      "text/plain": [
       "      volume  date  00:00:00  01:00:00  02:00:00  03:00:00  04:00:00  \\\n",
       "7598    8481  1274         0         0         0         0         0   \n",
       "4462    9896   765         0         0         0         0         0   \n",
       "7236    7734  1226         0         0         0         0         0   \n",
       "3311    9730   435         0         0         0         0         0   \n",
       "231    46526     9         0         0         0         0         0   \n",
       "\n",
       "      05:00:00  06:00:00  07:00:00  ...  15:00:00  16:00:00  17:00:00  \\\n",
       "7598         0         0         0  ...         0         0         0   \n",
       "4462         0         0         0  ...         0         0         0   \n",
       "7236         0         0         0  ...         0         0         0   \n",
       "3311         0         0         0  ...         0         0         0   \n",
       "231          0         0         0  ...         1         0         0   \n",
       "\n",
       "      18:00:00  19:00:00  20:00:00  21:00:00  22:00:00  23:00:00  BB_lambda  \n",
       "7598         0         0         0         0         0         0  39.477346  \n",
       "4462         0         0         0         0         1         0  16.822409  \n",
       "7236         0         0         0         0         0         0  32.294840  \n",
       "3311         0         0         0         0         0         1  12.002082  \n",
       "231          0         0         0         0         0         0  29.415127  \n",
       "\n",
       "[5 rows x 27 columns]"
      ]
     },
     "execution_count": 233,
     "metadata": {},
     "output_type": "execute_result"
    }
   ],
   "source": [
    "#For negative bionomial regression, add array of lambda values from poisson regression\n",
    "#to the training dataset\n",
    "X2_train['BB_lambda'] = m4.mu \n",
    "X2_train.head()"
   ]
  },
  {
   "cell_type": "code",
   "execution_count": 234,
   "metadata": {},
   "outputs": [],
   "source": [
    "#temporarily add the accident values to calculate"
   ]
  },
  {
   "cell_type": "code",
   "execution_count": 237,
   "metadata": {},
   "outputs": [
    {
     "name": "stderr",
     "output_type": "stream",
     "text": [
      "/Users/gene/anaconda3/lib/python3.7/site-packages/ipykernel_launcher.py:3: SettingWithCopyWarning: \n",
      "A value is trying to be set on a copy of a slice from a DataFrame.\n",
      "Try using .loc[row_indexer,col_indexer] = value instead\n",
      "\n",
      "See the caveats in the documentation: http://pandas.pydata.org/pandas-docs/stable/indexing.html#indexing-view-versus-copy\n",
      "  This is separate from the ipykernel package so we can avoid doing imports until\n",
      "/Users/gene/anaconda3/lib/python3.7/site-packages/ipykernel_launcher.py:5: SettingWithCopyWarning: \n",
      "A value is trying to be set on a copy of a slice from a DataFrame.\n",
      "Try using .loc[row_indexer,col_indexer] = value instead\n",
      "\n",
      "See the caveats in the documentation: http://pandas.pydata.org/pandas-docs/stable/indexing.html#indexing-view-versus-copy\n",
      "  \"\"\"\n"
     ]
    },
    {
     "data": {
      "text/html": [
       "<div>\n",
       "<style scoped>\n",
       "    .dataframe tbody tr th:only-of-type {\n",
       "        vertical-align: middle;\n",
       "    }\n",
       "\n",
       "    .dataframe tbody tr th {\n",
       "        vertical-align: top;\n",
       "    }\n",
       "\n",
       "    .dataframe thead th {\n",
       "        text-align: right;\n",
       "    }\n",
       "</style>\n",
       "<table border=\"1\" class=\"dataframe\">\n",
       "  <thead>\n",
       "    <tr style=\"text-align: right;\">\n",
       "      <th></th>\n",
       "      <th>volume</th>\n",
       "      <th>date</th>\n",
       "      <th>00:00:00</th>\n",
       "      <th>01:00:00</th>\n",
       "      <th>02:00:00</th>\n",
       "      <th>03:00:00</th>\n",
       "      <th>04:00:00</th>\n",
       "      <th>05:00:00</th>\n",
       "      <th>06:00:00</th>\n",
       "      <th>07:00:00</th>\n",
       "      <th>...</th>\n",
       "      <th>17:00:00</th>\n",
       "      <th>18:00:00</th>\n",
       "      <th>19:00:00</th>\n",
       "      <th>20:00:00</th>\n",
       "      <th>21:00:00</th>\n",
       "      <th>22:00:00</th>\n",
       "      <th>23:00:00</th>\n",
       "      <th>BB_lambda</th>\n",
       "      <th>AUX_OLS_DEP</th>\n",
       "      <th>accidents</th>\n",
       "    </tr>\n",
       "  </thead>\n",
       "  <tbody>\n",
       "    <tr>\n",
       "      <th>7598</th>\n",
       "      <td>8481</td>\n",
       "      <td>1274</td>\n",
       "      <td>0</td>\n",
       "      <td>0</td>\n",
       "      <td>0</td>\n",
       "      <td>0</td>\n",
       "      <td>0</td>\n",
       "      <td>0</td>\n",
       "      <td>0</td>\n",
       "      <td>0</td>\n",
       "      <td>...</td>\n",
       "      <td>0</td>\n",
       "      <td>0</td>\n",
       "      <td>0</td>\n",
       "      <td>0</td>\n",
       "      <td>0</td>\n",
       "      <td>0</td>\n",
       "      <td>0</td>\n",
       "      <td>39.477346</td>\n",
       "      <td>4.675936</td>\n",
       "      <td>25</td>\n",
       "    </tr>\n",
       "    <tr>\n",
       "      <th>4462</th>\n",
       "      <td>9896</td>\n",
       "      <td>765</td>\n",
       "      <td>0</td>\n",
       "      <td>0</td>\n",
       "      <td>0</td>\n",
       "      <td>0</td>\n",
       "      <td>0</td>\n",
       "      <td>0</td>\n",
       "      <td>0</td>\n",
       "      <td>0</td>\n",
       "      <td>...</td>\n",
       "      <td>0</td>\n",
       "      <td>0</td>\n",
       "      <td>0</td>\n",
       "      <td>0</td>\n",
       "      <td>0</td>\n",
       "      <td>1</td>\n",
       "      <td>0</td>\n",
       "      <td>16.822409</td>\n",
       "      <td>2.172416</td>\n",
       "      <td>10</td>\n",
       "    </tr>\n",
       "    <tr>\n",
       "      <th>7236</th>\n",
       "      <td>7734</td>\n",
       "      <td>1226</td>\n",
       "      <td>0</td>\n",
       "      <td>0</td>\n",
       "      <td>0</td>\n",
       "      <td>0</td>\n",
       "      <td>0</td>\n",
       "      <td>0</td>\n",
       "      <td>0</td>\n",
       "      <td>0</td>\n",
       "      <td>...</td>\n",
       "      <td>0</td>\n",
       "      <td>0</td>\n",
       "      <td>0</td>\n",
       "      <td>0</td>\n",
       "      <td>0</td>\n",
       "      <td>0</td>\n",
       "      <td>0</td>\n",
       "      <td>32.294840</td>\n",
       "      <td>3.300014</td>\n",
       "      <td>21</td>\n",
       "    </tr>\n",
       "    <tr>\n",
       "      <th>3311</th>\n",
       "      <td>9730</td>\n",
       "      <td>435</td>\n",
       "      <td>0</td>\n",
       "      <td>0</td>\n",
       "      <td>0</td>\n",
       "      <td>0</td>\n",
       "      <td>0</td>\n",
       "      <td>0</td>\n",
       "      <td>0</td>\n",
       "      <td>0</td>\n",
       "      <td>...</td>\n",
       "      <td>0</td>\n",
       "      <td>0</td>\n",
       "      <td>0</td>\n",
       "      <td>0</td>\n",
       "      <td>0</td>\n",
       "      <td>0</td>\n",
       "      <td>1</td>\n",
       "      <td>12.002082</td>\n",
       "      <td>-0.832842</td>\n",
       "      <td>11</td>\n",
       "    </tr>\n",
       "    <tr>\n",
       "      <th>231</th>\n",
       "      <td>46526</td>\n",
       "      <td>9</td>\n",
       "      <td>0</td>\n",
       "      <td>0</td>\n",
       "      <td>0</td>\n",
       "      <td>0</td>\n",
       "      <td>0</td>\n",
       "      <td>0</td>\n",
       "      <td>0</td>\n",
       "      <td>0</td>\n",
       "      <td>...</td>\n",
       "      <td>0</td>\n",
       "      <td>0</td>\n",
       "      <td>0</td>\n",
       "      <td>0</td>\n",
       "      <td>0</td>\n",
       "      <td>0</td>\n",
       "      <td>0</td>\n",
       "      <td>29.415127</td>\n",
       "      <td>0.250230</td>\n",
       "      <td>36</td>\n",
       "    </tr>\n",
       "  </tbody>\n",
       "</table>\n",
       "<p>5 rows × 29 columns</p>\n",
       "</div>"
      ],
      "text/plain": [
       "      volume  date  00:00:00  01:00:00  02:00:00  03:00:00  04:00:00  \\\n",
       "7598    8481  1274         0         0         0         0         0   \n",
       "4462    9896   765         0         0         0         0         0   \n",
       "7236    7734  1226         0         0         0         0         0   \n",
       "3311    9730   435         0         0         0         0         0   \n",
       "231    46526     9         0         0         0         0         0   \n",
       "\n",
       "      05:00:00  06:00:00  07:00:00  ...  17:00:00  18:00:00  19:00:00  \\\n",
       "7598         0         0         0  ...         0         0         0   \n",
       "4462         0         0         0  ...         0         0         0   \n",
       "7236         0         0         0  ...         0         0         0   \n",
       "3311         0         0         0  ...         0         0         0   \n",
       "231          0         0         0  ...         0         0         0   \n",
       "\n",
       "      20:00:00  21:00:00  22:00:00  23:00:00  BB_lambda  AUX_OLS_DEP  \\\n",
       "7598         0         0         0         0  39.477346     4.675936   \n",
       "4462         0         0         1         0  16.822409     2.172416   \n",
       "7236         0         0         0         0  32.294840     3.300014   \n",
       "3311         0         0         0         1  12.002082    -0.832842   \n",
       "231          0         0         0         0  29.415127     0.250230   \n",
       "\n",
       "      accidents  \n",
       "7598         25  \n",
       "4462         10  \n",
       "7236         21  \n",
       "3311         11  \n",
       "231          36  \n",
       "\n",
       "[5 rows x 29 columns]"
      ]
     },
     "execution_count": 237,
     "metadata": {},
     "output_type": "execute_result"
    }
   ],
   "source": [
    "#Now contrive the value of the dependent variable of the OLS regression\n",
    "#will first add the y2_train values to X2_train\n",
    "X2_train['accidents'] = y2_train.copy()\n",
    "X2_train['AUX_OLS_DEP'] = X2_train.apply(lambda x: ((x['accidents'] - x['BB_lambda'])**2 - \\\n",
    "    x['accidents']) / x['BB_lambda'], axis=1)\n",
    "#X2_train.drop(columns='accidents', inplace=True)\n",
    "X2_train.head()"
   ]
  },
  {
   "cell_type": "code",
   "execution_count": 238,
   "metadata": {},
   "outputs": [
    {
     "name": "stdout",
     "output_type": "stream",
     "text": [
      "accidents    0.070671\n",
      "dtype: float64\n"
     ]
    }
   ],
   "source": [
    "aux_ols_results = sm.OLS(X2_train['AUX_OLS_DEP'], X2_train['accidents']).fit()\n",
    "print(aux_ols_results.params)"
   ]
  },
  {
   "cell_type": "markdown",
   "metadata": {},
   "source": [
    "Is the alpha value above statistically significant? If not, variance = mean and we will can not obtain a better fit than the Poisson regression."
   ]
  },
  {
   "cell_type": "code",
   "execution_count": 239,
   "metadata": {},
   "outputs": [
    {
     "data": {
      "text/plain": [
       "accidents    32.458744\n",
       "dtype: float64"
      ]
     },
     "execution_count": 239,
     "metadata": {},
     "output_type": "execute_result"
    }
   ],
   "source": [
    "aux_ols_results.tvalues"
   ]
  },
  {
   "cell_type": "markdown",
   "metadata": {},
   "source": [
    "Critical value :\n",
    "https://goodcalculators.com/student-t-value-calculator/\n",
    "\n",
    "With a significance level of 0.01 and 1588 degrees of freedom\n",
    "T-value = 2.32\n",
    "This is much lower than the alpha t-statistic of  of 32.46\n",
    "Therefore the alpha value of 0.0707 is statistically significant"
   ]
  },
  {
   "cell_type": "code",
   "execution_count": 240,
   "metadata": {},
   "outputs": [],
   "source": [
    "#Drop additional columns from trainin set\n",
    "X2_train.drop(columns=['accidents', 'AUX_OLS_DEP', 'BB_lambda'], inplace=True)"
   ]
  },
  {
   "cell_type": "code",
   "execution_count": 241,
   "metadata": {},
   "outputs": [],
   "source": [
    "m5 = sm.GLM(y2_train, X2_train, \\\n",
    "    family=sm.families.NegativeBinomial(alpha=aux_ols_results.params[0])).fit()"
   ]
  },
  {
   "cell_type": "code",
   "execution_count": 257,
   "metadata": {},
   "outputs": [
    {
     "name": "stdout",
     "output_type": "stream",
     "text": [
      "0.07067108145963183\n"
     ]
    }
   ],
   "source": []
  },
  {
   "cell_type": "code",
   "execution_count": 259,
   "metadata": {},
   "outputs": [
    {
     "name": "stdout",
     "output_type": "stream",
     "text": [
      "                 Generalized Linear Model Regression Results                  \n",
      "==============================================================================\n",
      "Dep. Variable:              accidents   No. Observations:                 6355\n",
      "Model:                            GLM   Df Residuals:                     6329\n",
      "Model Family:        NegativeBinomial   Df Model:                           25\n",
      "Link Function:                    log   Scale:                          1.0000\n",
      "Method:                          IRLS   Log-Likelihood:                -21858.\n",
      "Date:                Thu, 28 Nov 2019   Deviance:                       8293.5\n",
      "Time:                        14:34:00   Pearson chi2:                 7.93e+03\n",
      "No. Iterations:                     6                                         \n",
      "Covariance Type:            nonrobust                                         \n",
      "==============================================================================\n",
      "                 coef    std err          z      P>|z|      [0.025      0.975]\n",
      "------------------------------------------------------------------------------\n",
      "volume      9.788e-07   1.23e-07      7.950      0.000    7.37e-07    1.22e-06\n",
      "date           0.0002   1.06e-05     18.902      0.000       0.000       0.000\n",
      "00:00:00       2.6191      0.024    110.751      0.000       2.573       2.665\n",
      "01:00:00       1.9936      0.028     71.733      0.000       1.939       2.048\n",
      "02:00:00       1.7373      0.029     59.277      0.000       1.680       1.795\n",
      "03:00:00       1.6286      0.031     52.405      0.000       1.568       1.689\n",
      "04:00:00       1.8067      0.029     62.670      0.000       1.750       1.863\n",
      "05:00:00       1.8583      0.029     64.895      0.000       1.802       1.914\n",
      "06:00:00       2.3368      0.026     91.574      0.000       2.287       2.387\n",
      "07:00:00       2.6403      0.024    108.297      0.000       2.592       2.688\n",
      "08:00:00       3.3095      0.021    154.865      0.000       3.268       3.351\n",
      "09:00:00       3.2395      0.022    145.313      0.000       3.196       3.283\n",
      "10:00:00       3.1662      0.022    141.948      0.000       3.122       3.210\n",
      "11:00:00       3.2164      0.021    151.226      0.000       3.175       3.258\n",
      "12:00:00       3.2220      0.022    144.399      0.000       3.178       3.266\n",
      "13:00:00       3.2588      0.022    147.776      0.000       3.216       3.302\n",
      "14:00:00       3.4122      0.022    158.405      0.000       3.370       3.454\n",
      "15:00:00       3.3226      0.023    146.853      0.000       3.278       3.367\n",
      "16:00:00       3.5045      0.022    161.400      0.000       3.462       3.547\n",
      "17:00:00       3.4480      0.022    158.750      0.000       3.405       3.491\n",
      "18:00:00       3.3185      0.022    152.239      0.000       3.276       3.361\n",
      "19:00:00       3.1487      0.023    139.533      0.000       3.104       3.193\n",
      "20:00:00       3.0082      0.022    134.448      0.000       2.964       3.052\n",
      "21:00:00       2.7946      0.024    118.791      0.000       2.748       2.841\n",
      "22:00:00       2.6563      0.024    111.811      0.000       2.610       2.703\n",
      "23:00:00       2.3777      0.026     90.035      0.000       2.326       2.429\n",
      "==============================================================================\n"
     ]
    }
   ],
   "source": [
    "print(m5.summary())"
   ]
  },
  {
   "cell_type": "code",
   "execution_count": 243,
   "metadata": {},
   "outputs": [
    {
     "data": {
      "text/plain": [
       "<matplotlib.axes._subplots.AxesSubplot at 0x1c34e8a0f0>"
      ]
     },
     "execution_count": 243,
     "metadata": {},
     "output_type": "execute_result"
    },
    {
     "data": {
      "image/png": "[encoded data removed]",
      "text/plain": [
       "<Figure size 432x288 with 1 Axes>"
      ]
     },
     "metadata": {
      "needs_background": "light"
     },
     "output_type": "display_data"
    }
   ],
   "source": [
    "reg1_test_df = accident_reg_df[accident_reg_df.date == 0]\n",
    "reg1_X = reg1_test_df.drop('accidents', axis=1)\n",
    "reg1_y = reg1_test_df.accidents\n",
    "reg1_test_df.accidents.plot()"
   ]
  },
  {
   "cell_type": "code",
   "execution_count": 244,
   "metadata": {},
   "outputs": [
    {
     "data": {
      "image/png": "[encoded data removed]",
      "text/plain": [
       "<Figure size 432x288 with 1 Axes>"
      ]
     },
     "metadata": {
      "needs_background": "light"
     },
     "output_type": "display_data"
    }
   ],
   "source": [
    "reg1_test_predict = m2.predict(reg1_X)\n",
    "reg1_test_df.accidents.plot()\n",
    "_ = plt.plot(reg1_test_df.index, reg1_test_predict)\n"
   ]
  },
  {
   "cell_type": "code",
   "execution_count": 245,
   "metadata": {},
   "outputs": [
    {
     "data": {
      "text/plain": [
       "[<matplotlib.lines.Line2D at 0x1c3307b898>]"
      ]
     },
     "execution_count": 245,
     "metadata": {},
     "output_type": "execute_result"
    },
    {
     "data": {
      "image/png": "[encoded data removed]",
      "text/plain": [
       "<Figure size 432x288 with 1 Axes>"
      ]
     },
     "metadata": {
      "needs_background": "light"
     },
     "output_type": "display_data"
    }
   ],
   "source": [
    "reg2_test_predict = m3.predict(reg1_X)\n",
    "reg1_test_df.accidents.plot()\n",
    "plt.plot(reg1_test_df.index, reg1_test_predict)"
   ]
  },
  {
   "cell_type": "code",
   "execution_count": 246,
   "metadata": {},
   "outputs": [
    {
     "data": {
      "image/png": "[encoded data removed]",
      "text/plain": [
       "<Figure size 432x288 with 1 Axes>"
      ]
     },
     "metadata": {
      "needs_background": "light"
     },
     "output_type": "display_data"
    }
   ],
   "source": [
    "reg3_test_predict = m4.predict(reg1_X)\n",
    "reg4_test_predict = m5.predict(reg1_X)\n",
    "reg1_test_df.accidents.plot(color='r')\n",
    "_ = plt.plot(reg1_test_df.index, reg1_test_predict, color='blue', label='LR')\n",
    "_ = plt.plot(reg1_test_df.index, reg2_test_predict,color='purple', label='Lasso')\n",
    "_ = plt.plot(reg1_test_df.index, reg3_test_predict, color='orange', label='Poisson')\n",
    "_ = plt.plot(reg1_test_df.index, reg4_test_predict, color='black', label='Negative Bionomial')"
   ]
  },
  {
   "cell_type": "code",
   "execution_count": 247,
   "metadata": {},
   "outputs": [],
   "source": [
    "#generate output from model using test sample. Assign to variable group by hour and plot\n",
    "#against actual y-values.\n",
    "\n",
    "m2_predict = pd.DataFrame(m2.predict(X2_test), columns=['predicted']) # LR\n",
    "m3_predict = pd.DataFrame(m3.predict(X2_test), columns=['predicted']) # Lasso\n",
    "m4_predict = pd.DataFrame(m4.predict(X2_test), columns=['predicted']) # Poisson\n",
    "m5_predict = pd.DataFrame(m5.predict(X2_test), columns=['predicted']) # Negative Bionomial"
   ]
  },
  {
   "cell_type": "code",
   "execution_count": 248,
   "metadata": {},
   "outputs": [
    {
     "data": {
      "text/html": [
       "<div>\n",
       "<style scoped>\n",
       "    .dataframe tbody tr th:only-of-type {\n",
       "        vertical-align: middle;\n",
       "    }\n",
       "\n",
       "    .dataframe tbody tr th {\n",
       "        vertical-align: top;\n",
       "    }\n",
       "\n",
       "    .dataframe thead th {\n",
       "        text-align: right;\n",
       "    }\n",
       "</style>\n",
       "<table border=\"1\" class=\"dataframe\">\n",
       "  <thead>\n",
       "    <tr style=\"text-align: right;\">\n",
       "      <th></th>\n",
       "      <th>predicted</th>\n",
       "    </tr>\n",
       "  </thead>\n",
       "  <tbody>\n",
       "    <tr>\n",
       "      <th>806</th>\n",
       "      <td>34.670636</td>\n",
       "    </tr>\n",
       "    <tr>\n",
       "      <th>3169</th>\n",
       "      <td>5.430049</td>\n",
       "    </tr>\n",
       "    <tr>\n",
       "      <th>6789</th>\n",
       "      <td>17.746975</td>\n",
       "    </tr>\n",
       "    <tr>\n",
       "      <th>2212</th>\n",
       "      <td>6.253183</td>\n",
       "    </tr>\n",
       "    <tr>\n",
       "      <th>7547</th>\n",
       "      <td>34.367144</td>\n",
       "    </tr>\n",
       "  </tbody>\n",
       "</table>\n",
       "</div>"
      ],
      "text/plain": [
       "      predicted\n",
       "806   34.670636\n",
       "3169   5.430049\n",
       "6789  17.746975\n",
       "2212   6.253183\n",
       "7547  34.367144"
      ]
     },
     "execution_count": 248,
     "metadata": {},
     "output_type": "execute_result"
    }
   ],
   "source": [
    "\n",
    "m3_predict.head()"
   ]
  },
  {
   "cell_type": "code",
   "execution_count": 249,
   "metadata": {},
   "outputs": [],
   "source": [
    "#merge day of week onto index in above series. \n",
    "m2_predict_dow = pd.merge(m2_predict.predicted,\n",
    "                         accident_hourly_df.day_of_week,\n",
    "                            left_on=m2_predict.index,\n",
    "                           right_on=accident_hourly_df.index,\n",
    "                            how='inner').set_index(m2_predict.index).drop('key_0', axis=1)\n",
    "#could possibly avoid dropping key_0 by passing indexes as labels not series..."
   ]
  },
  {
   "cell_type": "code",
   "execution_count": 250,
   "metadata": {},
   "outputs": [
    {
     "data": {
      "text/html": [
       "<div>\n",
       "<style scoped>\n",
       "    .dataframe tbody tr th:only-of-type {\n",
       "        vertical-align: middle;\n",
       "    }\n",
       "\n",
       "    .dataframe tbody tr th {\n",
       "        vertical-align: top;\n",
       "    }\n",
       "\n",
       "    .dataframe thead th {\n",
       "        text-align: right;\n",
       "    }\n",
       "</style>\n",
       "<table border=\"1\" class=\"dataframe\">\n",
       "  <thead>\n",
       "    <tr style=\"text-align: right;\">\n",
       "      <th></th>\n",
       "      <th>predicted</th>\n",
       "      <th>day_of_week</th>\n",
       "    </tr>\n",
       "  </thead>\n",
       "  <tbody>\n",
       "    <tr>\n",
       "      <th>806</th>\n",
       "      <td>34.670105</td>\n",
       "      <td>4</td>\n",
       "    </tr>\n",
       "    <tr>\n",
       "      <th>3169</th>\n",
       "      <td>7.434411</td>\n",
       "      <td>5</td>\n",
       "    </tr>\n",
       "    <tr>\n",
       "      <th>6789</th>\n",
       "      <td>21.405049</td>\n",
       "      <td>1</td>\n",
       "    </tr>\n",
       "    <tr>\n",
       "      <th>2212</th>\n",
       "      <td>6.086691</td>\n",
       "      <td>0</td>\n",
       "    </tr>\n",
       "    <tr>\n",
       "      <th>7547</th>\n",
       "      <td>31.276934</td>\n",
       "      <td>5</td>\n",
       "    </tr>\n",
       "  </tbody>\n",
       "</table>\n",
       "</div>"
      ],
      "text/plain": [
       "      predicted  day_of_week\n",
       "806   34.670105            4\n",
       "3169   7.434411            5\n",
       "6789  21.405049            1\n",
       "2212   6.086691            0\n",
       "7547  31.276934            5"
      ]
     },
     "execution_count": 250,
     "metadata": {},
     "output_type": "execute_result"
    }
   ],
   "source": [
    "m2_predict_dow.head()"
   ]
  },
  {
   "cell_type": "code",
   "execution_count": 251,
   "metadata": {},
   "outputs": [],
   "source": [
    "#y2_test_dow.head()"
   ]
  },
  {
   "cell_type": "code",
   "execution_count": 252,
   "metadata": {},
   "outputs": [
    {
     "data": {
      "text/plain": [
       "time\n",
       "00:00:00     954\n",
       "01:00:00     621\n",
       "02:00:00     353\n",
       "03:00:00     404\n",
       "04:00:00     394\n",
       "05:00:00     520\n",
       "06:00:00     757\n",
       "07:00:00    1185\n",
       "08:00:00    1667\n",
       "09:00:00    2393\n",
       "10:00:00    1960\n",
       "11:00:00    1626\n",
       "12:00:00    2151\n",
       "13:00:00    2083\n",
       "14:00:00    2110\n",
       "15:00:00    2785\n",
       "16:00:00    2805\n",
       "17:00:00    2514\n",
       "18:00:00    1830\n",
       "19:00:00    2061\n",
       "20:00:00    1398\n",
       "21:00:00    1304\n",
       "22:00:00    1084\n",
       "23:00:00    1178\n",
       "Name: accidents, dtype: int64"
      ]
     },
     "execution_count": 252,
     "metadata": {},
     "output_type": "execute_result"
    }
   ],
   "source": [
    "accident_volume_df.loc[y2_test.index].groupby('time').sum().accidents"
   ]
  },
  {
   "cell_type": "markdown",
   "metadata": {},
   "source": [
    "Use the index of y2_train to pull out corresponding rows from the full dataframe. Group by hour and use as the ground truth per hour. Merge the results of the regressions onto this to link time with index and then plot corresponding predictions."
   ]
  },
  {
   "cell_type": "code",
   "execution_count": 253,
   "metadata": {},
   "outputs": [],
   "source": [
    "acc_vol_intest_df = accident_volume_df.loc[y2_test.index]\n",
    "#merge linear regression prediction m2 onto df\n",
    "m2_predict_dow = pd.merge(acc_vol_intest_df,\n",
    "                          m2_predict.predicted,\n",
    "                         left_on=acc_vol_intest_df.index,\n",
    "                           right_on=m2_predict.index,\n",
    "                            how='inner').set_index(acc_vol_intest_df.index).drop('key_0', axis=1)\n",
    "#merge linear regression prediction m3 onto df\n",
    "m3_predict_dow = pd.merge(acc_vol_intest_df,\n",
    "                          m3_predict.predicted,\n",
    "                         left_on=acc_vol_intest_df.index,\n",
    "                           right_on=m3_predict.index,\n",
    "                            how='inner').set_index(acc_vol_intest_df.index).drop('key_0', axis=1)\n",
    "#merge linear regression prediction m4 onto df\n",
    "m4_predict_dow = pd.merge(acc_vol_intest_df,\n",
    "                          m4_predict.predicted,\n",
    "                         left_on=acc_vol_intest_df.index,\n",
    "                           right_on=m4_predict.index,\n",
    "                            how='inner').set_index(acc_vol_intest_df.index).drop('key_0', axis=1)\n",
    "#merge linear regression prediction m4 onto df\n",
    "m5_predict_dow = pd.merge(acc_vol_intest_df,\n",
    "                          m5_predict.predicted,\n",
    "                         left_on=acc_vol_intest_df.index,\n",
    "                           right_on=m5_predict.index,\n",
    "                            how='inner').set_index(acc_vol_intest_df.index).drop('key_0', axis=1)"
   ]
  },
  {
   "cell_type": "code",
   "execution_count": 261,
   "metadata": {},
   "outputs": [
    {
     "data": {
      "text/plain": [
       "time\n",
       "00:00:00     990.334939\n",
       "01:00:00     568.978687\n",
       "02:00:00     354.098839\n",
       "03:00:00     388.048916\n",
       "04:00:00     394.170401\n",
       "05:00:00     460.529539\n",
       "06:00:00     779.331592\n",
       "07:00:00    1239.910883\n",
       "08:00:00    1778.150883\n",
       "09:00:00    2248.971538\n",
       "10:00:00    2000.779363\n",
       "11:00:00    1719.838840\n",
       "12:00:00    2130.553930\n",
       "13:00:00    2030.596525\n",
       "14:00:00    2168.354132\n",
       "15:00:00    2750.899053\n",
       "16:00:00    2787.158294\n",
       "17:00:00    2524.700733\n",
       "18:00:00    1847.542861\n",
       "19:00:00    2009.632140\n",
       "20:00:00    1421.678765\n",
       "21:00:00    1382.357474\n",
       "22:00:00    1065.806740\n",
       "23:00:00    1052.078727\n",
       "Name: predicted, dtype: float64"
      ]
     },
     "execution_count": 261,
     "metadata": {},
     "output_type": "execute_result"
    }
   ],
   "source": [
    "m4_predict_dow.groupby('time').sum().predicted"
   ]
  },
  {
   "cell_type": "code",
   "execution_count": 255,
   "metadata": {},
   "outputs": [
    {
     "data": {
      "image/png": "[encoded data removed]",
      "text/plain": [
       "<Figure size 432x288 with 1 Axes>"
      ]
     },
     "metadata": {
      "needs_background": "light"
     },
     "output_type": "display_data"
    }
   ],
   "source": [
    "#Plot the mean of values of grouped hour verses grouped hour from each of the regressions\n",
    "_ = accident_volume_df.loc[y2_test.index].groupby('time').mean().accidents.plot(c='r')\n",
    "_ = m2_predict_dow.groupby('time').mean().predicted.plot(c='blue')\n",
    "_ = m3_predict_dow.groupby('time').mean().predicted.plot(c='purple')\n",
    "_ = m4_predict_dow.groupby('time').mean().predicted.plot(c='orange', alpha=0.7)\n",
    "_ = m5_predict_dow.groupby('time').mean().predicted.plot(c='black', alpha=0.7)"
   ]
  },
  {
   "cell_type": "markdown",
   "metadata": {},
   "source": [
    "End of notebook"
   ]
  },
  {
   "cell_type": "code",
   "execution_count": null,
   "metadata": {},
   "outputs": [],
   "source": []
  }
 ],
 "metadata": {
  "kernelspec": {
   "display_name": "Python 3",
   "language": "python",
   "name": "python3"
  },
  "language_info": {
   "codemirror_mode": {
    "name": "ipython",
    "version": 3
   },
   "file_extension": ".py",
   "mimetype": "text/x-python",
   "name": "python",
   "nbconvert_exporter": "python",
   "pygments_lexer": "ipython3",
   "version": "3.7.3"
  }
 },
 "nbformat": 4,
 "nbformat_minor": 2
}
