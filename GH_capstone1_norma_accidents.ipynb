{
 "cells": [
  {
   "cell_type": "markdown",
   "metadata": {},
   "source": [
    "We're interested in predicting accidents at specific times in the day. We need to have some idea of traffic flow, so that we don't falsely assume  an increase in accidents is due to more accidents, and not just the natural flow of the traffic.\n",
    "\n",
    "The data we will use to normalize the accidents is this:\n",
    "These data include the street and direction of the traffic, however no coordinate data so we won't easily be able to normalize traffic by geographical location. Instead, we can adjust the accident data by the hour based on the traffic flow.\n",
    "\n",
    "I plan to look at traffic count data, and determine the average traffic in a 24 hour period. I will then noramlize this, and then all traffic data throughout the day could be adjusted to these values. Then the accidents are noremalized to the normal traffic patterns!\n",
    "\n",
    "1. Find consecutive days of traffic where all hours have values\n",
    "2. Average the values over the number of days\n",
    "3. Express each hour's traffic as a percent of the peak hour. This is the value that we will adjust the accident data by.\n",
    "\n"
   ]
  },
  {
   "cell_type": "code",
   "execution_count": 1,
   "metadata": {},
   "outputs": [],
   "source": [
    "import pandas as pd\n",
    "import numpy as np\n",
    "import matplotlib.pyplot as plt\n",
    "import datetime"
   ]
  },
  {
   "cell_type": "code",
   "execution_count": 2,
   "metadata": {},
   "outputs": [
    {
     "name": "stderr",
     "output_type": "stream",
     "text": [
      "/Users/gene/anaconda3/lib/python3.7/site-packages/IPython/core/interactiveshell.py:3057: DtypeWarning: Columns (4) have mixed types. Specify dtype option on import or set low_memory=False.\n",
      "  interactivity=interactivity, compiler=compiler, result=result)\n"
     ]
    },
    {
     "data": {
      "text/html": [
       "<div>\n",
       "<style scoped>\n",
       "    .dataframe tbody tr th:only-of-type {\n",
       "        vertical-align: middle;\n",
       "    }\n",
       "\n",
       "    .dataframe tbody tr th {\n",
       "        vertical-align: top;\n",
       "    }\n",
       "\n",
       "    .dataframe thead th {\n",
       "        text-align: right;\n",
       "    }\n",
       "</style>\n",
       "<table border=\"1\" class=\"dataframe\">\n",
       "  <thead>\n",
       "    <tr style=\"text-align: right;\">\n",
       "      <th></th>\n",
       "      <th>datetime</th>\n",
       "      <th>date</th>\n",
       "      <th>time</th>\n",
       "      <th>borough</th>\n",
       "      <th>zip_code</th>\n",
       "      <th>latitude</th>\n",
       "      <th>longitude</th>\n",
       "      <th>location</th>\n",
       "      <th>on_street_name</th>\n",
       "      <th>cross_street_name</th>\n",
       "      <th>...</th>\n",
       "      <th>contributing_factor_vehicle_3</th>\n",
       "      <th>contributing_factor_vehicle_4</th>\n",
       "      <th>contributing_factor_vehicle_5</th>\n",
       "      <th>unique_key</th>\n",
       "      <th>vehicle_type_code_1</th>\n",
       "      <th>vehicle_type_code_2</th>\n",
       "      <th>vehicle_type_code_3</th>\n",
       "      <th>vehicle_type_code_4</th>\n",
       "      <th>vehicle_type_code_5</th>\n",
       "      <th>datetime.1</th>\n",
       "    </tr>\n",
       "    <tr>\n",
       "      <th>datetime</th>\n",
       "      <th></th>\n",
       "      <th></th>\n",
       "      <th></th>\n",
       "      <th></th>\n",
       "      <th></th>\n",
       "      <th></th>\n",
       "      <th></th>\n",
       "      <th></th>\n",
       "      <th></th>\n",
       "      <th></th>\n",
       "      <th></th>\n",
       "      <th></th>\n",
       "      <th></th>\n",
       "      <th></th>\n",
       "      <th></th>\n",
       "      <th></th>\n",
       "      <th></th>\n",
       "      <th></th>\n",
       "      <th></th>\n",
       "      <th></th>\n",
       "      <th></th>\n",
       "    </tr>\n",
       "  </thead>\n",
       "  <tbody>\n",
       "    <tr>\n",
       "      <th>2019-04-16</th>\n",
       "      <td>2019-04-16</td>\n",
       "      <td>2019-04-16</td>\n",
       "      <td>2019-09-08</td>\n",
       "      <td>MANHATTAN</td>\n",
       "      <td>10010</td>\n",
       "      <td>40.737885</td>\n",
       "      <td>-73.98091</td>\n",
       "      <td>(40.737885, -73.98091)</td>\n",
       "      <td>2 AVENUE</td>\n",
       "      <td>EAST 23 STREET</td>\n",
       "      <td>...</td>\n",
       "      <td>NaN</td>\n",
       "      <td>NaN</td>\n",
       "      <td>NaN</td>\n",
       "      <td>4116367</td>\n",
       "      <td>Sedan</td>\n",
       "      <td>Station Wagon/Sport Utility Vehicle</td>\n",
       "      <td>NaN</td>\n",
       "      <td>NaN</td>\n",
       "      <td>NaN</td>\n",
       "      <td>2019-04-16 00:00:00</td>\n",
       "    </tr>\n",
       "    <tr>\n",
       "      <th>2019-04-16</th>\n",
       "      <td>2019-04-16</td>\n",
       "      <td>2019-04-16</td>\n",
       "      <td>2019-09-08</td>\n",
       "      <td>QUEENS</td>\n",
       "      <td>11354</td>\n",
       "      <td>40.762756</td>\n",
       "      <td>-73.82261</td>\n",
       "      <td>(40.762756, -73.82261)</td>\n",
       "      <td>PARSONS BOULEVARD</td>\n",
       "      <td>38 AVENUE</td>\n",
       "      <td>...</td>\n",
       "      <td>NaN</td>\n",
       "      <td>NaN</td>\n",
       "      <td>NaN</td>\n",
       "      <td>4115878</td>\n",
       "      <td>Sedan</td>\n",
       "      <td>Box Truck</td>\n",
       "      <td>NaN</td>\n",
       "      <td>NaN</td>\n",
       "      <td>NaN</td>\n",
       "      <td>2019-04-16 00:00:00</td>\n",
       "    </tr>\n",
       "    <tr>\n",
       "      <th>2019-04-16</th>\n",
       "      <td>2019-04-16</td>\n",
       "      <td>2019-04-16</td>\n",
       "      <td>2019-09-08</td>\n",
       "      <td>QUEENS</td>\n",
       "      <td>11367</td>\n",
       "      <td>40.729404</td>\n",
       "      <td>-73.82282</td>\n",
       "      <td>(40.729404, -73.82282)</td>\n",
       "      <td>NaN</td>\n",
       "      <td>NaN</td>\n",
       "      <td>...</td>\n",
       "      <td>NaN</td>\n",
       "      <td>NaN</td>\n",
       "      <td>NaN</td>\n",
       "      <td>4115808</td>\n",
       "      <td>Station Wagon/Sport Utility Vehicle</td>\n",
       "      <td>Station Wagon/Sport Utility Vehicle</td>\n",
       "      <td>NaN</td>\n",
       "      <td>NaN</td>\n",
       "      <td>NaN</td>\n",
       "      <td>2019-04-16 00:00:00</td>\n",
       "    </tr>\n",
       "    <tr>\n",
       "      <th>2019-04-16</th>\n",
       "      <td>2019-04-16</td>\n",
       "      <td>2019-04-16</td>\n",
       "      <td>2019-09-08</td>\n",
       "      <td>QUEENS</td>\n",
       "      <td>11413</td>\n",
       "      <td>40.665485</td>\n",
       "      <td>-73.75374</td>\n",
       "      <td>(40.665485, -73.75374)</td>\n",
       "      <td>SOUTH CONDUIT AVENUE</td>\n",
       "      <td>224 STREET</td>\n",
       "      <td>...</td>\n",
       "      <td>NaN</td>\n",
       "      <td>NaN</td>\n",
       "      <td>NaN</td>\n",
       "      <td>4115916</td>\n",
       "      <td>Station Wagon/Sport Utility Vehicle</td>\n",
       "      <td>NaN</td>\n",
       "      <td>NaN</td>\n",
       "      <td>NaN</td>\n",
       "      <td>NaN</td>\n",
       "      <td>2019-04-16 00:00:00</td>\n",
       "    </tr>\n",
       "    <tr>\n",
       "      <th>2019-04-16</th>\n",
       "      <td>2019-04-16</td>\n",
       "      <td>2019-04-16</td>\n",
       "      <td>2019-09-08</td>\n",
       "      <td>NaN</td>\n",
       "      <td>NaN</td>\n",
       "      <td>40.810173</td>\n",
       "      <td>-73.95117</td>\n",
       "      <td>(40.810173, -73.95117)</td>\n",
       "      <td>WEST 125 STREET</td>\n",
       "      <td>NaN</td>\n",
       "      <td>...</td>\n",
       "      <td>NaN</td>\n",
       "      <td>NaN</td>\n",
       "      <td>NaN</td>\n",
       "      <td>4116309</td>\n",
       "      <td>Station Wagon/Sport Utility Vehicle</td>\n",
       "      <td>Taxi</td>\n",
       "      <td>NaN</td>\n",
       "      <td>NaN</td>\n",
       "      <td>NaN</td>\n",
       "      <td>2019-04-16 00:00:00</td>\n",
       "    </tr>\n",
       "  </tbody>\n",
       "</table>\n",
       "<p>5 rows × 31 columns</p>\n",
       "</div>"
      ],
      "text/plain": [
       "             datetime       date       time    borough zip_code   latitude  \\\n",
       "datetime                                                                     \n",
       "2019-04-16 2019-04-16 2019-04-16 2019-09-08  MANHATTAN    10010  40.737885   \n",
       "2019-04-16 2019-04-16 2019-04-16 2019-09-08     QUEENS    11354  40.762756   \n",
       "2019-04-16 2019-04-16 2019-04-16 2019-09-08     QUEENS    11367  40.729404   \n",
       "2019-04-16 2019-04-16 2019-04-16 2019-09-08     QUEENS    11413  40.665485   \n",
       "2019-04-16 2019-04-16 2019-04-16 2019-09-08        NaN      NaN  40.810173   \n",
       "\n",
       "            longitude                location  \\\n",
       "datetime                                        \n",
       "2019-04-16  -73.98091  (40.737885, -73.98091)   \n",
       "2019-04-16  -73.82261  (40.762756, -73.82261)   \n",
       "2019-04-16  -73.82282  (40.729404, -73.82282)   \n",
       "2019-04-16  -73.75374  (40.665485, -73.75374)   \n",
       "2019-04-16  -73.95117  (40.810173, -73.95117)   \n",
       "\n",
       "                              on_street_name cross_street_name  ...  \\\n",
       "datetime                                                        ...   \n",
       "2019-04-16  2 AVENUE                            EAST 23 STREET  ...   \n",
       "2019-04-16  PARSONS BOULEVARD                        38 AVENUE  ...   \n",
       "2019-04-16                               NaN               NaN  ...   \n",
       "2019-04-16  SOUTH CONDUIT AVENUE                    224 STREET  ...   \n",
       "2019-04-16  WEST 125 STREET                                NaN  ...   \n",
       "\n",
       "           contributing_factor_vehicle_3  contributing_factor_vehicle_4  \\\n",
       "datetime                                                                  \n",
       "2019-04-16                           NaN                            NaN   \n",
       "2019-04-16                           NaN                            NaN   \n",
       "2019-04-16                           NaN                            NaN   \n",
       "2019-04-16                           NaN                            NaN   \n",
       "2019-04-16                           NaN                            NaN   \n",
       "\n",
       "            contributing_factor_vehicle_5  unique_key  \\\n",
       "datetime                                                \n",
       "2019-04-16                            NaN     4116367   \n",
       "2019-04-16                            NaN     4115878   \n",
       "2019-04-16                            NaN     4115808   \n",
       "2019-04-16                            NaN     4115916   \n",
       "2019-04-16                            NaN     4116309   \n",
       "\n",
       "                            vehicle_type_code_1  \\\n",
       "datetime                                          \n",
       "2019-04-16                                Sedan   \n",
       "2019-04-16                                Sedan   \n",
       "2019-04-16  Station Wagon/Sport Utility Vehicle   \n",
       "2019-04-16  Station Wagon/Sport Utility Vehicle   \n",
       "2019-04-16  Station Wagon/Sport Utility Vehicle   \n",
       "\n",
       "                            vehicle_type_code_2  vehicle_type_code_3  \\\n",
       "datetime                                                               \n",
       "2019-04-16  Station Wagon/Sport Utility Vehicle                  NaN   \n",
       "2019-04-16                            Box Truck                  NaN   \n",
       "2019-04-16  Station Wagon/Sport Utility Vehicle                  NaN   \n",
       "2019-04-16                                  NaN                  NaN   \n",
       "2019-04-16                                 Taxi                  NaN   \n",
       "\n",
       "            vehicle_type_code_4  vehicle_type_code_5           datetime.1  \n",
       "datetime                                                                   \n",
       "2019-04-16                  NaN                  NaN  2019-04-16 00:00:00  \n",
       "2019-04-16                  NaN                  NaN  2019-04-16 00:00:00  \n",
       "2019-04-16                  NaN                  NaN  2019-04-16 00:00:00  \n",
       "2019-04-16                  NaN                  NaN  2019-04-16 00:00:00  \n",
       "2019-04-16                  NaN                  NaN  2019-04-16 00:00:00  \n",
       "\n",
       "[5 rows x 31 columns]"
      ]
     },
     "execution_count": 2,
     "metadata": {},
     "output_type": "execute_result"
    }
   ],
   "source": [
    "#read in the accident data. Read in full data, then will have to calculate counts. Want to do this\n",
    "#so that we can do alternate analyses later.\n",
    "accident_df = pd.read_csv('accident_df.csv', parse_dates=True)\n",
    "#set date  type to datetime64\n",
    "accident_df.datetime = accident_df.datetime.astype(\"datetime64\")\n",
    "accident_df.date = accident_df.date.astype(\"datetime64\")\n",
    "accident_df.time = accident_df.time.astype(\"datetime64\")\n",
    "# set datetime column to index. Unsure why not dropping 'datetime' column\n",
    "accident_df.set_index(pd.DatetimeIndex(accident_df['datetime']), inplace=True, drop=True)\n",
    "accident_df.head()"
   ]
  },
  {
   "cell_type": "code",
   "execution_count": 5,
   "metadata": {},
   "outputs": [
    {
     "data": {
      "text/html": [
       "<div>\n",
       "<style scoped>\n",
       "    .dataframe tbody tr th:only-of-type {\n",
       "        vertical-align: middle;\n",
       "    }\n",
       "\n",
       "    .dataframe tbody tr th {\n",
       "        vertical-align: top;\n",
       "    }\n",
       "\n",
       "    .dataframe thead th {\n",
       "        text-align: right;\n",
       "    }\n",
       "</style>\n",
       "<table border=\"1\" class=\"dataframe\">\n",
       "  <thead>\n",
       "    <tr style=\"text-align: right;\">\n",
       "      <th></th>\n",
       "      <th>hour</th>\n",
       "      <th>fraction</th>\n",
       "    </tr>\n",
       "  </thead>\n",
       "  <tbody>\n",
       "    <tr>\n",
       "      <th>0</th>\n",
       "      <td>00:00:00</td>\n",
       "      <td>0.395687</td>\n",
       "    </tr>\n",
       "    <tr>\n",
       "      <th>1</th>\n",
       "      <td>01:00:00</td>\n",
       "      <td>0.278726</td>\n",
       "    </tr>\n",
       "    <tr>\n",
       "      <th>2</th>\n",
       "      <td>02:00:00</td>\n",
       "      <td>0.208978</td>\n",
       "    </tr>\n",
       "    <tr>\n",
       "      <th>3</th>\n",
       "      <td>03:00:00</td>\n",
       "      <td>0.183593</td>\n",
       "    </tr>\n",
       "    <tr>\n",
       "      <th>4</th>\n",
       "      <td>04:00:00</td>\n",
       "      <td>0.218415</td>\n",
       "    </tr>\n",
       "  </tbody>\n",
       "</table>\n",
       "</div>"
      ],
      "text/plain": [
       "       hour  fraction\n",
       "0  00:00:00  0.395687\n",
       "1  01:00:00  0.278726\n",
       "2  02:00:00  0.208978\n",
       "3  03:00:00  0.183593\n",
       "4  04:00:00  0.218415"
      ]
     },
     "execution_count": 5,
     "metadata": {},
     "output_type": "execute_result"
    }
   ],
   "source": [
    "#read in the normalization data calculated from the traffic volume data\n",
    "hourly_volume_norm = pd.read_csv('hourly_volume_norm.csv', header=None, names=['hour', 'fraction'])\n",
    "hourly_volume_norm.head()"
   ]
  },
  {
   "cell_type": "markdown",
   "metadata": {},
   "source": [
    "Each entry in the database is an accident that was logged by NYPD. Therefore, we can get an hourly accident count by simply counting the number of entries per hour per day."
   ]
  },
  {
   "cell_type": "code",
   "execution_count": 7,
   "metadata": {},
   "outputs": [
    {
     "data": {
      "text/plain": [
       "(Timestamp('2012-07-01 00:00:00'), Timestamp('2019-04-16 00:00:00'))"
      ]
     },
     "execution_count": 7,
     "metadata": {},
     "output_type": "execute_result"
    }
   ],
   "source": [
    "accident_df.date.min(), accident_df.date.max()"
   ]
  },
  {
   "cell_type": "code",
   "execution_count": 8,
   "metadata": {},
   "outputs": [
    {
     "data": {
      "text/html": [
       "<div>\n",
       "<style scoped>\n",
       "    .dataframe tbody tr th:only-of-type {\n",
       "        vertical-align: middle;\n",
       "    }\n",
       "\n",
       "    .dataframe tbody tr th {\n",
       "        vertical-align: top;\n",
       "    }\n",
       "\n",
       "    .dataframe thead th {\n",
       "        text-align: right;\n",
       "    }\n",
       "</style>\n",
       "<table border=\"1\" class=\"dataframe\">\n",
       "  <thead>\n",
       "    <tr style=\"text-align: right;\">\n",
       "      <th></th>\n",
       "      <th>datetime</th>\n",
       "      <th>date</th>\n",
       "      <th>time</th>\n",
       "      <th>borough</th>\n",
       "      <th>zip_code</th>\n",
       "      <th>latitude</th>\n",
       "      <th>longitude</th>\n",
       "      <th>location</th>\n",
       "      <th>on_street_name</th>\n",
       "      <th>cross_street_name</th>\n",
       "      <th>...</th>\n",
       "      <th>contributing_factor_vehicle_3</th>\n",
       "      <th>contributing_factor_vehicle_4</th>\n",
       "      <th>contributing_factor_vehicle_5</th>\n",
       "      <th>unique_key</th>\n",
       "      <th>vehicle_type_code_1</th>\n",
       "      <th>vehicle_type_code_2</th>\n",
       "      <th>vehicle_type_code_3</th>\n",
       "      <th>vehicle_type_code_4</th>\n",
       "      <th>vehicle_type_code_5</th>\n",
       "      <th>datetime.1</th>\n",
       "    </tr>\n",
       "    <tr>\n",
       "      <th>datetime</th>\n",
       "      <th></th>\n",
       "      <th></th>\n",
       "      <th></th>\n",
       "      <th></th>\n",
       "      <th></th>\n",
       "      <th></th>\n",
       "      <th></th>\n",
       "      <th></th>\n",
       "      <th></th>\n",
       "      <th></th>\n",
       "      <th></th>\n",
       "      <th></th>\n",
       "      <th></th>\n",
       "      <th></th>\n",
       "      <th></th>\n",
       "      <th></th>\n",
       "      <th></th>\n",
       "      <th></th>\n",
       "      <th></th>\n",
       "      <th></th>\n",
       "      <th></th>\n",
       "    </tr>\n",
       "  </thead>\n",
       "  <tbody>\n",
       "    <tr>\n",
       "      <th>2019-04-16</th>\n",
       "      <td>2019-04-16</td>\n",
       "      <td>2019-04-16</td>\n",
       "      <td>2019-09-08</td>\n",
       "      <td>MANHATTAN</td>\n",
       "      <td>10010</td>\n",
       "      <td>40.737885</td>\n",
       "      <td>-73.98091</td>\n",
       "      <td>(40.737885, -73.98091)</td>\n",
       "      <td>2 AVENUE</td>\n",
       "      <td>EAST 23 STREET</td>\n",
       "      <td>...</td>\n",
       "      <td>NaN</td>\n",
       "      <td>NaN</td>\n",
       "      <td>NaN</td>\n",
       "      <td>4116367</td>\n",
       "      <td>Sedan</td>\n",
       "      <td>Station Wagon/Sport Utility Vehicle</td>\n",
       "      <td>NaN</td>\n",
       "      <td>NaN</td>\n",
       "      <td>NaN</td>\n",
       "      <td>2019-04-16 00:00:00</td>\n",
       "    </tr>\n",
       "    <tr>\n",
       "      <th>2019-04-16</th>\n",
       "      <td>2019-04-16</td>\n",
       "      <td>2019-04-16</td>\n",
       "      <td>2019-09-08</td>\n",
       "      <td>QUEENS</td>\n",
       "      <td>11354</td>\n",
       "      <td>40.762756</td>\n",
       "      <td>-73.82261</td>\n",
       "      <td>(40.762756, -73.82261)</td>\n",
       "      <td>PARSONS BOULEVARD</td>\n",
       "      <td>38 AVENUE</td>\n",
       "      <td>...</td>\n",
       "      <td>NaN</td>\n",
       "      <td>NaN</td>\n",
       "      <td>NaN</td>\n",
       "      <td>4115878</td>\n",
       "      <td>Sedan</td>\n",
       "      <td>Box Truck</td>\n",
       "      <td>NaN</td>\n",
       "      <td>NaN</td>\n",
       "      <td>NaN</td>\n",
       "      <td>2019-04-16 00:00:00</td>\n",
       "    </tr>\n",
       "    <tr>\n",
       "      <th>2019-04-16</th>\n",
       "      <td>2019-04-16</td>\n",
       "      <td>2019-04-16</td>\n",
       "      <td>2019-09-08</td>\n",
       "      <td>QUEENS</td>\n",
       "      <td>11367</td>\n",
       "      <td>40.729404</td>\n",
       "      <td>-73.82282</td>\n",
       "      <td>(40.729404, -73.82282)</td>\n",
       "      <td>NaN</td>\n",
       "      <td>NaN</td>\n",
       "      <td>...</td>\n",
       "      <td>NaN</td>\n",
       "      <td>NaN</td>\n",
       "      <td>NaN</td>\n",
       "      <td>4115808</td>\n",
       "      <td>Station Wagon/Sport Utility Vehicle</td>\n",
       "      <td>Station Wagon/Sport Utility Vehicle</td>\n",
       "      <td>NaN</td>\n",
       "      <td>NaN</td>\n",
       "      <td>NaN</td>\n",
       "      <td>2019-04-16 00:00:00</td>\n",
       "    </tr>\n",
       "    <tr>\n",
       "      <th>2019-04-16</th>\n",
       "      <td>2019-04-16</td>\n",
       "      <td>2019-04-16</td>\n",
       "      <td>2019-09-08</td>\n",
       "      <td>QUEENS</td>\n",
       "      <td>11413</td>\n",
       "      <td>40.665485</td>\n",
       "      <td>-73.75374</td>\n",
       "      <td>(40.665485, -73.75374)</td>\n",
       "      <td>SOUTH CONDUIT AVENUE</td>\n",
       "      <td>224 STREET</td>\n",
       "      <td>...</td>\n",
       "      <td>NaN</td>\n",
       "      <td>NaN</td>\n",
       "      <td>NaN</td>\n",
       "      <td>4115916</td>\n",
       "      <td>Station Wagon/Sport Utility Vehicle</td>\n",
       "      <td>NaN</td>\n",
       "      <td>NaN</td>\n",
       "      <td>NaN</td>\n",
       "      <td>NaN</td>\n",
       "      <td>2019-04-16 00:00:00</td>\n",
       "    </tr>\n",
       "    <tr>\n",
       "      <th>2019-04-16</th>\n",
       "      <td>2019-04-16</td>\n",
       "      <td>2019-04-16</td>\n",
       "      <td>2019-09-08</td>\n",
       "      <td>NaN</td>\n",
       "      <td>NaN</td>\n",
       "      <td>40.810173</td>\n",
       "      <td>-73.95117</td>\n",
       "      <td>(40.810173, -73.95117)</td>\n",
       "      <td>WEST 125 STREET</td>\n",
       "      <td>NaN</td>\n",
       "      <td>...</td>\n",
       "      <td>NaN</td>\n",
       "      <td>NaN</td>\n",
       "      <td>NaN</td>\n",
       "      <td>4116309</td>\n",
       "      <td>Station Wagon/Sport Utility Vehicle</td>\n",
       "      <td>Taxi</td>\n",
       "      <td>NaN</td>\n",
       "      <td>NaN</td>\n",
       "      <td>NaN</td>\n",
       "      <td>2019-04-16 00:00:00</td>\n",
       "    </tr>\n",
       "  </tbody>\n",
       "</table>\n",
       "<p>5 rows × 31 columns</p>\n",
       "</div>"
      ],
      "text/plain": [
       "             datetime       date       time    borough zip_code   latitude  \\\n",
       "datetime                                                                     \n",
       "2019-04-16 2019-04-16 2019-04-16 2019-09-08  MANHATTAN    10010  40.737885   \n",
       "2019-04-16 2019-04-16 2019-04-16 2019-09-08     QUEENS    11354  40.762756   \n",
       "2019-04-16 2019-04-16 2019-04-16 2019-09-08     QUEENS    11367  40.729404   \n",
       "2019-04-16 2019-04-16 2019-04-16 2019-09-08     QUEENS    11413  40.665485   \n",
       "2019-04-16 2019-04-16 2019-04-16 2019-09-08        NaN      NaN  40.810173   \n",
       "\n",
       "            longitude                location  \\\n",
       "datetime                                        \n",
       "2019-04-16  -73.98091  (40.737885, -73.98091)   \n",
       "2019-04-16  -73.82261  (40.762756, -73.82261)   \n",
       "2019-04-16  -73.82282  (40.729404, -73.82282)   \n",
       "2019-04-16  -73.75374  (40.665485, -73.75374)   \n",
       "2019-04-16  -73.95117  (40.810173, -73.95117)   \n",
       "\n",
       "                              on_street_name cross_street_name  ...  \\\n",
       "datetime                                                        ...   \n",
       "2019-04-16  2 AVENUE                            EAST 23 STREET  ...   \n",
       "2019-04-16  PARSONS BOULEVARD                        38 AVENUE  ...   \n",
       "2019-04-16                               NaN               NaN  ...   \n",
       "2019-04-16  SOUTH CONDUIT AVENUE                    224 STREET  ...   \n",
       "2019-04-16  WEST 125 STREET                                NaN  ...   \n",
       "\n",
       "           contributing_factor_vehicle_3  contributing_factor_vehicle_4  \\\n",
       "datetime                                                                  \n",
       "2019-04-16                           NaN                            NaN   \n",
       "2019-04-16                           NaN                            NaN   \n",
       "2019-04-16                           NaN                            NaN   \n",
       "2019-04-16                           NaN                            NaN   \n",
       "2019-04-16                           NaN                            NaN   \n",
       "\n",
       "            contributing_factor_vehicle_5  unique_key  \\\n",
       "datetime                                                \n",
       "2019-04-16                            NaN     4116367   \n",
       "2019-04-16                            NaN     4115878   \n",
       "2019-04-16                            NaN     4115808   \n",
       "2019-04-16                            NaN     4115916   \n",
       "2019-04-16                            NaN     4116309   \n",
       "\n",
       "                            vehicle_type_code_1  \\\n",
       "datetime                                          \n",
       "2019-04-16                                Sedan   \n",
       "2019-04-16                                Sedan   \n",
       "2019-04-16  Station Wagon/Sport Utility Vehicle   \n",
       "2019-04-16  Station Wagon/Sport Utility Vehicle   \n",
       "2019-04-16  Station Wagon/Sport Utility Vehicle   \n",
       "\n",
       "                            vehicle_type_code_2  vehicle_type_code_3  \\\n",
       "datetime                                                               \n",
       "2019-04-16  Station Wagon/Sport Utility Vehicle                  NaN   \n",
       "2019-04-16                            Box Truck                  NaN   \n",
       "2019-04-16  Station Wagon/Sport Utility Vehicle                  NaN   \n",
       "2019-04-16                                  NaN                  NaN   \n",
       "2019-04-16                                 Taxi                  NaN   \n",
       "\n",
       "            vehicle_type_code_4  vehicle_type_code_5           datetime.1  \n",
       "datetime                                                                   \n",
       "2019-04-16                  NaN                  NaN  2019-04-16 00:00:00  \n",
       "2019-04-16                  NaN                  NaN  2019-04-16 00:00:00  \n",
       "2019-04-16                  NaN                  NaN  2019-04-16 00:00:00  \n",
       "2019-04-16                  NaN                  NaN  2019-04-16 00:00:00  \n",
       "2019-04-16                  NaN                  NaN  2019-04-16 00:00:00  \n",
       "\n",
       "[5 rows x 31 columns]"
      ]
     },
     "execution_count": 8,
     "metadata": {},
     "output_type": "execute_result"
    }
   ],
   "source": [
    "accident_df.head()"
   ]
  },
  {
   "cell_type": "code",
   "execution_count": null,
   "metadata": {},
   "outputs": [],
   "source": [
    "#limited_accident_df = accident_df.loc['2014-09-13':'2019-04-16']\n",
    "#hourly_count = limited_accident_df['date'].resample('H').count()\n",
    "accident_counts_final = pd.Series(hourly_count.values)\n",
    "accident_counts_final"
   ]
  },
  {
   "cell_type": "code",
   "execution_count": 17,
   "metadata": {},
   "outputs": [
    {
     "data": {
      "text/plain": [
       "40248"
      ]
     },
     "execution_count": 17,
     "metadata": {},
     "output_type": "execute_result"
    }
   ],
   "source": [
    "len(accident_counts_final)"
   ]
  },
  {
   "cell_type": "code",
   "execution_count": null,
   "metadata": {},
   "outputs": [],
   "source": []
  },
  {
   "cell_type": "code",
   "execution_count": 18,
   "metadata": {},
   "outputs": [],
   "source": [
    "#trying to get values saved in dict with date and time so can easily slice\n",
    "accidents_counts = []\n",
    "for i_int, i in enumerate(pd.date_range(start='2014-09-13', end='2019-04-16', freq='D').date):\n",
    "    for j_int, j in enumerate(pd.date_range(start='0:00', end='23:00', freq='H').time):\n",
    "        accidents_counts.append({'date': str(i), 'time': str(j)})"
   ]
  },
  {
   "cell_type": "code",
   "execution_count": 21,
   "metadata": {},
   "outputs": [
    {
     "data": {
      "text/plain": [
       "{'date': '2014-09-13', 'time': '00:00:00'}"
      ]
     },
     "execution_count": 21,
     "metadata": {},
     "output_type": "execute_result"
    }
   ],
   "source": [
    "accidents_counts[0]\n"
   ]
  },
  {
   "cell_type": "code",
   "execution_count": 26,
   "metadata": {},
   "outputs": [
    {
     "data": {
      "text/html": [
       "<div>\n",
       "<style scoped>\n",
       "    .dataframe tbody tr th:only-of-type {\n",
       "        vertical-align: middle;\n",
       "    }\n",
       "\n",
       "    .dataframe tbody tr th {\n",
       "        vertical-align: top;\n",
       "    }\n",
       "\n",
       "    .dataframe thead th {\n",
       "        text-align: right;\n",
       "    }\n",
       "</style>\n",
       "<table border=\"1\" class=\"dataframe\">\n",
       "  <thead>\n",
       "    <tr style=\"text-align: right;\">\n",
       "      <th></th>\n",
       "      <th>date</th>\n",
       "      <th>time</th>\n",
       "      <th>counts</th>\n",
       "    </tr>\n",
       "  </thead>\n",
       "  <tbody>\n",
       "    <tr>\n",
       "      <th>0</th>\n",
       "      <td>2014-09-13</td>\n",
       "      <td>00:00:00</td>\n",
       "      <td>17</td>\n",
       "    </tr>\n",
       "    <tr>\n",
       "      <th>1</th>\n",
       "      <td>2014-09-13</td>\n",
       "      <td>01:00:00</td>\n",
       "      <td>21</td>\n",
       "    </tr>\n",
       "    <tr>\n",
       "      <th>2</th>\n",
       "      <td>2014-09-13</td>\n",
       "      <td>02:00:00</td>\n",
       "      <td>10</td>\n",
       "    </tr>\n",
       "    <tr>\n",
       "      <th>3</th>\n",
       "      <td>2014-09-13</td>\n",
       "      <td>03:00:00</td>\n",
       "      <td>7</td>\n",
       "    </tr>\n",
       "    <tr>\n",
       "      <th>4</th>\n",
       "      <td>2014-09-13</td>\n",
       "      <td>04:00:00</td>\n",
       "      <td>15</td>\n",
       "    </tr>\n",
       "  </tbody>\n",
       "</table>\n",
       "</div>"
      ],
      "text/plain": [
       "         date      time  counts\n",
       "0  2014-09-13  00:00:00      17\n",
       "1  2014-09-13  01:00:00      21\n",
       "2  2014-09-13  02:00:00      10\n",
       "3  2014-09-13  03:00:00       7\n",
       "4  2014-09-13  04:00:00      15"
      ]
     },
     "execution_count": 26,
     "metadata": {},
     "output_type": "execute_result"
    }
   ],
   "source": [
    "\n",
    "accidents_counts_df = pd.DataFrame(data=accidents_norm)\n",
    "accidents_counts_df.head()\n",
    "accidents_counts_df['counts'] = accident_counts_final\n",
    "accidents_counts_df.head()\n",
    "\n"
   ]
  },
  {
   "cell_type": "code",
   "execution_count": 33,
   "metadata": {},
   "outputs": [
    {
     "data": {
      "text/plain": [
       "<matplotlib.axes._subplots.AxesSubplot at 0x11d596da0>"
      ]
     },
     "execution_count": 33,
     "metadata": {},
     "output_type": "execute_result"
    },
    {
     "data": {
      "image/png": "[encoded data removed]",
      "text/plain": [
       "<Figure size 432x288 with 1 Axes>"
      ]
     },
     "metadata": {
      "needs_background": "light"
     },
     "output_type": "display_data"
    }
   ],
   "source": [
    "accidents_counts_df[accidents_counts_df['date'] == '2014-09-13'].plot.bar(width=1, edgecolor='k')"
   ]
  },
  {
   "cell_type": "code",
   "execution_count": 44,
   "metadata": {},
   "outputs": [],
   "source": [
    "test = accidents_counts_df.counts / hourly_volume_norm.fraction\n"
   ]
  },
  {
   "cell_type": "code",
   "execution_count": 45,
   "metadata": {},
   "outputs": [
    {
     "data": {
      "text/plain": [
       "<matplotlib.axes._subplots.AxesSubplot at 0x130dd2e48>"
      ]
     },
     "execution_count": 45,
     "metadata": {},
     "output_type": "execute_result"
    },
    {
     "data": {
      "image/png": "[encoded data removed]",
      "text/plain": [
       "<Figure size 432x288 with 1 Axes>"
      ]
     },
     "metadata": {
      "needs_background": "light"
     },
     "output_type": "display_data"
    }
   ],
   "source": [
    "test.iloc[0:23].plot.bar(width=1, edgecolor='k')"
   ]
  },
  {
   "cell_type": "markdown",
   "metadata": {},
   "source": [
    "# REGRESSION"
   ]
  },
  {
   "cell_type": "code",
   "execution_count": 52,
   "metadata": {},
   "outputs": [
    {
     "data": {
      "text/plain": [
       "array([    0,     1,     2, ..., 40245, 40246, 40247])"
      ]
     },
     "execution_count": 52,
     "metadata": {},
     "output_type": "execute_result"
    }
   ],
   "source": [
    "#preparing data\n",
    "# Convert the date into a number (of days since some point)\n",
    "\n",
    "#accidents_counts_df['datetime'] = pd.to_datetime(accidents_counts_df['date'] + ' ' + \\\n",
    "     #   accidents_counts_df['time'])\n",
    "\n",
    "accidents_counts_df.index.values"
   ]
  },
  {
   "cell_type": "code",
   "execution_count": 47,
   "metadata": {},
   "outputs": [],
   "source": [
    "from sklearn.model_selection import cross_val_score, GridSearchCV, train_test_split\n",
    "from sklearn.ensemble import RandomForestRegressor\n",
    "from sklearn.preprocessing import MinMaxScaler"
   ]
  },
  {
   "cell_type": "code",
   "execution_count": 65,
   "metadata": {},
   "outputs": [],
   "source": [
    "X_train, X_test, y_train, y_test = train_test_split(accidents_counts_df.index.values, \\\n",
    "                            accidents_counts_df['counts'], test_size=0.2, random_state=27)\n"
   ]
  },
  {
   "cell_type": "code",
   "execution_count": 74,
   "metadata": {},
   "outputs": [],
   "source": [
    "X_train = np.reshape(X_train, (-1,1))\n",
    "X_test = np.reshape(X_test, (-1,1))\n",
    "\n"
   ]
  },
  {
   "cell_type": "code",
   "execution_count": 76,
   "metadata": {},
   "outputs": [
    {
     "name": "stdout",
     "output_type": "stream",
     "text": [
      "[2.870137937817299, 7.6953701237572005, 0.9589878881740652, 0.710719291568234]\n"
     ]
    }
   ],
   "source": [
    "def rmse(x,y): return np.sqrt(((x-y)**2).mean())\n",
    "def print_score(m):\n",
    "    res = [rmse(m.predict(X_train), y_train), \n",
    "           rmse(m.predict(X_test), y_test),\n",
    "           m.score(X_train, y_train), \n",
    "           m.score(X_test, y_test)]\n",
    "    \n",
    "    if hasattr(m, 'oob_score_'):res.append(m.oob_score_)\n",
    "    print (res)\n",
    "\n",
    "m = RandomForestRegressor(n_estimators=50)\n",
    "m.fit(X_train, y_train)\n",
    "print_score(m)"
   ]
  },
  {
   "cell_type": "code",
   "execution_count": null,
   "metadata": {},
   "outputs": [],
   "source": []
  }
 ],
 "metadata": {
  "kernelspec": {
   "display_name": "Python 3",
   "language": "python",
   "name": "python3"
  },
  "language_info": {
   "codemirror_mode": {
    "name": "ipython",
    "version": 3
   },
   "file_extension": ".py",
   "mimetype": "text/x-python",
   "name": "python",
   "nbconvert_exporter": "python",
   "pygments_lexer": "ipython3",
   "version": "3.7.3"
  }
 },
 "nbformat": 4,
 "nbformat_minor": 2
}
