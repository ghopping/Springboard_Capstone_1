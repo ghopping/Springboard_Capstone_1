{
 "cells": [
  {
   "cell_type": "markdown",
   "metadata": {},
   "source": [
    "# Applying statistics to Capstone 1\n"
   ]
  },
  {
   "cell_type": "markdown",
   "metadata": {},
   "source": [
    "Two models are investigated in this capstone project - one is linear regression using ordinary least squares, the other is a Poisson regression. Here we'll investigate the fit of these regressions to our dataset."
   ]
  },
  {
   "cell_type": "code",
   "execution_count": 7,
   "metadata": {},
   "outputs": [],
   "source": [
    "import pickle\n",
    "import pandas as pd\n",
    "import numpy as np"
   ]
  },
  {
   "cell_type": "code",
   "execution_count": 14,
   "metadata": {},
   "outputs": [
    {
     "data": {
      "text/html": [
       "<div>\n",
       "<style scoped>\n",
       "    .dataframe tbody tr th:only-of-type {\n",
       "        vertical-align: middle;\n",
       "    }\n",
       "\n",
       "    .dataframe tbody tr th {\n",
       "        vertical-align: top;\n",
       "    }\n",
       "\n",
       "    .dataframe thead th {\n",
       "        text-align: right;\n",
       "    }\n",
       "</style>\n",
       "<table border=\"1\" class=\"dataframe\">\n",
       "  <thead>\n",
       "    <tr style=\"text-align: right;\">\n",
       "      <th></th>\n",
       "      <th>volume</th>\n",
       "      <th>date</th>\n",
       "      <th>time</th>\n",
       "      <th>accidents</th>\n",
       "    </tr>\n",
       "  </thead>\n",
       "  <tbody>\n",
       "    <tr>\n",
       "      <th>0</th>\n",
       "      <td>22709</td>\n",
       "      <td>2014-09-13</td>\n",
       "      <td>00:00:00</td>\n",
       "      <td>17</td>\n",
       "    </tr>\n",
       "    <tr>\n",
       "      <th>1</th>\n",
       "      <td>16322</td>\n",
       "      <td>2014-09-13</td>\n",
       "      <td>01:00:00</td>\n",
       "      <td>21</td>\n",
       "    </tr>\n",
       "    <tr>\n",
       "      <th>2</th>\n",
       "      <td>12008</td>\n",
       "      <td>2014-09-13</td>\n",
       "      <td>02:00:00</td>\n",
       "      <td>10</td>\n",
       "    </tr>\n",
       "    <tr>\n",
       "      <th>3</th>\n",
       "      <td>9937</td>\n",
       "      <td>2014-09-13</td>\n",
       "      <td>03:00:00</td>\n",
       "      <td>7</td>\n",
       "    </tr>\n",
       "    <tr>\n",
       "      <th>4</th>\n",
       "      <td>11198</td>\n",
       "      <td>2014-09-13</td>\n",
       "      <td>04:00:00</td>\n",
       "      <td>15</td>\n",
       "    </tr>\n",
       "  </tbody>\n",
       "</table>\n",
       "</div>"
      ],
      "text/plain": [
       "   volume        date      time  accidents\n",
       "0   22709  2014-09-13  00:00:00         17\n",
       "1   16322  2014-09-13  01:00:00         21\n",
       "2   12008  2014-09-13  02:00:00         10\n",
       "3    9937  2014-09-13  03:00:00          7\n",
       "4   11198  2014-09-13  04:00:00         15"
      ]
     },
     "execution_count": 14,
     "metadata": {},
     "output_type": "execute_result"
    }
   ],
   "source": [
    "accident_reg_df = pd.read_csv('accident_reg_df.csv', index_col=0)\n",
    "accident_reg_df.head()"
   ]
  },
  {
   "cell_type": "code",
   "execution_count": 15,
   "metadata": {},
   "outputs": [
    {
     "ename": "NameError",
     "evalue": "name 'merged_by_hour' is not defined",
     "output_type": "error",
     "traceback": [
      "\u001b[0;31m---------------------------------------------------------------------------\u001b[0m",
      "\u001b[0;31mNameError\u001b[0m                                 Traceback (most recent call last)",
      "\u001b[0;32m<ipython-input-15-314c28c2bf9b>\u001b[0m in \u001b[0;36m<module>\u001b[0;34m\u001b[0m\n\u001b[1;32m      1\u001b[0m \u001b[0;31m#look at both volume and accidents summed for each hour of the day. Divide by max to\u001b[0m\u001b[0;34m\u001b[0m\u001b[0;34m\u001b[0m\u001b[0;34m\u001b[0m\u001b[0m\n\u001b[1;32m      2\u001b[0m \u001b[0;31m# get faction max value so can see if have same general trend\u001b[0m\u001b[0;34m\u001b[0m\u001b[0;34m\u001b[0m\u001b[0;34m\u001b[0m\u001b[0m\n\u001b[0;32m----> 3\u001b[0;31m \u001b[0msummed_by_hour\u001b[0m \u001b[0;34m=\u001b[0m \u001b[0mmerged_by_hour\u001b[0m\u001b[0;34m.\u001b[0m\u001b[0mgroupby\u001b[0m\u001b[0;34m(\u001b[0m\u001b[0;34m[\u001b[0m\u001b[0;34m'time'\u001b[0m\u001b[0;34m]\u001b[0m\u001b[0;34m)\u001b[0m\u001b[0;34m.\u001b[0m\u001b[0msum\u001b[0m\u001b[0;34m(\u001b[0m\u001b[0;34m)\u001b[0m\u001b[0;34m\u001b[0m\u001b[0;34m\u001b[0m\u001b[0m\n\u001b[0m\u001b[1;32m      4\u001b[0m \u001b[0;34m\u001b[0m\u001b[0m\n\u001b[1;32m      5\u001b[0m \u001b[0;31m#plt.scatter(summed_by_hour.volume, summed_by_hour.accidents)\u001b[0m\u001b[0;34m\u001b[0m\u001b[0;34m\u001b[0m\u001b[0;34m\u001b[0m\u001b[0m\n",
      "\u001b[0;31mNameError\u001b[0m: name 'merged_by_hour' is not defined"
     ]
    }
   ],
   "source": [
    "#look at both volume and accidents summed for each hour of the day. Divide by max to\n",
    "# get faction max value so can see if have same general trend\n",
    "summed_by_hour = merged_by_hour.groupby(['time']).sum()\n",
    "\n",
    "#plt.scatter(summed_by_hour.volume, summed_by_hour.accidents)\n",
    "plt.figure(figsize=(12,6))\n",
    "plt.subplot(1,2,1)\n",
    "plt.bar(summed_by_hour.index, summed_by_hour.volume/summed_by_hour.volume.max(), label='volume')\n",
    "plt.bar(summed_by_hour.index, summed_by_hour.accidents/summed_by_hour.accidents.max(), alpha=0.8, \\\n",
    "        label='accidents')\n",
    "plt.title('Fraction of max accidents and traffic volume')\n",
    "plt.xlabel('hour')\n",
    "plt.ylabel('fraction of maximum')\n",
    "_ = plt.xticks(rotation=90)\n",
    "plt.legend()\n",
    "plt.subplot(1,2,2)\n",
    "_ = plt.scatter(summed_by_hour.volume, summed_by_hour.accidents)\n",
    "plt.title('Traffic accidents vs volume')\n",
    "plt.xlabel('Volume')\n",
    "plt.ylabel('Accidents')"
   ]
  },
  {
   "cell_type": "code",
   "execution_count": null,
   "metadata": {},
   "outputs": [],
   "source": []
  }
 ],
 "metadata": {
  "kernelspec": {
   "display_name": "Python 3",
   "language": "python",
   "name": "python3"
  },
  "language_info": {
   "codemirror_mode": {
    "name": "ipython",
    "version": 3
   },
   "file_extension": ".py",
   "mimetype": "text/x-python",
   "name": "python",
   "nbconvert_exporter": "python",
   "pygments_lexer": "ipython3",
   "version": "3.7.3"
  }
 },
 "nbformat": 4,
 "nbformat_minor": 2
}
